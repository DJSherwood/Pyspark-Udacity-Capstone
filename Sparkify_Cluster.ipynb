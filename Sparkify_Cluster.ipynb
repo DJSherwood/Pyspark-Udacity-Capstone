{
 "cells": [
  {
   "cell_type": "markdown",
   "id": "caaa4d03",
   "metadata": {},
   "source": [
    "# Start Session"
   ]
  },
  {
   "cell_type": "code",
   "execution_count": 1,
   "id": "1c5479a4",
   "metadata": {},
   "outputs": [
    {
     "data": {
      "application/vnd.jupyter.widget-view+json": {
       "model_id": "4c6c19ccc61b4f439b20141a056c0e8b",
       "version_major": 2,
       "version_minor": 0
      },
      "text/plain": [
       "VBox()"
      ]
     },
     "metadata": {},
     "output_type": "display_data"
    },
    {
     "name": "stdout",
     "output_type": "stream",
     "text": [
      "Starting Spark application\n"
     ]
    },
    {
     "data": {
      "text/html": [
       "<table>\n",
       "<tr><th>ID</th><th>YARN Application ID</th><th>Kind</th><th>State</th><th>Spark UI</th><th>Driver log</th><th>Current session?</th></tr><tr><td>0</td><td>application_1622216935872_0001</td><td>pyspark</td><td>idle</td><td><a target=\"_blank\" href=\"http://ip-172-31-22-91.us-east-2.compute.internal:20888/proxy/application_1622216935872_0001/\">Link</a></td><td><a target=\"_blank\" href=\"http://ip-172-31-24-139.us-east-2.compute.internal:8042/node/containerlogs/container_1622216935872_0001_01_000001/livy\">Link</a></td><td>✔</td></tr></table>"
      ],
      "text/plain": [
       "<IPython.core.display.HTML object>"
      ]
     },
     "metadata": {},
     "output_type": "display_data"
    },
    {
     "data": {
      "application/vnd.jupyter.widget-view+json": {
       "model_id": "",
       "version_major": 2,
       "version_minor": 0
      },
      "text/plain": [
       "FloatProgress(value=0.0, bar_style='info', description='Progress:', layout=Layout(height='25px', width='50%'),…"
      ]
     },
     "metadata": {},
     "output_type": "display_data"
    },
    {
     "name": "stdout",
     "output_type": "stream",
     "text": [
      "SparkSession available as 'spark'.\n"
     ]
    },
    {
     "data": {
      "application/vnd.jupyter.widget-view+json": {
       "model_id": "",
       "version_major": 2,
       "version_minor": 0
      },
      "text/plain": [
       "FloatProgress(value=0.0, bar_style='info', description='Progress:', layout=Layout(height='25px', width='50%'),…"
      ]
     },
     "metadata": {},
     "output_type": "display_data"
    },
    {
     "name": "stdout",
     "output_type": "stream",
     "text": [
      "Collecting pandas\n",
      "  Downloading https://files.pythonhosted.org/packages/51/51/48f3fc47c4e2144da2806dfb6629c4dd1fa3d5a143f9652b141e979a8ca9/pandas-1.2.4-cp37-cp37m-manylinux1_x86_64.whl (9.9MB)\n",
      "Requirement already satisfied: numpy>=1.16.5 in /usr/local/lib64/python3.7/site-packages (from pandas)\n",
      "Requirement already satisfied: pytz>=2017.3 in /usr/local/lib/python3.7/site-packages (from pandas)\n",
      "Collecting python-dateutil>=2.7.3 (from pandas)\n",
      "  Downloading https://files.pythonhosted.org/packages/d4/70/d60450c3dd48ef87586924207ae8907090de0b306af2bce5d134d78615cb/python_dateutil-2.8.1-py2.py3-none-any.whl (227kB)\n",
      "Requirement already satisfied: six>=1.5 in /usr/local/lib/python3.7/site-packages (from python-dateutil>=2.7.3->pandas)\n",
      "Installing collected packages: python-dateutil, pandas\n",
      "Successfully installed pandas-1.2.4 python-dateutil-2.8.1\n",
      "\n",
      "Collecting matplotlib\n",
      "  Downloading https://files.pythonhosted.org/packages/24/33/5568d443ba438d95d4db635dd69958056f087e57e1026bee56f959d53f9d/matplotlib-3.4.2-cp37-cp37m-manylinux1_x86_64.whl (10.3MB)\n",
      "Requirement already satisfied: numpy>=1.16 in /usr/local/lib64/python3.7/site-packages (from matplotlib)\n",
      "Collecting pyparsing>=2.2.1 (from matplotlib)\n",
      "  Downloading https://files.pythonhosted.org/packages/8a/bb/488841f56197b13700afd5658fc279a2025a39e22449b7cf29864669b15d/pyparsing-2.4.7-py2.py3-none-any.whl (67kB)\n",
      "Requirement already satisfied: python-dateutil>=2.7 in /mnt/tmp/1622217254571-0/lib/python3.7/site-packages (from matplotlib)\n",
      "Collecting pillow>=6.2.0 (from matplotlib)\n",
      "  Downloading https://files.pythonhosted.org/packages/33/34/542152297dcc6c47a9dcb0685eac6d652d878ed3cea83bf2b23cb988e857/Pillow-8.2.0-cp37-cp37m-manylinux1_x86_64.whl (3.0MB)\n",
      "Collecting cycler>=0.10 (from matplotlib)\n",
      "  Downloading https://files.pythonhosted.org/packages/f7/d2/e07d3ebb2bd7af696440ce7e754c59dd546ffe1bbe732c8ab68b9c834e61/cycler-0.10.0-py2.py3-none-any.whl\n",
      "Collecting kiwisolver>=1.0.1 (from matplotlib)\n",
      "  Downloading https://files.pythonhosted.org/packages/d2/46/231de802ade4225b76b96cffe419cf3ce52bbe92e3b092cf12db7d11c207/kiwisolver-1.3.1-cp37-cp37m-manylinux1_x86_64.whl (1.1MB)\n",
      "Requirement already satisfied: six>=1.5 in /usr/local/lib/python3.7/site-packages (from python-dateutil>=2.7->matplotlib)\n",
      "Installing collected packages: pyparsing, pillow, cycler, kiwisolver, matplotlib\n",
      "Successfully installed cycler-0.10.0 kiwisolver-1.3.1 matplotlib-3.4.2 pillow-8.2.0 pyparsing-2.4.7"
     ]
    }
   ],
   "source": [
    "# this has to be run on the cluster version \n",
    "sc.install_pypi_package(\"pandas\")\n",
    "sc.install_pypi_package(\"matplotlib\")"
   ]
  },
  {
   "cell_type": "code",
   "execution_count": 2,
   "id": "e67141e3",
   "metadata": {},
   "outputs": [
    {
     "data": {
      "application/vnd.jupyter.widget-view+json": {
       "model_id": "4cf19b90e83646acb6db2e07a15f3a53",
       "version_major": 2,
       "version_minor": 0
      },
      "text/plain": [
       "VBox()"
      ]
     },
     "metadata": {},
     "output_type": "display_data"
    },
    {
     "data": {
      "application/vnd.jupyter.widget-view+json": {
       "model_id": "",
       "version_major": 2,
       "version_minor": 0
      },
      "text/plain": [
       "FloatProgress(value=0.0, bar_style='info', description='Progress:', layout=Layout(height='25px', width='50%'),…"
      ]
     },
     "metadata": {},
     "output_type": "display_data"
    }
   ],
   "source": [
    "# import libraries\n",
    "from pyspark.sql import SparkSession\n",
    "from pyspark.sql import functions as F\n",
    "from pyspark.sql.window import Window\n",
    "from pyspark.sql import types as t\n",
    "from pyspark.ml.classification import LogisticRegression\n",
    "from pyspark.ml.feature import Imputer, StringIndexer, VectorAssembler\n",
    "from pyspark.ml import Pipeline\n",
    "from pyspark.ml.tuning import CrossValidator, ParamGridBuilder\n",
    "from pyspark.ml.evaluation import BinaryClassificationEvaluator\n",
    "from datetime import datetime as dt\n",
    "from pyspark.sql import types as T\n",
    "import pandas as pd\n",
    "import matplotlib.pyplot as plt"
   ]
  },
  {
   "cell_type": "code",
   "execution_count": 3,
   "id": "df575102",
   "metadata": {},
   "outputs": [
    {
     "data": {
      "application/vnd.jupyter.widget-view+json": {
       "model_id": "9a96ff52e1454d00a2d4c1d58ff76492",
       "version_major": 2,
       "version_minor": 0
      },
      "text/plain": [
       "VBox()"
      ]
     },
     "metadata": {},
     "output_type": "display_data"
    },
    {
     "data": {
      "application/vnd.jupyter.widget-view+json": {
       "model_id": "",
       "version_major": 2,
       "version_minor": 0
      },
      "text/plain": [
       "FloatProgress(value=0.0, bar_style='info', description='Progress:', layout=Layout(height='25px', width='50%'),…"
      ]
     },
     "metadata": {},
     "output_type": "display_data"
    }
   ],
   "source": [
    "# create a Spark session\n",
    "spark = SparkSession \\\n",
    "    .builder \\\n",
    "    .appName(\"sparkify\") \\\n",
    "    .getOrCreate()"
   ]
  },
  {
   "cell_type": "markdown",
   "id": "fd46d6c7",
   "metadata": {},
   "source": [
    "# Load Data\n",
    "Here the entire set of 26 million rows is loaded. "
   ]
  },
  {
   "cell_type": "code",
   "execution_count": 4,
   "id": "9ffcdec4",
   "metadata": {},
   "outputs": [
    {
     "data": {
      "application/vnd.jupyter.widget-view+json": {
       "model_id": "4877525211ed46f6bd51991fec2f141a",
       "version_major": 2,
       "version_minor": 0
      },
      "text/plain": [
       "VBox()"
      ]
     },
     "metadata": {},
     "output_type": "display_data"
    },
    {
     "data": {
      "application/vnd.jupyter.widget-view+json": {
       "model_id": "",
       "version_major": 2,
       "version_minor": 0
      },
      "text/plain": [
       "FloatProgress(value=0.0, bar_style='info', description='Progress:', layout=Layout(height='25px', width='50%'),…"
      ]
     },
     "metadata": {},
     "output_type": "display_data"
    }
   ],
   "source": [
    "# full dataset\n",
    "event_data = 's3n://udacity-dsnd/sparkify/sparkify_event_data.json'\n",
    "# mini dataset\n",
    "# event_data = s3n://udacity-dsnd/sparkify/mini_sparkify_event_data.json\n",
    "# udacity workspace\n",
    "# event_data = \"mini_sparkify_event_data.json\""
   ]
  },
  {
   "cell_type": "code",
   "execution_count": 5,
   "id": "8b4dbb6b",
   "metadata": {},
   "outputs": [
    {
     "data": {
      "application/vnd.jupyter.widget-view+json": {
       "model_id": "f8ad23a9493e46e38537bf3c72f90203",
       "version_major": 2,
       "version_minor": 0
      },
      "text/plain": [
       "VBox()"
      ]
     },
     "metadata": {},
     "output_type": "display_data"
    },
    {
     "data": {
      "application/vnd.jupyter.widget-view+json": {
       "model_id": "",
       "version_major": 2,
       "version_minor": 0
      },
      "text/plain": [
       "FloatProgress(value=0.0, bar_style='info', description='Progress:', layout=Layout(height='25px', width='50%'),…"
      ]
     },
     "metadata": {},
     "output_type": "display_data"
    }
   ],
   "source": [
    "df = spark.read.json(event_data)"
   ]
  },
  {
   "cell_type": "code",
   "execution_count": 9,
   "id": "9dc98958",
   "metadata": {},
   "outputs": [
    {
     "data": {
      "application/vnd.jupyter.widget-view+json": {
       "model_id": "a99ea806d5ca4f32af33e0ff21f49819",
       "version_major": 2,
       "version_minor": 0
      },
      "text/plain": [
       "VBox()"
      ]
     },
     "metadata": {},
     "output_type": "display_data"
    },
    {
     "data": {
      "application/vnd.jupyter.widget-view+json": {
       "model_id": "",
       "version_major": 2,
       "version_minor": 0
      },
      "text/plain": [
       "FloatProgress(value=0.0, bar_style='info', description='Progress:', layout=Layout(height='25px', width='50%'),…"
      ]
     },
     "metadata": {},
     "output_type": "display_data"
    },
    {
     "name": "stdout",
     "output_type": "stream",
     "text": [
      "+--------------------+---------+---------+------+-------------+--------+----------+-----+--------------------+------+--------+-------------+---------+--------------------+------+-------------+--------------------+-------+\n",
      "|              artist|     auth|firstName|gender|itemInSession|lastName|    length|level|            location|method|    page| registration|sessionId|                song|status|           ts|           userAgent| userId|\n",
      "+--------------------+---------+---------+------+-------------+--------+----------+-----+--------------------+------+--------+-------------+---------+--------------------+------+-------------+--------------------+-------+\n",
      "|           Popol Vuh|Logged In|    Shlok|     M|          278| Johnson| 524.32934| paid|Dallas-Fort Worth...|   PUT|NextSong|1533734541000|    22683|Ich mache einen S...|   200|1538352001000|\"Mozilla/5.0 (Win...|1749042|\n",
      "|         Los Bunkers|Logged In|  Vianney|     F|            9|  Miller| 238.39302| paid|San Francisco-Oak...|   PUT|NextSong|1537500318000|    20836|         MiÃÂ©ntele|   200|1538352002000|\"Mozilla/5.0 (Mac...|1563081|\n",
      "|                Lush|Logged In|     Vina|     F|          109|  Bailey| 140.35546| paid|            Hilo, HI|   PUT|NextSong|1536414505000|     4593|           Baby Talk|   200|1538352002000|Mozilla/5.0 (Maci...|1697168|\n",
      "|Barry Tuckwell/Ac...|Logged In|   Andres|     M|           71|   Foley| 277.15873| paid|       Watertown, SD|   PUT|NextSong|1534386660000|     6370|Horn Concerto No....|   200|1538352003000|\"Mozilla/5.0 (Mac...|1222580|\n",
      "|                 Yes|Logged In|  Aaliyah|     F|           21| Ramirez|1121.25342| paid|Baltimore-Columbi...|   PUT|NextSong|1537381415000|    22316|Close To The Edge...|   200|1538352003000|\"Mozilla/5.0 (Win...|1714398|\n",
      "+--------------------+---------+---------+------+-------------+--------+----------+-----+--------------------+------+--------+-------------+---------+--------------------+------+-------------+--------------------+-------+\n",
      "only showing top 5 rows"
     ]
    }
   ],
   "source": [
    "df.show(5)"
   ]
  },
  {
   "cell_type": "code",
   "execution_count": 7,
   "id": "1e791af6",
   "metadata": {},
   "outputs": [
    {
     "data": {
      "application/vnd.jupyter.widget-view+json": {
       "model_id": "97024c559407482e830d60f0cc37d60c",
       "version_major": 2,
       "version_minor": 0
      },
      "text/plain": [
       "VBox()"
      ]
     },
     "metadata": {},
     "output_type": "display_data"
    },
    {
     "data": {
      "application/vnd.jupyter.widget-view+json": {
       "model_id": "",
       "version_major": 2,
       "version_minor": 0
      },
      "text/plain": [
       "FloatProgress(value=0.0, bar_style='info', description='Progress:', layout=Layout(height='25px', width='50%'),…"
      ]
     },
     "metadata": {},
     "output_type": "display_data"
    },
    {
     "name": "stdout",
     "output_type": "stream",
     "text": [
      "(26259199, 18)"
     ]
    }
   ],
   "source": [
    "# the size of the dataset\n",
    "print((df.count(), len(df.columns)))"
   ]
  },
  {
   "cell_type": "markdown",
   "id": "80dc40d0",
   "metadata": {},
   "source": [
    "### How Many Nulls? "
   ]
  },
  {
   "cell_type": "code",
   "execution_count": 10,
   "id": "55aa6bef",
   "metadata": {},
   "outputs": [
    {
     "data": {
      "application/vnd.jupyter.widget-view+json": {
       "model_id": "ab45d13040f74a73b09393d94964d9c8",
       "version_major": 2,
       "version_minor": 0
      },
      "text/plain": [
       "VBox()"
      ]
     },
     "metadata": {},
     "output_type": "display_data"
    },
    {
     "data": {
      "application/vnd.jupyter.widget-view+json": {
       "model_id": "",
       "version_major": 2,
       "version_minor": 0
      },
      "text/plain": [
       "FloatProgress(value=0.0, bar_style='info', description='Progress:', layout=Layout(height='25px', width='50%'),…"
      ]
     },
     "metadata": {},
     "output_type": "display_data"
    },
    {
     "name": "stdout",
     "output_type": "stream",
     "text": [
      "-RECORD 0--------------------------\n",
      " artist        | 25.94175749841537 \n",
      " auth          | 0.0               \n",
      " firstName     | 3.055168770741172 \n",
      " gender        | 3.055168770741172 \n",
      " itemInSession | 0.0               \n",
      " lastName      | 3.055168770741172 \n",
      " length        | 25.94175749841537 \n",
      " level         | 0.0               \n",
      " location      | 3.055168770741172 \n",
      " method        | 0.0               \n",
      " page          | 0.0               \n",
      " registration  | 3.055168770741172 \n",
      " sessionId     | 0.0               \n",
      " song          | 25.94175749841537 \n",
      " status        | 0.0               \n",
      " ts            | 0.0               \n",
      " userAgent     | 3.055168770741172 \n",
      " userId        | 0.0"
     ]
    }
   ],
   "source": [
    "# show percent nulls\n",
    "# because 'artist','length','song' have so many missing values I will not use them\n",
    "df.select(\n",
    "    [\n",
    "        ( (F.count(F.when(F.isnull(c), c)) / F.count(c)) * 100 ) \\\n",
    "            .alias(c) for c in df.columns\n",
    "    ]\n",
    ").show(vertical=True)"
   ]
  },
  {
   "cell_type": "markdown",
   "id": "4bd1edbe",
   "metadata": {},
   "source": [
    "### Define Churn\n",
    "`Churn` is defined as when the app registers the `Cancellation Confirmation` page. This occurs for both free and paid users. "
   ]
  },
  {
   "cell_type": "code",
   "execution_count": 11,
   "id": "bb65dabb",
   "metadata": {},
   "outputs": [
    {
     "data": {
      "application/vnd.jupyter.widget-view+json": {
       "model_id": "4332c3f70c4743dfae3dffe70d854ebf",
       "version_major": 2,
       "version_minor": 0
      },
      "text/plain": [
       "VBox()"
      ]
     },
     "metadata": {},
     "output_type": "display_data"
    },
    {
     "data": {
      "application/vnd.jupyter.widget-view+json": {
       "model_id": "",
       "version_major": 2,
       "version_minor": 0
      },
      "text/plain": [
       "FloatProgress(value=0.0, bar_style='info', description='Progress:', layout=Layout(height='25px', width='50%'),…"
      ]
     },
     "metadata": {},
     "output_type": "display_data"
    }
   ],
   "source": [
    "# this is a binary, indicator column to be used to predict churn\n",
    "df = df.withColumn(\n",
    "    'churn',\n",
    "    F.when((F.col('page') =='Cancellation Confirmation'), 1) \\\n",
    "    .otherwise(0)\n",
    ")"
   ]
  },
  {
   "cell_type": "markdown",
   "id": "6e226267",
   "metadata": {},
   "source": [
    "# Data Exploration"
   ]
  },
  {
   "cell_type": "code",
   "execution_count": 12,
   "id": "ebe20ef4",
   "metadata": {},
   "outputs": [
    {
     "data": {
      "application/vnd.jupyter.widget-view+json": {
       "model_id": "9c05dac96e4643e2baaa4c8195d32955",
       "version_major": 2,
       "version_minor": 0
      },
      "text/plain": [
       "VBox()"
      ]
     },
     "metadata": {},
     "output_type": "display_data"
    },
    {
     "data": {
      "application/vnd.jupyter.widget-view+json": {
       "model_id": "",
       "version_major": 2,
       "version_minor": 0
      },
      "text/plain": [
       "FloatProgress(value=0.0, bar_style='info', description='Progress:', layout=Layout(height='25px', width='50%'),…"
      ]
     },
     "metadata": {},
     "output_type": "display_data"
    },
    {
     "name": "stdout",
     "output_type": "stream",
     "text": [
      "root\n",
      " |-- artist: string (nullable = true)\n",
      " |-- auth: string (nullable = true)\n",
      " |-- firstName: string (nullable = true)\n",
      " |-- gender: string (nullable = true)\n",
      " |-- itemInSession: long (nullable = true)\n",
      " |-- lastName: string (nullable = true)\n",
      " |-- length: double (nullable = true)\n",
      " |-- level: string (nullable = true)\n",
      " |-- location: string (nullable = true)\n",
      " |-- method: string (nullable = true)\n",
      " |-- page: string (nullable = true)\n",
      " |-- registration: long (nullable = true)\n",
      " |-- sessionId: long (nullable = true)\n",
      " |-- song: string (nullable = true)\n",
      " |-- status: long (nullable = true)\n",
      " |-- ts: long (nullable = true)\n",
      " |-- userAgent: string (nullable = true)\n",
      " |-- userId: string (nullable = true)\n",
      " |-- churn: integer (nullable = false)"
     ]
    }
   ],
   "source": [
    "df.printSchema()"
   ]
  },
  {
   "cell_type": "code",
   "execution_count": 13,
   "id": "670a6846",
   "metadata": {},
   "outputs": [
    {
     "data": {
      "application/vnd.jupyter.widget-view+json": {
       "model_id": "e61deda2085d46b7b1d958edda13e1a8",
       "version_major": 2,
       "version_minor": 0
      },
      "text/plain": [
       "VBox()"
      ]
     },
     "metadata": {},
     "output_type": "display_data"
    },
    {
     "data": {
      "application/vnd.jupyter.widget-view+json": {
       "model_id": "",
       "version_major": 2,
       "version_minor": 0
      },
      "text/plain": [
       "FloatProgress(value=0.0, bar_style='info', description='Progress:', layout=Layout(height='25px', width='50%'),…"
      ]
     },
     "metadata": {},
     "output_type": "display_data"
    }
   ],
   "source": [
    "# create udf\n",
    "get_month = F.udf(lambda month: dt.fromtimestamp( month / 1000.0 ).strftime(\"%m\") if month is not None else None)\n",
    "# \n",
    "df = df.withColumn(\"registrationMonth\", get_month(\"registration\").cast(T.IntegerType())) \\\n",
    "    .withColumn(\"tsMonth\", get_month(\"ts\").cast(T.IntegerType())) \\\n",
    "    .withColumn(\"diffMonth\", F.col(\"tsMonth\") - F.col(\"registrationMonth\"))"
   ]
  },
  {
   "cell_type": "code",
   "execution_count": 14,
   "id": "67c63017",
   "metadata": {},
   "outputs": [
    {
     "data": {
      "application/vnd.jupyter.widget-view+json": {
       "model_id": "e946285ace8648c4a6d11736addb3456",
       "version_major": 2,
       "version_minor": 0
      },
      "text/plain": [
       "VBox()"
      ]
     },
     "metadata": {},
     "output_type": "display_data"
    },
    {
     "data": {
      "application/vnd.jupyter.widget-view+json": {
       "model_id": "",
       "version_major": 2,
       "version_minor": 0
      },
      "text/plain": [
       "FloatProgress(value=0.0, bar_style='info', description='Progress:', layout=Layout(height='25px', width='50%'),…"
      ]
     },
     "metadata": {},
     "output_type": "display_data"
    }
   ],
   "source": [
    "cancel_rate_by_month = df.select(\"diffMonth\",\"churn\", \"userId\") \\\n",
    "    .filter(df.diffMonth > 0) \\\n",
    "    .filter(df.diffMonth < 6) \\\n",
    "    .dropDuplicates() \\\n",
    "    .groupBy(\"diffMonth\") \\\n",
    "    .pivot(\"churn\") \\\n",
    "    .agg(F.countDistinct(\"userId\").alias(\"userIdCount\")) \\\n",
    "    .orderBy(\"diffMonth\") \\\n",
    "    .withColumn(\"percent\", ( F.col(\"1\") / ( F.col(\"1\") + F.col(\"0\") ) ) * 100 ) \\\n",
    "    .select(\"diffMonth\", \"percent\") \\\n",
    "    .toPandas()"
   ]
  },
  {
   "cell_type": "code",
   "execution_count": 17,
   "id": "65f3e2af",
   "metadata": {},
   "outputs": [
    {
     "data": {
      "application/vnd.jupyter.widget-view+json": {
       "model_id": "e3b5a0ea40394629b68606d3a1c0a3c8",
       "version_major": 2,
       "version_minor": 0
      },
      "text/plain": [
       "VBox()"
      ]
     },
     "metadata": {},
     "output_type": "display_data"
    },
    {
     "data": {
      "application/vnd.jupyter.widget-view+json": {
       "model_id": "",
       "version_major": 2,
       "version_minor": 0
      },
      "text/plain": [
       "FloatProgress(value=0.0, bar_style='info', description='Progress:', layout=Layout(height='25px', width='50%'),…"
      ]
     },
     "metadata": {},
     "output_type": "display_data"
    },
    {
     "data": {
      "image/png": "[encoded data removed]",
      "text/plain": [
       "<IPython.core.display.Image object>"
      ]
     },
     "metadata": {},
     "output_type": "display_data"
    }
   ],
   "source": [
    "cancel_rate_by_month.plot(kind='bar',x='diffMonth',y='percent', color='blue')\n",
    "plt.title('Cancellation Rate by Registration Month Difference')\n",
    "plt.xlabel('# Months from Registration Date')\n",
    "plt.ylabel('% Cancellation')\n",
    "%matplot plt"
   ]
  },
  {
   "cell_type": "code",
   "execution_count": 18,
   "id": "5b3d16d1",
   "metadata": {},
   "outputs": [
    {
     "data": {
      "application/vnd.jupyter.widget-view+json": {
       "model_id": "265fccdaa11d49dcb0f1575ef417b421",
       "version_major": 2,
       "version_minor": 0
      },
      "text/plain": [
       "VBox()"
      ]
     },
     "metadata": {},
     "output_type": "display_data"
    },
    {
     "data": {
      "application/vnd.jupyter.widget-view+json": {
       "model_id": "",
       "version_major": 2,
       "version_minor": 0
      },
      "text/plain": [
       "FloatProgress(value=0.0, bar_style='info', description='Progress:', layout=Layout(height='25px', width='50%'),…"
      ]
     },
     "metadata": {},
     "output_type": "display_data"
    },
    {
     "name": "stdout",
     "output_type": "stream",
     "text": [
      "(5003, 22278, 18.338770572926215)"
     ]
    }
   ],
   "source": [
    "# users who have a cancellation value of 1\n",
    "users_who_quit = df.filter(df.churn==1) \\\n",
    "    .select(df.userId) \\\n",
    "    .dropDuplicates()\n",
    "\n",
    "# users who have a cancellation value of 0\n",
    "users_who_stayed = df.filter(df.churn==0) \\\n",
    "    .select(df.userId) \\\n",
    "    .dropDuplicates()\n",
    "\n",
    "# examine their lengths\n",
    "users_who_quit.count(), users_who_stayed.count(), ( users_who_quit.count() / (users_who_quit.count() + users_who_stayed.count())) * 100"
   ]
  },
  {
   "cell_type": "code",
   "execution_count": 19,
   "id": "7f9e8d9f",
   "metadata": {},
   "outputs": [
    {
     "data": {
      "application/vnd.jupyter.widget-view+json": {
       "model_id": "ca1a4e4b75274ce2ba2951d925bf961a",
       "version_major": 2,
       "version_minor": 0
      },
      "text/plain": [
       "VBox()"
      ]
     },
     "metadata": {},
     "output_type": "display_data"
    },
    {
     "data": {
      "application/vnd.jupyter.widget-view+json": {
       "model_id": "",
       "version_major": 2,
       "version_minor": 0
      },
      "text/plain": [
       "FloatProgress(value=0.0, bar_style='info', description='Progress:', layout=Layout(height='25px', width='50%'),…"
      ]
     },
     "metadata": {},
     "output_type": "display_data"
    }
   ],
   "source": [
    "# are cancellation rates the same between free and paid users? \n",
    "churn_table = df.select(\"level\",\"churn\",\"userId\") \\\n",
    "    .dropDuplicates() \\\n",
    "    .groupBy(\"level\") \\\n",
    "    .pivot(\"churn\") \\\n",
    "    .agg(F.count(\"userId\").alias(\"userIdCount\")) \\\n",
    "    .withColumn(\"percent\", (F.col(\"1\")/(F.col(\"1\") + F.col(\"0\")))*100) \\\n",
    "    .toPandas() "
   ]
  },
  {
   "cell_type": "code",
   "execution_count": 20,
   "id": "66afc5f1",
   "metadata": {},
   "outputs": [
    {
     "data": {
      "application/vnd.jupyter.widget-view+json": {
       "model_id": "133d33602310413da01446b84a76528c",
       "version_major": 2,
       "version_minor": 0
      },
      "text/plain": [
       "VBox()"
      ]
     },
     "metadata": {},
     "output_type": "display_data"
    },
    {
     "data": {
      "application/vnd.jupyter.widget-view+json": {
       "model_id": "",
       "version_major": 2,
       "version_minor": 0
      },
      "text/plain": [
       "FloatProgress(value=0.0, bar_style='info', description='Progress:', layout=Layout(height='25px', width='50%'),…"
      ]
     },
     "metadata": {},
     "output_type": "display_data"
    },
    {
     "data": {
      "image/png": "[encoded data removed]",
      "text/plain": [
       "<IPython.core.display.Image object>"
      ]
     },
     "metadata": {},
     "output_type": "display_data"
    }
   ],
   "source": [
    "churn_table.plot(kind='bar',x='level',y='percent')\n",
    "plt.title('Cancellation Rate by Membership Level')\n",
    "plt.xlabel('Membership Level')\n",
    "plt.ylabel('% Cancellation')\n",
    "%matplot plt"
   ]
  },
  {
   "cell_type": "code",
   "execution_count": 21,
   "id": "35faa617",
   "metadata": {},
   "outputs": [
    {
     "data": {
      "application/vnd.jupyter.widget-view+json": {
       "model_id": "be4a3fb2185440d5868312f59c81e619",
       "version_major": 2,
       "version_minor": 0
      },
      "text/plain": [
       "VBox()"
      ]
     },
     "metadata": {},
     "output_type": "display_data"
    },
    {
     "data": {
      "application/vnd.jupyter.widget-view+json": {
       "model_id": "",
       "version_major": 2,
       "version_minor": 0
      },
      "text/plain": [
       "FloatProgress(value=0.0, bar_style='info', description='Progress:', layout=Layout(height='25px', width='50%'),…"
      ]
     },
     "metadata": {},
     "output_type": "display_data"
    }
   ],
   "source": [
    "# are cancellation rates the same between genders? \n",
    "churn_table = df.select(\"gender\",\"churn\",\"userId\") \\\n",
    "    .filter(~F.isnull(\"gender\")) \\\n",
    "    .dropDuplicates() \\\n",
    "    .groupBy(\"gender\") \\\n",
    "    .pivot(\"churn\") \\\n",
    "    .agg(F.count(\"userId\").alias(\"userIdCount\")) \\\n",
    "    .withColumn(\"percent\", (F.col(\"1\")/(F.col(\"1\") + F.col(\"0\"))) * 100) \\\n",
    "    .toPandas()"
   ]
  },
  {
   "cell_type": "code",
   "execution_count": 22,
   "id": "dec87739",
   "metadata": {},
   "outputs": [
    {
     "data": {
      "application/vnd.jupyter.widget-view+json": {
       "model_id": "2b7eced0659c4c21aca411d96753f305",
       "version_major": 2,
       "version_minor": 0
      },
      "text/plain": [
       "VBox()"
      ]
     },
     "metadata": {},
     "output_type": "display_data"
    },
    {
     "data": {
      "application/vnd.jupyter.widget-view+json": {
       "model_id": "",
       "version_major": 2,
       "version_minor": 0
      },
      "text/plain": [
       "FloatProgress(value=0.0, bar_style='info', description='Progress:', layout=Layout(height='25px', width='50%'),…"
      ]
     },
     "metadata": {},
     "output_type": "display_data"
    },
    {
     "data": {
      "image/png": "[encoded data removed]",
      "text/plain": [
       "<IPython.core.display.Image object>"
      ]
     },
     "metadata": {},
     "output_type": "display_data"
    }
   ],
   "source": [
    "churn_table.plot(kind='bar',x='gender',y='percent')\n",
    "plt.title('Cancellation Rate by Gender')\n",
    "plt.xlabel('Gender')\n",
    "plt.ylabel('% Cancellation')\n",
    "%matplot plt"
   ]
  },
  {
   "cell_type": "markdown",
   "id": "a3011051",
   "metadata": {},
   "source": [
    "# Feature Engineering\n",
    "The goal is to predict behavior at the user level--specifically if the user 'churns' or not. Therefore, my feature engineering focuses on finding characteristics at the `user` level. For each feature, I create a dataframe with the `userId` as the key. The dataframes are joined together, ensuring that one row eqauls one unique `userId`. Finally, the `userId` column is dropped. \n",
    "\n",
    "Ideas for features are: \n",
    "1. Cumulative Totals Per User: \n",
    "    - Add Friends\n",
    "    - Add to Playlist\n",
    "    - Roll Advertisement\n",
    "    - Error\n",
    "    - Login / Logout\n",
    "    - Thumbs Up / Thumbs Down\n",
    "    - Submit Upgrade / Submit Downgrade\n",
    "\n",
    "2. Location: \n",
    "    - City\n",
    "    - State\n",
    "    \n",
    "3. userAgent: \n",
    "    - browser\n",
    "    - os \n",
    "    - brand\n",
    "    \n",
    "4. Time: \n",
    "    - Avg. Length of Session\n",
    "    - Time Spent as Free / Paid Level\n",
    "    - Time User spent on Sparkify\n",
    "    \n",
    "5. Gender of User / Registration Month"
   ]
  },
  {
   "cell_type": "markdown",
   "id": "23f1b430",
   "metadata": {},
   "source": [
    "### 1. Cumulative Totals DataFrame"
   ]
  },
  {
   "cell_type": "code",
   "execution_count": 23,
   "id": "d4017033",
   "metadata": {},
   "outputs": [
    {
     "data": {
      "application/vnd.jupyter.widget-view+json": {
       "model_id": "5d4a9e2171a545078fcce995b8f702ea",
       "version_major": 2,
       "version_minor": 0
      },
      "text/plain": [
       "VBox()"
      ]
     },
     "metadata": {},
     "output_type": "display_data"
    },
    {
     "data": {
      "application/vnd.jupyter.widget-view+json": {
       "model_id": "",
       "version_major": 2,
       "version_minor": 0
      },
      "text/plain": [
       "FloatProgress(value=0.0, bar_style='info', description='Progress:', layout=Layout(height='25px', width='50%'),…"
      ]
     },
     "metadata": {},
     "output_type": "display_data"
    },
    {
     "name": "stdout",
     "output_type": "stream",
     "text": [
      "+-------+----------+---------------+-----+----+------+-----------+-----------+---------+\n",
      "| userId|Add Friend|Add to Playlist|Error|Help|Logout|Roll Advert|Thumbs Down|Thumbs Up|\n",
      "+-------+----------+---------------+-----+----+------+-----------+-----------+---------+\n",
      "|1492713|         9|             20| null|   5|    13|         36|          3|       23|\n",
      "|1396135|        13|             21| null|   9|     8|          1|          9|       49|\n",
      "|1676292|        46|             44| null|   7|    21|          6|         17|       81|\n",
      "|1690101|        29|             71|    3|  14|    29|          6|         17|      217|\n",
      "|1076191|      null|              1| null|null|     1|          5|          1|        4|\n",
      "|1927371|         2|              9| null|   2|     3|          8|          5|       32|\n",
      "|1010669|        77|             69|    2|  14|    21|          5|         23|      139|\n",
      "|1976623|         2|              6| null|   3|     1|         15|          3|       11|\n",
      "|1110773|        10|              7| null|   4|     1|          1|          2|       15|\n",
      "|1430167|        15|             21|    1|   4|     9|       null|          8|       39|\n",
      "|1627452|        26|             35|    2|   2|    13|          8|         12|       50|\n",
      "|1768352|        33|             68|    2|  12|    21|         22|         21|      110|\n",
      "|1816366|      null|              2| null|   1|     2|          9|          2|       10|\n",
      "|1891338|         7|              7|    1|   3|     3|          6|          3|       19|\n",
      "|1460523|        46|             38| null|  10|    29|          5|         15|       71|\n",
      "|1356571|        18|             21|    1|   4|    12|         22|         13|       39|\n",
      "|1556730|        20|             32|    3|   8|    20|         26|          9|       60|\n",
      "|1264247|        19|             22|    1|   4|    10|       null|          9|       38|\n",
      "|1844759|        37|             62|    7|  13|    32|          5|         26|       97|\n",
      "|1433360|      null|           null| null|null|  null|          4|          1|        3|\n",
      "+-------+----------+---------------+-----+----+------+-----------+-----------+---------+\n",
      "only showing top 20 rows"
     ]
    }
   ],
   "source": [
    "# Cumulative Totals of Page Per User\n",
    "page_list = [\"Add Friend\", \"Add to Playlist\", \"Logout\", \"Thumbs Up\", \n",
    "             \"Thumbs Down\", \"Error\", \"Roll Advert\", \"Help\"]\n",
    "\n",
    "user_page = df.select(\"userId\",\"page\") \\\n",
    "    .filter(F.col(\"page\").isin(page_list)) \\\n",
    "    .groupBy(\"userId\") \\\n",
    "    .pivot(\"page\") \\\n",
    "    .agg(F.count(\"page\").alias(\"page_count\"))\n",
    "\n",
    "user_page.show()"
   ]
  },
  {
   "cell_type": "markdown",
   "id": "f8805c6d",
   "metadata": {},
   "source": [
    "### 2. Location DataFrame"
   ]
  },
  {
   "cell_type": "code",
   "execution_count": 24,
   "id": "3718db84",
   "metadata": {},
   "outputs": [
    {
     "data": {
      "application/vnd.jupyter.widget-view+json": {
       "model_id": "db3ce29bccc94521a69b2169882529e9",
       "version_major": 2,
       "version_minor": 0
      },
      "text/plain": [
       "VBox()"
      ]
     },
     "metadata": {},
     "output_type": "display_data"
    },
    {
     "data": {
      "application/vnd.jupyter.widget-view+json": {
       "model_id": "",
       "version_major": 2,
       "version_minor": 0
      },
      "text/plain": [
       "FloatProgress(value=0.0, bar_style='info', description='Progress:', layout=Layout(height='25px', width='50%'),…"
      ]
     },
     "metadata": {},
     "output_type": "display_data"
    },
    {
     "name": "stdout",
     "output_type": "stream",
     "text": [
      "+-------+--------------------+---------+\n",
      "| userId|                city|    state|\n",
      "+-------+--------------------+---------+\n",
      "|1952240|              Wilson|       NC|\n",
      "|1268300|San Antonio-New B...|       TX|\n",
      "|1466490|Seattle-Tacoma-Be...|       WA|\n",
      "|1613995|          Cincinnati| OH-KY-IN|\n",
      "|1585384|Seattle-Tacoma-Be...|       WA|\n",
      "|1717762|North Port-Saraso...|       FL|\n",
      "|1918902|Miami-Fort Lauder...|       FL|\n",
      "|1608368|Seattle-Tacoma-Be...|       WA|\n",
      "|1626875|  Vineland-Bridgeton|       NJ|\n",
      "|1743156|               Kapaa|       HI|\n",
      "|1303002|        Williamsport|       PA|\n",
      "|1571170|Boston-Cambridge-...|    MA-NH|\n",
      "|1267740|         Tallahassee|       FL|\n",
      "|1612851|             El Paso|       TX|\n",
      "|1336976|Gulfport-Biloxi-P...|       MS|\n",
      "|1230631|       Coeur d'Alene|       ID|\n",
      "|1882847| Niles-Benton Harbor|       MI|\n",
      "|1072073|Detroit-Warren-De...|       MI|\n",
      "|1893294|New York-Newark-J...| NY-NJ-PA|\n",
      "|1161627|New Orleans-Metairie|       LA|\n",
      "+-------+--------------------+---------+\n",
      "only showing top 20 rows"
     ]
    }
   ],
   "source": [
    "# split the 'location' field into 'city' and 'state fields'\n",
    "user_location = df.withColumn('city', F.split(df['location'], ',').getItem(0)) \\\n",
    "    .withColumn('state', F.split(df['location'], ',').getItem(1)) \\\n",
    "    .select(\"userId\",\"city\",\"state\") \\\n",
    "    .dropDuplicates()\n",
    "\n",
    "user_location.show()"
   ]
  },
  {
   "cell_type": "markdown",
   "id": "1490c68d",
   "metadata": {},
   "source": [
    "### 3. Browser/Device DataFrame"
   ]
  },
  {
   "cell_type": "code",
   "execution_count": 25,
   "id": "64f0af73",
   "metadata": {},
   "outputs": [
    {
     "data": {
      "application/vnd.jupyter.widget-view+json": {
       "model_id": "1c76dd407602417e95d237a0a8a99948",
       "version_major": 2,
       "version_minor": 0
      },
      "text/plain": [
       "VBox()"
      ]
     },
     "metadata": {},
     "output_type": "display_data"
    },
    {
     "data": {
      "application/vnd.jupyter.widget-view+json": {
       "model_id": "",
       "version_major": 2,
       "version_minor": 0
      },
      "text/plain": [
       "FloatProgress(value=0.0, bar_style='info', description='Progress:', layout=Layout(height='25px', width='50%'),…"
      ]
     },
     "metadata": {},
     "output_type": "display_data"
    },
    {
     "name": "stdout",
     "output_type": "stream",
     "text": [
      "+-------+-------------+--------------------+--------------------+\n",
      "| userId|      browser|                  os|               brand|\n",
      "+-------+-------------+--------------------+--------------------+\n",
      "|1767318|\"Mozilla/5.0 |           Macintosh| Intel Mac OS X 1...|\n",
      "|1746631|\"Mozilla/5.0 |           Macintosh| Intel Mac OS X 1...|\n",
      "|1490241|\"Mozilla/5.0 |           Macintosh| Intel Mac OS X 1...|\n",
      "|1869069|\"Mozilla/5.0 |      Windows NT 6.1| WOW64) AppleWebK...|\n",
      "|1697168| Mozilla/5.0 |           Macintosh| Intel Mac OS X 10.9|\n",
      "|1115082|\"Mozilla/5.0 |      Windows NT 6.1| WOW64) AppleWebK...|\n",
      "|1411971|\"Mozilla/5.0 |      Windows NT 6.3| WOW64) AppleWebK...|\n",
      "|1930998| Mozilla/5.0 |          compatible|           MSIE 10.0|\n",
      "|1791856|\"Mozilla/5.0 |           Macintosh| Intel Mac OS X 1...|\n",
      "|1869054|\"Mozilla/5.0 |              iPhone| CPU iPhone OS 7_...|\n",
      "|1171472|\"Mozilla/5.0 |           Macintosh| Intel Mac OS X 1...|\n",
      "|1572943|\"Mozilla/5.0 |           Macintosh| Intel Mac OS X 1...|\n",
      "|1391043|\"Mozilla/5.0 |           Macintosh| Intel Mac OS X 1...|\n",
      "|1556745|\"Mozilla/5.0 |           Macintosh| Intel Mac OS X 1...|\n",
      "|1916047|\"Mozilla/5.0 |Windows NT 6.1) A...|                null|\n",
      "|1008619|\"Mozilla/5.0 |      Windows NT 6.3| WOW64) AppleWebK...|\n",
      "|1272059|\"Mozilla/5.0 |Windows NT 5.1) A...|                null|\n",
      "|1403675|\"Mozilla/5.0 |           Macintosh| Intel Mac OS X 1...|\n",
      "|1422786| Mozilla/5.0 |      Windows NT 6.1|               WOW64|\n",
      "|1407099|\"Mozilla/5.0 |           Macintosh| Intel Mac OS X 1...|\n",
      "+-------+-------------+--------------------+--------------------+\n",
      "only showing top 20 rows"
     ]
    }
   ],
   "source": [
    "# create browser, os, brand from userAgent\n",
    "df = df.withColumn('browser', F.split(df['userAgent'], '\\(').getItem(0)) \\\n",
    "    .withColumn('temp', F.split(df['userAgent'], '\\(').getItem(1)) \n",
    "\n",
    "df = df.withColumn('os', F.split(df['temp'], ';').getItem(0)) \\\n",
    "    .withColumn('brand', F.split(df['temp'], ';').getItem(1))\n",
    "\n",
    "user_browser = df.select(\"userId\",\"browser\",\"os\",\"brand\").dropDuplicates()\n",
    "\n",
    "user_browser.show()"
   ]
  },
  {
   "cell_type": "markdown",
   "id": "eb99df91",
   "metadata": {},
   "source": [
    "### 4. Time DataFrames"
   ]
  },
  {
   "cell_type": "code",
   "execution_count": 26,
   "id": "501c8515",
   "metadata": {},
   "outputs": [
    {
     "data": {
      "application/vnd.jupyter.widget-view+json": {
       "model_id": "83290a63a1614a4a8308ee5df74714d7",
       "version_major": 2,
       "version_minor": 0
      },
      "text/plain": [
       "VBox()"
      ]
     },
     "metadata": {},
     "output_type": "display_data"
    },
    {
     "data": {
      "application/vnd.jupyter.widget-view+json": {
       "model_id": "",
       "version_major": 2,
       "version_minor": 0
      },
      "text/plain": [
       "FloatProgress(value=0.0, bar_style='info', description='Progress:', layout=Layout(height='25px', width='50%'),…"
      ]
     },
     "metadata": {},
     "output_type": "display_data"
    },
    {
     "name": "stdout",
     "output_type": "stream",
     "text": [
      "+-------+---------------+\n",
      "| userId|avgSessionHours|\n",
      "+-------+---------------+\n",
      "|1114507|            4.4|\n",
      "|1142513|            3.3|\n",
      "|1180406|            4.3|\n",
      "|1271218|            6.9|\n",
      "|1338783|            7.9|\n",
      "|1349958|            5.3|\n",
      "|1380035|            5.5|\n",
      "|1396135|            7.6|\n",
      "|1440693|            1.4|\n",
      "|1624220|            1.8|\n",
      "|1690101|            4.4|\n",
      "|1699838|            3.4|\n",
      "|1880560|            6.7|\n",
      "|1001393|            5.2|\n",
      "|1025974|            4.2|\n",
      "|1216358|            2.1|\n",
      "|1297189|            3.6|\n",
      "|1766909|            2.1|\n",
      "|1883991|            7.6|\n",
      "|1972195|            6.0|\n",
      "+-------+---------------+\n",
      "only showing top 20 rows"
     ]
    }
   ],
   "source": [
    "# create window partition\n",
    "w = Window.partitionBy(\"userId\",\"sessionId\").orderBy(\"sessionId\")\n",
    "# calculate session duration ( per user ) in HOURS\n",
    "user_sess_dur = df.select(\"userId\",\"sessionId\",\"ts\") \\\n",
    "    .withColumn(\"max_ts\", F.max('ts').over(w)) \\\n",
    "    .withColumn(\"min_ts\", F.min('ts').over(w)) \\\n",
    "    .withColumn(\"tsDiff\", ( F.col('max_ts') - F.col('min_ts')) / ( 1000 * 3600 )) \\\n",
    "    .select(\"userId\",\"sessionId\",\"tsDiff\") \\\n",
    "    .dropDuplicates() \\\n",
    "    .groupBy(\"userId\") \\\n",
    "    .agg(F.round(F.avg(\"tsDiff\"),1).alias(\"avgSessionHours\"))\n",
    "\n",
    "user_sess_dur.show()"
   ]
  },
  {
   "cell_type": "code",
   "execution_count": 27,
   "id": "2efa06ff",
   "metadata": {},
   "outputs": [
    {
     "data": {
      "application/vnd.jupyter.widget-view+json": {
       "model_id": "e7ac57c23e8d4671949da31cb0b1408d",
       "version_major": 2,
       "version_minor": 0
      },
      "text/plain": [
       "VBox()"
      ]
     },
     "metadata": {},
     "output_type": "display_data"
    },
    {
     "data": {
      "application/vnd.jupyter.widget-view+json": {
       "model_id": "",
       "version_major": 2,
       "version_minor": 0
      },
      "text/plain": [
       "FloatProgress(value=0.0, bar_style='info', description='Progress:', layout=Layout(height='25px', width='50%'),…"
      ]
     },
     "metadata": {},
     "output_type": "display_data"
    },
    {
     "name": "stdout",
     "output_type": "stream",
     "text": [
      "+-------+--------+\n",
      "| userId|daysUsed|\n",
      "+-------+--------+\n",
      "|1001393|    58.6|\n",
      "|1002143|    57.2|\n",
      "|1002493|     8.4|\n",
      "|1002749|    55.9|\n",
      "|1004060|    48.0|\n",
      "|1004316|    53.2|\n",
      "|1006033|    45.2|\n",
      "|1006411|    59.5|\n",
      "|1006697|    50.9|\n",
      "|1008110|    38.1|\n",
      "|1008244|     3.3|\n",
      "|1008404|    39.0|\n",
      "|1010669|    60.0|\n",
      "|1010907|    49.2|\n",
      "|1011093|    57.7|\n",
      "|1011149|    50.2|\n",
      "|1011630|    31.3|\n",
      "|1012906|    10.0|\n",
      "|1013788|    37.6|\n",
      "|1016331|    23.5|\n",
      "+-------+--------+\n",
      "only showing top 20 rows"
     ]
    }
   ],
   "source": [
    "# create window partition\n",
    "w = Window.partitionBy(\"userId\").orderBy(\"userId\")\n",
    "# calculate total time used\n",
    "user_days = df.select(\"userId\",\"ts\") \\\n",
    "    .withColumn(\"max_ts\", F.max('ts').over(w)) \\\n",
    "    .withColumn(\"min_ts\", F.min('ts').over(w)) \\\n",
    "    .withColumn(\"daysUsed\", F.round(( F.col('max_ts') - F.col('min_ts') ) / ( 1000 * 3600 * 24), 1)) \\\n",
    "    .select(\"userId\", \"daysUsed\") \\\n",
    "    .dropDuplicates()\n",
    "\n",
    "user_days.show()"
   ]
  },
  {
   "cell_type": "code",
   "execution_count": 28,
   "id": "4b55c30d",
   "metadata": {},
   "outputs": [
    {
     "data": {
      "application/vnd.jupyter.widget-view+json": {
       "model_id": "f4ce79873aaf4e5fb2398cf95f0be8a2",
       "version_major": 2,
       "version_minor": 0
      },
      "text/plain": [
       "VBox()"
      ]
     },
     "metadata": {},
     "output_type": "display_data"
    },
    {
     "data": {
      "application/vnd.jupyter.widget-view+json": {
       "model_id": "",
       "version_major": 2,
       "version_minor": 0
      },
      "text/plain": [
       "FloatProgress(value=0.0, bar_style='info', description='Progress:', layout=Layout(height='25px', width='50%'),…"
      ]
     },
     "metadata": {},
     "output_type": "display_data"
    },
    {
     "name": "stdout",
     "output_type": "stream",
     "text": [
      "+-------+----+----+\n",
      "| userId|free|paid|\n",
      "+-------+----+----+\n",
      "|1076191| 7.9|null|\n",
      "|1114507|15.8|43.9|\n",
      "|1271218|44.2|53.4|\n",
      "|1695825| 0.0|null|\n",
      "|1216358|32.9|10.3|\n",
      "|1337238|56.1|null|\n",
      "|1823263|33.8|null|\n",
      "|1553256| 5.5|31.1|\n",
      "|1754369|36.5| 9.0|\n",
      "|1844759| 0.0|56.6|\n",
      "|1857514|46.0|11.5|\n",
      "|1416126|24.9|33.1|\n",
      "|1877212| 0.2|60.0|\n",
      "|1303829|39.1|null|\n",
      "|1460896|56.3|32.9|\n",
      "|1558241|52.6| 5.7|\n",
      "|1616882|12.5| 4.6|\n",
      "|1269506| 0.0| 0.3|\n",
      "|1479463| 5.5|41.8|\n",
      "|1011093|57.7|29.7|\n",
      "+-------+----+----+\n",
      "only showing top 20 rows"
     ]
    }
   ],
   "source": [
    "# create window partition\n",
    "w = Window.partitionBy(\"userId\", \"level\").orderBy(\"userId\")\n",
    "\n",
    "user_level = df.select(\"userId\", \"level\", \"ts\") \\\n",
    "    .withColumn(\"max_ts\", F.max(\"ts\").over(w)) \\\n",
    "    .withColumn(\"min_ts\", F.min(\"ts\").over(w)) \\\n",
    "    .withColumn(\"daysAs\", (F.col(\"max_ts\") - F.col(\"min_ts\")) / (1000 * 3600 * 24)) \\\n",
    "    .select(\"userId\",\"level\",\"daysAs\") \\\n",
    "    .dropDuplicates() \\\n",
    "    .groupBy(\"userId\") \\\n",
    "    .pivot(\"level\") \\\n",
    "    .agg(F.round(F.avg(\"daysAs\"),1))\n",
    "\n",
    "user_level.show()"
   ]
  },
  {
   "cell_type": "markdown",
   "id": "768390f0",
   "metadata": {},
   "source": [
    "### 5. Gender and Registration Month DataFrame"
   ]
  },
  {
   "cell_type": "code",
   "execution_count": 29,
   "id": "bdec99c1",
   "metadata": {},
   "outputs": [
    {
     "data": {
      "application/vnd.jupyter.widget-view+json": {
       "model_id": "19660e693eaf4892b788682d4ede1ef8",
       "version_major": 2,
       "version_minor": 0
      },
      "text/plain": [
       "VBox()"
      ]
     },
     "metadata": {},
     "output_type": "display_data"
    },
    {
     "data": {
      "application/vnd.jupyter.widget-view+json": {
       "model_id": "",
       "version_major": 2,
       "version_minor": 0
      },
      "text/plain": [
       "FloatProgress(value=0.0, bar_style='info', description='Progress:', layout=Layout(height='25px', width='50%'),…"
      ]
     },
     "metadata": {},
     "output_type": "display_data"
    },
    {
     "name": "stdout",
     "output_type": "stream",
     "text": [
      "+-------+------+-----------------+\n",
      "| userId|gender|registrationMonth|\n",
      "+-------+------+-----------------+\n",
      "|1676531|     F|                7|\n",
      "|1416906|     M|                9|\n",
      "|1997379|     M|                9|\n",
      "|1649859|     M|                8|\n",
      "|1201265|     M|                8|\n",
      "|1844374|     F|                9|\n",
      "|1795089|     M|                9|\n",
      "|1065146|     M|                9|\n",
      "|1374533|     M|                6|\n",
      "|1222662|     F|                9|\n",
      "|1458761|     M|                9|\n",
      "|1095073|     F|                7|\n",
      "|1879941|     F|                9|\n",
      "|1347570|     F|                9|\n",
      "|1526362|     M|                9|\n",
      "|1173098|     F|                8|\n",
      "|1219526|     F|                9|\n",
      "|1745257|     M|                9|\n",
      "|1669439|     F|                9|\n",
      "|1341784|     M|                6|\n",
      "+-------+------+-----------------+\n",
      "only showing top 20 rows"
     ]
    }
   ],
   "source": [
    "user_gender = df.select(\"userId\", \"gender\",\"registrationMonth\") \\\n",
    "    .dropDuplicates()\n",
    "\n",
    "user_gender.show()"
   ]
  },
  {
   "cell_type": "markdown",
   "id": "aac4ed9d",
   "metadata": {},
   "source": [
    "### 6. Churn DataFrame"
   ]
  },
  {
   "cell_type": "code",
   "execution_count": 30,
   "id": "9a4d270b",
   "metadata": {},
   "outputs": [
    {
     "data": {
      "application/vnd.jupyter.widget-view+json": {
       "model_id": "9bc47bd70573458e9f842d96ab544b79",
       "version_major": 2,
       "version_minor": 0
      },
      "text/plain": [
       "VBox()"
      ]
     },
     "metadata": {},
     "output_type": "display_data"
    },
    {
     "data": {
      "application/vnd.jupyter.widget-view+json": {
       "model_id": "",
       "version_major": 2,
       "version_minor": 0
      },
      "text/plain": [
       "FloatProgress(value=0.0, bar_style='info', description='Progress:', layout=Layout(height='25px', width='50%'),…"
      ]
     },
     "metadata": {},
     "output_type": "display_data"
    },
    {
     "name": "stdout",
     "output_type": "stream",
     "text": [
      "+-------+-----+\n",
      "| userId|label|\n",
      "+-------+-----+\n",
      "|1271218|    0|\n",
      "|1567623|    0|\n",
      "|1676292|    0|\n",
      "|1242455|    0|\n",
      "|1927014|    0|\n",
      "|1972195|    0|\n",
      "|1766909|    0|\n",
      "|1216358|    1|\n",
      "|1976623|    0|\n",
      "|1008404|    1|\n",
      "|1532612|    0|\n",
      "|1816366|    0|\n",
      "|1193157|    0|\n",
      "|1114602|    0|\n",
      "|1460523|    0|\n",
      "|1205653|    1|\n",
      "|1670523|    0|\n",
      "|1844759|    0|\n",
      "|1652508|    0|\n",
      "|1931889|    1|\n",
      "+-------+-----+\n",
      "only showing top 20 rows"
     ]
    }
   ],
   "source": [
    "# create churn table\n",
    "user_churn = df.select(\"userId\", \"churn\") \\\n",
    "    .groupBy(\"userId\") \\\n",
    "    .agg(F.sum(\"churn\").alias(\"label\"))\n",
    "\n",
    "user_churn.show()"
   ]
  },
  {
   "cell_type": "markdown",
   "id": "7a908ec6",
   "metadata": {},
   "source": [
    "### Join DataFrames"
   ]
  },
  {
   "cell_type": "code",
   "execution_count": 31,
   "id": "1aae3077",
   "metadata": {},
   "outputs": [
    {
     "data": {
      "application/vnd.jupyter.widget-view+json": {
       "model_id": "41513858639343bc964be27c797464df",
       "version_major": 2,
       "version_minor": 0
      },
      "text/plain": [
       "VBox()"
      ]
     },
     "metadata": {},
     "output_type": "display_data"
    },
    {
     "data": {
      "application/vnd.jupyter.widget-view+json": {
       "model_id": "",
       "version_major": 2,
       "version_minor": 0
      },
      "text/plain": [
       "FloatProgress(value=0.0, bar_style='info', description='Progress:', layout=Layout(height='25px', width='50%'),…"
      ]
     },
     "metadata": {},
     "output_type": "display_data"
    },
    {
     "name": "stdout",
     "output_type": "stream",
     "text": [
      "-RECORD 0---------------------------------\n",
      " label             | 0                    \n",
      " Add Friend        | 11                   \n",
      " Add to Playlist   | 18                   \n",
      " Error             | 1                    \n",
      " Help              | 6                    \n",
      " Logout            | 11                   \n",
      " Roll Advert       | null                 \n",
      " Thumbs Down       | 6                    \n",
      " Thumbs Up         | 43                   \n",
      " browser           | \"Mozilla/5.0         \n",
      " os                | Windows NT 5.1) A... \n",
      " brand             | null                 \n",
      " avgSessionHours   | 5.2                  \n",
      " free              | 0.1                  \n",
      " paid              | 58.5                 \n",
      " gender            | M                    \n",
      " registrationMonth | 9                    \n",
      "only showing top 1 row"
     ]
    }
   ],
   "source": [
    "# 'user_location' and 'user_days' are not used. \n",
    "# 'user_location' does not describe user behavior\n",
    "# 'user_days' is the sum of 'free' and 'paid' in 'user_level' so could be a confounder\n",
    "# join all the tables together\n",
    "user_data = user_churn.join(user_page, ['userId'], \"left\") \\\n",
    "    .join(user_browser,['userId'], \"left\") \\\n",
    "    .join(user_sess_dur, ['userId'], \"left\") \\\n",
    "    .join(user_level, ['userId'], \"left\") \\\n",
    "    .join(user_gender, ['userId'], \"left\") \\\n",
    "    .drop(\"userId\")\n",
    "\n",
    "user_data.show(1, vertical=True)"
   ]
  },
  {
   "cell_type": "code",
   "execution_count": 32,
   "id": "f06edc8b",
   "metadata": {},
   "outputs": [
    {
     "data": {
      "application/vnd.jupyter.widget-view+json": {
       "model_id": "1c5c6063175e407ab567928d0587fb6e",
       "version_major": 2,
       "version_minor": 0
      },
      "text/plain": [
       "VBox()"
      ]
     },
     "metadata": {},
     "output_type": "display_data"
    },
    {
     "data": {
      "application/vnd.jupyter.widget-view+json": {
       "model_id": "",
       "version_major": 2,
       "version_minor": 0
      },
      "text/plain": [
       "FloatProgress(value=0.0, bar_style='info', description='Progress:', layout=Layout(height='25px', width='50%'),…"
      ]
     },
     "metadata": {},
     "output_type": "display_data"
    },
    {
     "name": "stdout",
     "output_type": "stream",
     "text": [
      "(22278, 17)"
     ]
    }
   ],
   "source": [
    "# final size of dataset\n",
    "print((user_data.count(), len(user_data.columns)))"
   ]
  },
  {
   "cell_type": "markdown",
   "id": "973f0e08",
   "metadata": {},
   "source": [
    "### Replace Nulls"
   ]
  },
  {
   "cell_type": "code",
   "execution_count": 33,
   "id": "b6b8ee5b",
   "metadata": {},
   "outputs": [
    {
     "data": {
      "application/vnd.jupyter.widget-view+json": {
       "model_id": "df6cec347b7c433db962de1718338cde",
       "version_major": 2,
       "version_minor": 0
      },
      "text/plain": [
       "VBox()"
      ]
     },
     "metadata": {},
     "output_type": "display_data"
    },
    {
     "data": {
      "application/vnd.jupyter.widget-view+json": {
       "model_id": "",
       "version_major": 2,
       "version_minor": 0
      },
      "text/plain": [
       "FloatProgress(value=0.0, bar_style='info', description='Progress:', layout=Layout(height='25px', width='50%'),…"
      ]
     },
     "metadata": {},
     "output_type": "display_data"
    },
    {
     "name": "stdout",
     "output_type": "stream",
     "text": [
      "-RECORD 0----------------\n",
      " label             | 0.0 \n",
      " Add Friend        | 0.0 \n",
      " Add to Playlist   | 0.0 \n",
      " Error             | 0.0 \n",
      " Help              | 0.0 \n",
      " Logout            | 0.0 \n",
      " Roll Advert       | 0.0 \n",
      " Thumbs Down       | 0.0 \n",
      " Thumbs Up         | 0.0 \n",
      " browser           | 0.0 \n",
      " os                | 0.0 \n",
      " brand             | 0.0 \n",
      " avgSessionHours   | 0.0 \n",
      " free              | 0.0 \n",
      " paid              | 0.0 \n",
      " gender            | 0.0 \n",
      " registrationMonth | 0.0"
     ]
    }
   ],
   "source": [
    "# define list of numeric columns\n",
    "numeric_cols = user_page.columns[1:] + user_sess_dur.columns[1:] + user_level.columns[1:] + ['registrationMonth']\n",
    "# create dictionary specifying that 0 will be used to fill missing rows\n",
    "impute_numeric = { i : 0 for i in numeric_cols }\n",
    "# fill missing rows in numeric columns\n",
    "user_data = user_data.fillna(impute_numeric)\n",
    "# define list of category columns (strings)\n",
    "categ_cols = user_browser.columns[1:] + ['gender']\n",
    "# create dictionary specifying that 'missing' will be used to fill missing rows\n",
    "impute_categ = { i : 'missing' for i in categ_cols }\n",
    "# fill missing rows in category columns\n",
    "user_data = user_data.fillna(impute_categ)\n",
    "# show % nulls - should be 0 for every column\n",
    "user_data.select(\n",
    "    [\n",
    "        ( (F.count(F.when(F.isnull(c), c)) / F.count(c)) * 100 ) \\\n",
    "            .alias(c) for c in user_data.columns\n",
    "    ]\n",
    ").show(vertical=True)"
   ]
  },
  {
   "cell_type": "markdown",
   "id": "860efe6f",
   "metadata": {},
   "source": [
    "# Modeling"
   ]
  },
  {
   "cell_type": "markdown",
   "id": "4445013a",
   "metadata": {},
   "source": [
    "### Split into Training / Testing Sets"
   ]
  },
  {
   "cell_type": "code",
   "execution_count": 34,
   "id": "ba85e98c",
   "metadata": {},
   "outputs": [
    {
     "data": {
      "application/vnd.jupyter.widget-view+json": {
       "model_id": "45bd680a770b4fd3aebddb169f92dc1a",
       "version_major": 2,
       "version_minor": 0
      },
      "text/plain": [
       "VBox()"
      ]
     },
     "metadata": {},
     "output_type": "display_data"
    },
    {
     "data": {
      "application/vnd.jupyter.widget-view+json": {
       "model_id": "",
       "version_major": 2,
       "version_minor": 0
      },
      "text/plain": [
       "FloatProgress(value=0.0, bar_style='info', description='Progress:', layout=Layout(height='25px', width='50%'),…"
      ]
     },
     "metadata": {},
     "output_type": "display_data"
    }
   ],
   "source": [
    "training, testing = user_data.randomSplit([0.6, 0.4], seed=100)"
   ]
  },
  {
   "cell_type": "markdown",
   "id": "823b29b3",
   "metadata": {},
   "source": [
    "### Create Pipeline"
   ]
  },
  {
   "cell_type": "code",
   "execution_count": 35,
   "id": "93959315",
   "metadata": {},
   "outputs": [
    {
     "data": {
      "application/vnd.jupyter.widget-view+json": {
       "model_id": "aff9c5d3b6ec48c299457c351de78cfb",
       "version_major": 2,
       "version_minor": 0
      },
      "text/plain": [
       "VBox()"
      ]
     },
     "metadata": {},
     "output_type": "display_data"
    },
    {
     "data": {
      "application/vnd.jupyter.widget-view+json": {
       "model_id": "",
       "version_major": 2,
       "version_minor": 0
      },
      "text/plain": [
       "FloatProgress(value=0.0, bar_style='info', description='Progress:', layout=Layout(height='25px', width='50%'),…"
      ]
     },
     "metadata": {},
     "output_type": "display_data"
    }
   ],
   "source": [
    "# create list of category output columns from previously defined categ_columns\n",
    "o_categ_cols = [ n + 'Index' for n in categ_cols ] \n",
    "# encode categories in pipeline\n",
    "categ_pipeline = Pipeline(stages=[\n",
    "    StringIndexer(inputCols=categ_cols, outputCols=o_categ_cols, handleInvalid='skip'),\n",
    "    VectorAssembler(\n",
    "        inputCols=o_categ_cols, \n",
    "        outputCol=\"categ_features\"\n",
    "    )\n",
    "])"
   ]
  },
  {
   "cell_type": "code",
   "execution_count": 36,
   "id": "bc5265f6",
   "metadata": {},
   "outputs": [
    {
     "data": {
      "application/vnd.jupyter.widget-view+json": {
       "model_id": "28720b8de8b842e2b512e34a6f02e2d0",
       "version_major": 2,
       "version_minor": 0
      },
      "text/plain": [
       "VBox()"
      ]
     },
     "metadata": {},
     "output_type": "display_data"
    },
    {
     "data": {
      "application/vnd.jupyter.widget-view+json": {
       "model_id": "",
       "version_major": 2,
       "version_minor": 0
      },
      "text/plain": [
       "FloatProgress(value=0.0, bar_style='info', description='Progress:', layout=Layout(height='25px', width='50%'),…"
      ]
     },
     "metadata": {},
     "output_type": "display_data"
    }
   ],
   "source": [
    "# numeric pipeline - use numeric columns defined earlier\n",
    "numer_pipeline = Pipeline(stages=[\n",
    "    VectorAssembler(inputCols=numeric_cols, outputCol=\"numer_features\")\n",
    "])"
   ]
  },
  {
   "cell_type": "code",
   "execution_count": 37,
   "id": "47182378",
   "metadata": {},
   "outputs": [
    {
     "data": {
      "application/vnd.jupyter.widget-view+json": {
       "model_id": "ed14cb1d217d433c98a54ac28bb03f1d",
       "version_major": 2,
       "version_minor": 0
      },
      "text/plain": [
       "VBox()"
      ]
     },
     "metadata": {},
     "output_type": "display_data"
    },
    {
     "data": {
      "application/vnd.jupyter.widget-view+json": {
       "model_id": "",
       "version_major": 2,
       "version_minor": 0
      },
      "text/plain": [
       "FloatProgress(value=0.0, bar_style='info', description='Progress:', layout=Layout(height='25px', width='50%'),…"
      ]
     },
     "metadata": {},
     "output_type": "display_data"
    }
   ],
   "source": [
    "# unite pipelines ( final features have to be named 'features')\n",
    "# unite pipelines\n",
    "final_pipeline = Pipeline(stages=[\n",
    "    categ_pipeline,\n",
    "    numer_pipeline,\n",
    "    VectorAssembler(\n",
    "        inputCols=[\"categ_features\",\"numer_features\"],\n",
    "        outputCol=\"features\"\n",
    "    ),\n",
    "    LogisticRegression(maxIter=10)\n",
    "])"
   ]
  },
  {
   "cell_type": "markdown",
   "id": "e87331b5",
   "metadata": {},
   "source": [
    "### Cross-Validate on Training Set"
   ]
  },
  {
   "cell_type": "code",
   "execution_count": 38,
   "id": "5599ec1e",
   "metadata": {},
   "outputs": [
    {
     "data": {
      "application/vnd.jupyter.widget-view+json": {
       "model_id": "11c0f070c5a14570b0e2150701fca202",
       "version_major": 2,
       "version_minor": 0
      },
      "text/plain": [
       "VBox()"
      ]
     },
     "metadata": {},
     "output_type": "display_data"
    },
    {
     "data": {
      "application/vnd.jupyter.widget-view+json": {
       "model_id": "",
       "version_major": 2,
       "version_minor": 0
      },
      "text/plain": [
       "FloatProgress(value=0.0, bar_style='info', description='Progress:', layout=Layout(height='25px', width='50%'),…"
      ]
     },
     "metadata": {},
     "output_type": "display_data"
    }
   ],
   "source": [
    "# define parameters ( just one )\n",
    "paramGrid = ParamGridBuilder() \\\n",
    "    .addGrid(LogisticRegression.regParam, [0.1, 0.05, 0.01]) \\\n",
    "    .build()\n",
    "\n",
    "# optimize 4 fold cross-validation using the area under ROC curve\n",
    "crossval = CrossValidator(estimator=final_pipeline,\n",
    "                          estimatorParamMaps=paramGrid,\n",
    "                          evaluator=BinaryClassificationEvaluator(labelCol='label',metricName='areaUnderROC'),\n",
    "                          numFolds=3) "
   ]
  },
  {
   "cell_type": "code",
   "execution_count": 39,
   "id": "ff673e17",
   "metadata": {},
   "outputs": [
    {
     "data": {
      "application/vnd.jupyter.widget-view+json": {
       "model_id": "fc44120ad207445ab59b406a95011fa7",
       "version_major": 2,
       "version_minor": 0
      },
      "text/plain": [
       "VBox()"
      ]
     },
     "metadata": {},
     "output_type": "display_data"
    },
    {
     "data": {
      "application/vnd.jupyter.widget-view+json": {
       "model_id": "",
       "version_major": 2,
       "version_minor": 0
      },
      "text/plain": [
       "FloatProgress(value=0.0, bar_style='info', description='Progress:', layout=Layout(height='25px', width='50%'),…"
      ]
     },
     "metadata": {},
     "output_type": "display_data"
    },
    {
     "name": "stderr",
     "output_type": "stream",
     "text": [
      "Exception in thread cell_monitor-39:\n",
      "Traceback (most recent call last):\n",
      "  File \"/opt/conda/lib/python3.7/threading.py\", line 926, in _bootstrap_inner\n",
      "    self.run()\n",
      "  File \"/opt/conda/lib/python3.7/threading.py\", line 870, in run\n",
      "    self._target(*self._args, **self._kwargs)\n",
      "  File \"/opt/conda/lib/python3.7/site-packages/awseditorssparkmonitoringwidget-1.0-py3.7.egg/awseditorssparkmonitoringwidget/cellmonitor.py\", line 178, in cell_monitor\n",
      "    job_binned_stages[job_id][stage_id] = all_stages[stage_id]\n",
      "KeyError: 2023\n",
      "\n"
     ]
    }
   ],
   "source": [
    "cvModel = crossval.fit(training)"
   ]
  },
  {
   "cell_type": "code",
   "execution_count": 40,
   "id": "896e4edf",
   "metadata": {},
   "outputs": [
    {
     "data": {
      "application/vnd.jupyter.widget-view+json": {
       "model_id": "0e9f095edbe743d69dca57c975acf919",
       "version_major": 2,
       "version_minor": 0
      },
      "text/plain": [
       "VBox()"
      ]
     },
     "metadata": {},
     "output_type": "display_data"
    },
    {
     "data": {
      "application/vnd.jupyter.widget-view+json": {
       "model_id": "",
       "version_major": 2,
       "version_minor": 0
      },
      "text/plain": [
       "FloatProgress(value=0.0, bar_style='info', description='Progress:', layout=Layout(height='25px', width='50%'),…"
      ]
     },
     "metadata": {},
     "output_type": "display_data"
    },
    {
     "name": "stdout",
     "output_type": "stream",
     "text": [
      "[0.8386717889683337, 0.8386717889683337, 0.8386717889683337]"
     ]
    }
   ],
   "source": [
    "# certainly looks like the regParam is fine at 0.1\n",
    "cvModel.avgMetrics"
   ]
  },
  {
   "cell_type": "markdown",
   "id": "2a941685",
   "metadata": {},
   "source": [
    "### Fit Tuned Pipeline on Entire Training Set"
   ]
  },
  {
   "cell_type": "code",
   "execution_count": 48,
   "id": "77b3cee2",
   "metadata": {},
   "outputs": [
    {
     "data": {
      "application/vnd.jupyter.widget-view+json": {
       "model_id": "7c1edc92d1804c4e95169e0aff334cd4",
       "version_major": 2,
       "version_minor": 0
      },
      "text/plain": [
       "VBox()"
      ]
     },
     "metadata": {},
     "output_type": "display_data"
    },
    {
     "data": {
      "application/vnd.jupyter.widget-view+json": {
       "model_id": "",
       "version_major": 2,
       "version_minor": 0
      },
      "text/plain": [
       "FloatProgress(value=0.0, bar_style='info', description='Progress:', layout=Layout(height='25px', width='50%'),…"
      ]
     },
     "metadata": {},
     "output_type": "display_data"
    }
   ],
   "source": [
    "# unite pipelines ( final features have to be named 'features')\n",
    "final_pipeline2 = Pipeline(stages=[\n",
    "    categ_pipeline,\n",
    "    numer_pipeline,\n",
    "    VectorAssembler(\n",
    "        inputCols=[\"categ_features\",\"numer_features\"],\n",
    "        outputCol=\"features\"\n",
    "    ),\n",
    "    LogisticRegression(maxIter=10, regParam=0.1)\n",
    "])\n",
    "\n",
    "pipelineModel = final_pipeline2.fit(training)"
   ]
  },
  {
   "cell_type": "code",
   "execution_count": 49,
   "id": "70e62d3d",
   "metadata": {},
   "outputs": [
    {
     "data": {
      "application/vnd.jupyter.widget-view+json": {
       "model_id": "262e5d0501f943e48cd53b9e578a61c8",
       "version_major": 2,
       "version_minor": 0
      },
      "text/plain": [
       "VBox()"
      ]
     },
     "metadata": {},
     "output_type": "display_data"
    },
    {
     "data": {
      "application/vnd.jupyter.widget-view+json": {
       "model_id": "",
       "version_major": 2,
       "version_minor": 0
      },
      "text/plain": [
       "FloatProgress(value=0.0, bar_style='info', description='Progress:', layout=Layout(height='25px', width='50%'),…"
      ]
     },
     "metadata": {},
     "output_type": "display_data"
    },
    {
     "name": "stdout",
     "output_type": "stream",
     "text": [
      "(0.7829538645895746, 0.8369561600020986)"
     ]
    }
   ],
   "source": [
    "# show accuracy and AUC\n",
    "summaryPipeline = pipelineModel.stages[-1].summary\n",
    "summaryPipeline.accuracy, summaryPipeline.areaUnderROC"
   ]
  },
  {
   "cell_type": "code",
   "execution_count": 82,
   "id": "b8483639",
   "metadata": {},
   "outputs": [
    {
     "data": {
      "application/vnd.jupyter.widget-view+json": {
       "model_id": "692e175eb1b4485e861f82d95b472d80",
       "version_major": 2,
       "version_minor": 0
      },
      "text/plain": [
       "VBox()"
      ]
     },
     "metadata": {},
     "output_type": "display_data"
    },
    {
     "data": {
      "application/vnd.jupyter.widget-view+json": {
       "model_id": "",
       "version_major": 2,
       "version_minor": 0
      },
      "text/plain": [
       "FloatProgress(value=0.0, bar_style='info', description='Progress:', layout=Layout(height='25px', width='50%'),…"
      ]
     },
     "metadata": {},
     "output_type": "display_data"
    },
    {
     "data": {
      "image/png": "[encoded data removed]",
      "text/plain": [
       "<IPython.core.display.Image object>"
      ]
     },
     "metadata": {},
     "output_type": "display_data"
    }
   ],
   "source": [
    "roc_pd = pipelineModel.stages[-1].summary.roc.toPandas()\n",
    "roc_pd.plot(kind=\"scatter\",x=\"FPR\",y=\"TPR\")\n",
    "plt.title(\"Receiver-Operating-Characteristic Curve\")\n",
    "%matplot plt"
   ]
  },
  {
   "cell_type": "markdown",
   "id": "8dd73d27",
   "metadata": {},
   "source": [
    "### Calculate Odds-Ratios"
   ]
  },
  {
   "cell_type": "code",
   "execution_count": 50,
   "id": "8f76cb2b",
   "metadata": {},
   "outputs": [
    {
     "data": {
      "application/vnd.jupyter.widget-view+json": {
       "model_id": "8fab17c4d6804413b37ea1bcaf059f00",
       "version_major": 2,
       "version_minor": 0
      },
      "text/plain": [
       "VBox()"
      ]
     },
     "metadata": {},
     "output_type": "display_data"
    },
    {
     "data": {
      "application/vnd.jupyter.widget-view+json": {
       "model_id": "",
       "version_major": 2,
       "version_minor": 0
      },
      "text/plain": [
       "FloatProgress(value=0.0, bar_style='info', description='Progress:', layout=Layout(height='25px', width='50%'),…"
      ]
     },
     "metadata": {},
     "output_type": "display_data"
    },
    {
     "name": "stdout",
     "output_type": "stream",
     "text": [
      "+----+-----------------+\n",
      "|  or|          feature|\n",
      "+----+-----------------+\n",
      "|1.02|     browserIndex|\n",
      "| 1.0|          osIndex|\n",
      "| 1.0|       brandIndex|\n",
      "|1.03|      genderIndex|\n",
      "| 1.0|       Add Friend|\n",
      "| 1.0|  Add to Playlist|\n",
      "| 1.0|            Error|\n",
      "| 1.0|             Help|\n",
      "| 1.0|           Logout|\n",
      "|1.01|      Roll Advert|\n",
      "|1.01|      Thumbs Down|\n",
      "| 1.0|        Thumbs Up|\n",
      "|1.01|  avgSessionHours|\n",
      "|0.97|             free|\n",
      "|0.98|             paid|\n",
      "|1.05|registrationMonth|\n",
      "+----+-----------------+"
     ]
    }
   ],
   "source": [
    "import numpy as np\n",
    "\n",
    "coeffs = pipelineModel.stages[-1].coefficientMatrix\n",
    "odds_ratios = np.around(np.exp(coeffs.toArray()),2).tolist()\n",
    "feature_list = o_categ_cols + numeric_cols\n",
    "odds_ratios_df = spark.createDataFrame(\n",
    "    [ t for t in zip(odds_ratios[0], feature_list)],\n",
    "    [\"or\", \"feature\"]\n",
    ")\n",
    "\n",
    "odds_ratios_df.show(30)"
   ]
  },
  {
   "cell_type": "markdown",
   "id": "9546605e",
   "metadata": {},
   "source": [
    "### Score on Testing Set"
   ]
  },
  {
   "cell_type": "code",
   "execution_count": 51,
   "id": "80b4b678",
   "metadata": {},
   "outputs": [
    {
     "data": {
      "application/vnd.jupyter.widget-view+json": {
       "model_id": "265693053e25453782d14cb69ae19702",
       "version_major": 2,
       "version_minor": 0
      },
      "text/plain": [
       "VBox()"
      ]
     },
     "metadata": {},
     "output_type": "display_data"
    },
    {
     "data": {
      "application/vnd.jupyter.widget-view+json": {
       "model_id": "",
       "version_major": 2,
       "version_minor": 0
      },
      "text/plain": [
       "FloatProgress(value=0.0, bar_style='info', description='Progress:', layout=Layout(height='25px', width='50%'),…"
      ]
     },
     "metadata": {},
     "output_type": "display_data"
    }
   ],
   "source": [
    "# generate predictions\n",
    "predictions = pipelineModel.transform(testing)\n",
    "# intialize the evaluator\n",
    "bce = BinaryClassificationEvaluator(labelCol='label', metricName='areaUnderROC').evaluate(predictions)"
   ]
  },
  {
   "cell_type": "code",
   "execution_count": 52,
   "id": "7533fd4f",
   "metadata": {},
   "outputs": [
    {
     "data": {
      "application/vnd.jupyter.widget-view+json": {
       "model_id": "b0a87e0cb48e456780e55992d4c384dd",
       "version_major": 2,
       "version_minor": 0
      },
      "text/plain": [
       "VBox()"
      ]
     },
     "metadata": {},
     "output_type": "display_data"
    },
    {
     "data": {
      "application/vnd.jupyter.widget-view+json": {
       "model_id": "",
       "version_major": 2,
       "version_minor": 0
      },
      "text/plain": [
       "FloatProgress(value=0.0, bar_style='info', description='Progress:', layout=Layout(height='25px', width='50%'),…"
      ]
     },
     "metadata": {},
     "output_type": "display_data"
    },
    {
     "name": "stdout",
     "output_type": "stream",
     "text": [
      "0.8436909134382706"
     ]
    }
   ],
   "source": [
    "# area-under-receiver-operating-characteristic-curve of testing set\n",
    "bce"
   ]
  },
  {
   "cell_type": "markdown",
   "id": "2b3748fe",
   "metadata": {},
   "source": [
    "# Results and Conclusion\n",
    "\n",
    "Splitting the user data into training and testing sets (60% and 40%, respectively) was sufficient. The final AUC was: \n",
    "* 0.837 for the training set \n",
    "* 0.847 for the testing set\n",
    "\n",
    "which is close enough together to suggest that under-fitting, and not over-fitting, was a possible issue. \n",
    "\n",
    "The odds-ratios showed that some features ( regarding user behavior ) were associated with an increased probability of 'churn' while others were associated with a _decreased_ probability of churn. Specifically: \n",
    "\n",
    "A _one_ unit increase of: \n",
    "* the number of advertisements\n",
    "* the number of 'thumbs down' \n",
    "* the average number of hours a session lasted\n",
    "\n",
    "_increased_ the probability of 'churning' by 1%\n",
    "\n",
    "whereas a _one_ unit increase of: \n",
    "* browserIndex increased the probability of 'churning' by 2%\n",
    "* genderIndex increased the probability of 'churning' by 3%\n",
    "* registrationMonth increased the probability of 'churning' by 5%\n",
    "\n",
    "Finally, a _one_ unit increase of: \n",
    "* days spent at the 'free' level _decreased_ the probability of 'churning' by 3%\n",
    "* days spent at the 'paid' level _decreased_ the probability of 'churning' by 2%\n",
    "\n",
    "The recommendation based on these findings is that Sparkify should investigate ways to: \n",
    "* limit the number of advertisements served to a user\n",
    "* find ways to keep users engaged by the service over the long-term\n",
    "\n",
    "Furthermore, Sparkify should investigate: \n",
    "* which songs / albums / artists associated with the greatest number of 'thumbs down' ratings\n",
    "* which specific browser is associated with the most cancellations\n",
    "* determine if there truly is a gender difference in cancellation rate"
   ]
  },
  {
   "cell_type": "code",
   "execution_count": null,
   "id": "789be4b4",
   "metadata": {},
   "outputs": [],
   "source": []
  }
 ],
 "metadata": {
  "kernelspec": {
   "display_name": "PySpark",
   "language": "",
   "name": "pysparkkernel"
  },
  "language_info": {
   "codemirror_mode": {
    "name": "python",
    "version": 2
   },
   "mimetype": "text/x-python",
   "name": "pyspark",
   "pygments_lexer": "python2"
  }
 },
 "nbformat": 4,
 "nbformat_minor": 5
}
