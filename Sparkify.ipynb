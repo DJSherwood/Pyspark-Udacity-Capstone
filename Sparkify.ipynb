{
 "cells": [
  {
   "cell_type": "markdown",
   "metadata": {},
   "source": [
    "# Sparkify Project Workspace\n",
    "This workspace contains a tiny subset (128MB) of the full dataset available (12GB). Feel free to use this workspace to build your project, or to explore a smaller subset with Spark before deploying your cluster on the cloud. Instructions for setting up your Spark cluster is included in the last lesson of the Extracurricular Spark Course content.\n",
    "\n",
    "You can follow the steps below to guide your data analysis and model building portion of this project."
   ]
  },
  {
   "cell_type": "code",
   "execution_count": 1,
   "metadata": {},
   "outputs": [],
   "source": [
    "# import libraries\n",
    "from pyspark.sql import SparkSession\n",
    "from pyspark.sql import functions as F\n",
    "from pyspark.sql.window import Window\n",
    "from pyspark.sql import types as t\n",
    "from pyspark.ml.classification import LogisticRegression\n",
    "from pyspark.ml.feature import Imputer, StringIndexer, VectorAssembler\n",
    "from pyspark.ml import Pipeline\n",
    "from pyspark.ml.tuning import CrossValidator, ParamGridBuilder\n",
    "from pyspark.ml.evaluation import BinaryClassificationEvaluator, MulticlassClassificationEvaluator"
   ]
  },
  {
   "cell_type": "code",
   "execution_count": 2,
   "metadata": {},
   "outputs": [],
   "source": [
    "# create a Spark session\n",
    "spark = SparkSession \\\n",
    "    .builder \\\n",
    "    .appName(\"sparkify\") \\\n",
    "    .getOrCreate()"
   ]
  },
  {
   "cell_type": "markdown",
   "metadata": {},
   "source": [
    "# Load and Clean Dataset\n",
    "In this workspace, the mini-dataset file is `mini_sparkify_event_data.json`. Load and clean the dataset, checking for invalid or missing data - for example, records without userids or sessionids. "
   ]
  },
  {
   "cell_type": "code",
   "execution_count": 3,
   "metadata": {},
   "outputs": [],
   "source": [
    "# df = spark.read.json(\"data/sparkify_log_small.json\")\n",
    "df = spark.read.json(\"mini_sparkify_event_data.json\")"
   ]
  },
  {
   "cell_type": "code",
   "execution_count": 4,
   "metadata": {},
   "outputs": [
    {
     "name": "stdout",
     "output_type": "stream",
     "text": [
      "root\n",
      " |-- artist: string (nullable = true)\n",
      " |-- auth: string (nullable = true)\n",
      " |-- firstName: string (nullable = true)\n",
      " |-- gender: string (nullable = true)\n",
      " |-- itemInSession: long (nullable = true)\n",
      " |-- lastName: string (nullable = true)\n",
      " |-- length: double (nullable = true)\n",
      " |-- level: string (nullable = true)\n",
      " |-- location: string (nullable = true)\n",
      " |-- method: string (nullable = true)\n",
      " |-- page: string (nullable = true)\n",
      " |-- registration: long (nullable = true)\n",
      " |-- sessionId: long (nullable = true)\n",
      " |-- song: string (nullable = true)\n",
      " |-- status: long (nullable = true)\n",
      " |-- ts: long (nullable = true)\n",
      " |-- userAgent: string (nullable = true)\n",
      " |-- userId: string (nullable = true)\n",
      "\n"
     ]
    }
   ],
   "source": [
    "df.printSchema()"
   ]
  },
  {
   "cell_type": "code",
   "execution_count": 23,
   "metadata": {},
   "outputs": [
    {
     "name": "stdout",
     "output_type": "stream",
     "text": [
      "(286500, 18)\n"
     ]
    }
   ],
   "source": [
    "# the size of the dataset\n",
    "print((df.count(), len(df.columns)))"
   ]
  },
  {
   "cell_type": "code",
   "execution_count": 21,
   "metadata": {},
   "outputs": [
    {
     "name": "stdout",
     "output_type": "stream",
     "text": [
      "-RECORD 0--------------\n",
      " artist        | 58392 \n",
      " auth          | 0     \n",
      " firstName     | 8346  \n",
      " gender        | 8346  \n",
      " itemInSession | 0     \n",
      " lastName      | 8346  \n",
      " length        | 58392 \n",
      " level         | 0     \n",
      " location      | 8346  \n",
      " method        | 0     \n",
      " page          | 0     \n",
      " registration  | 8346  \n",
      " sessionId     | 0     \n",
      " song          | 58392 \n",
      " status        | 0     \n",
      " ts            | 0     \n",
      " userAgent     | 8346  \n",
      " userId        | 0     \n",
      "\n"
     ]
    }
   ],
   "source": [
    "# explore nulls\n",
    "df.select([F.count(F.when(F.isnull(c), c)).alias(c) for c in df.columns]).show(vertical=True)"
   ]
  },
  {
   "cell_type": "markdown",
   "metadata": {},
   "source": [
    "# Exploratory Data Analysis¶\n",
    "\n",
    "When you're working with the full dataset, perform EDA by loading a small subset of the data and doing basic manipulations within Spark. In this workspace, you are already provided a small subset of data you can explore."
   ]
  },
  {
   "cell_type": "code",
   "execution_count": 7,
   "metadata": {},
   "outputs": [
    {
     "name": "stdout",
     "output_type": "stream",
     "text": [
      "+--------------------+---------+---------+------+-------------+--------+---------+-----+------------------+------+--------------------+-------------+---------+--------------------+------+-------------+--------------------+------+\n",
      "|              artist|     auth|firstName|gender|itemInSession|lastName|   length|level|          location|method|                page| registration|sessionId|                song|status|           ts|           userAgent|userId|\n",
      "+--------------------+---------+---------+------+-------------+--------+---------+-----+------------------+------+--------------------+-------------+---------+--------------------+------+-------------+--------------------+------+\n",
      "| Christopher O'Riley|Logged In|    Mason|     M|            0|    Hart|337.91955| free|Corpus Christi, TX|   PUT|            NextSong|1533157139000|      174|    paranoid android|   200|1539317144000|\"Mozilla/5.0 (Mac...|   125|\n",
      "|The Notorious B.I.G.|Logged In|    Mason|     M|            1|    Hart|230.03383| free|Corpus Christi, TX|   PUT|            NextSong|1533157139000|      174|Hypnotize(Album V...|   200|1539317481000|\"Mozilla/5.0 (Mac...|   125|\n",
      "|           Betty Boo|Logged In|    Mason|     M|            2|    Hart| 203.2322| free|Corpus Christi, TX|   PUT|            NextSong|1533157139000|      174|       I'm On My Way|   200|1539317711000|\"Mozilla/5.0 (Mac...|   125|\n",
      "|          Nickelback|Logged In|    Mason|     M|            3|    Hart|210.83383| free|Corpus Christi, TX|   PUT|            NextSong|1533157139000|      174|Leader Of Men (Al...|   200|1539317914000|\"Mozilla/5.0 (Mac...|   125|\n",
      "| Ready For The World|Logged In|    Mason|     M|            4|    Hart|391.26159| free|Corpus Christi, TX|   PUT|            NextSong|1533157139000|      174|       Love You Down|   200|1539318124000|\"Mozilla/5.0 (Mac...|   125|\n",
      "|   We Are The Fallen|Logged In|    Mason|     M|            5|    Hart|213.60281| free|Corpus Christi, TX|   PUT|            NextSong|1533157139000|      174|Don't Leave Me Be...|   200|1539318515000|\"Mozilla/5.0 (Mac...|   125|\n",
      "|      Robert Johnson|Logged In|    Mason|     M|            6|    Hart|178.41587| free|Corpus Christi, TX|   PUT|            NextSong|1533157139000|      174|     They're Red Hot|   200|1539318728000|\"Mozilla/5.0 (Mac...|   125|\n",
      "|              Bonobo|Logged In|    Mason|     M|            7|    Hart|323.81342| free|Corpus Christi, TX|   PUT|            NextSong|1533157139000|      174|                Kota|   200|1539318906000|\"Mozilla/5.0 (Mac...|   125|\n",
      "|                null|Logged In|    Mason|     M|            8|    Hart|     null| free|Corpus Christi, TX|   GET|         Roll Advert|1533157139000|      174|                null|   200|1539318917000|\"Mozilla/5.0 (Mac...|   125|\n",
      "|                null|Logged In|    Mason|     M|            9|    Hart|     null| free|Corpus Christi, TX|   PUT|              Cancel|1533157139000|      174|                null|   307|1539318918000|\"Mozilla/5.0 (Mac...|   125|\n",
      "|                null|Cancelled|    Mason|     M|           10|    Hart|     null| free|Corpus Christi, TX|   GET|Cancellation Conf...|1533157139000|      174|                null|   200|1539318918000|\"Mozilla/5.0 (Mac...|   125|\n",
      "+--------------------+---------+---------+------+-------------+--------+---------+-----+------------------+------+--------------------+-------------+---------+--------------------+------+-------------+--------------------+------+\n",
      "\n"
     ]
    }
   ],
   "source": [
    "# this is interesting, this user plays 8 songs in a row and then switches to auth: 'cancelled' after an advertisement\n",
    "df.filter(df.userId==125).orderBy(F.col('ts')).show()"
   ]
  },
  {
   "cell_type": "markdown",
   "metadata": {},
   "source": [
    "# Exploratory Data Analysis\n",
    "When you're working with the full dataset, perform EDA by loading a small subset of the data and doing basic manipulations within Spark. In this workspace, you are already provided a small subset of data you can explore."
   ]
  },
  {
   "cell_type": "markdown",
   "metadata": {},
   "source": [
    "### Define Churn\n",
    "\n",
    "Once you've done some preliminary analysis, create a column `Churn` to use as the label for your model. I suggest using the `Cancellation Confirmation` events to define your churn, which happen for both paid and free users. As a bonus task, you can also look into the `Downgrade` events."
   ]
  },
  {
   "cell_type": "code",
   "execution_count": 4,
   "metadata": {},
   "outputs": [],
   "source": [
    "# this is a binary, indicator column to be used to predict churn\n",
    "# may also look at incorporating 'downgrade'\n",
    "df = df.withColumn(\n",
    "    'churn',\n",
    "    F.when((F.col('page') =='Cancellation Confirmation'), 1) \\\n",
    "    .otherwise(0)\n",
    ")"
   ]
  },
  {
   "cell_type": "markdown",
   "metadata": {},
   "source": [
    "### Explore Data\n",
    "Once you've defined churn, perform some exploratory data analysis to observe the behavior for users who stayed vs users who churned. You can start by exploring aggregates on these two groups of users, observing how much of a specific action they experienced per a certain time unit or number of songs played."
   ]
  },
  {
   "cell_type": "code",
   "execution_count": 10,
   "metadata": {},
   "outputs": [
    {
     "data": {
      "text/plain": [
       "(52, 226, 0.18705035971223022)"
      ]
     },
     "execution_count": 10,
     "metadata": {},
     "output_type": "execute_result"
    }
   ],
   "source": [
    "# users who have a cancellation value of 1\n",
    "users_who_quit = df.filter(df.churn==1) \\\n",
    "    .select(df.userId) \\\n",
    "    .dropDuplicates()\n",
    "\n",
    "# users who have a cancellation value of 0\n",
    "users_who_stayed = df.filter(df.churn==0) \\\n",
    "    .select(df.userId) \\\n",
    "    .dropDuplicates()\n",
    "\n",
    "# examine their lengths\n",
    "users_who_quit.count(), users_who_stayed.count(), ( users_who_quit.count() / (users_who_quit.count() + users_who_stayed.count())) * 100"
   ]
  },
  {
   "cell_type": "code",
   "execution_count": 11,
   "metadata": {},
   "outputs": [
    {
     "name": "stdout",
     "output_type": "stream",
     "text": [
      "+-----+-----+----------+\n",
      "|level|churn|user_count|\n",
      "+-----+-----+----------+\n",
      "| paid|    0|       166|\n",
      "| free|    0|       196|\n",
      "| paid|    1|        31|\n",
      "| free|    1|        21|\n",
      "+-----+-----+----------+\n",
      "\n"
     ]
    }
   ],
   "source": [
    "# are cancellation rates the same between free and paid users? \n",
    "churn_table = df.select(df.level, df.churn, df.userId) \\\n",
    "    .dropDuplicates() \\\n",
    "    .groupBy(F.col('level'),F.col('churn')) \\\n",
    "    .count() \\\n",
    "    .withColumnRenamed('count','user_count')\n",
    "\n",
    "churn_table.show()"
   ]
  },
  {
   "cell_type": "code",
   "execution_count": 90,
   "metadata": {},
   "outputs": [
    {
     "data": {
      "text/plain": [
       "(15.736040609137056, 9.67741935483871)"
      ]
     },
     "execution_count": 90,
     "metadata": {},
     "output_type": "execute_result"
    }
   ],
   "source": [
    "# 16% of paid and 10% of free users churned\n",
    "( 31 / ( 166 + 31)) * 100, ( 21 / ( 196 + 21)) * 100"
   ]
  },
  {
   "cell_type": "markdown",
   "metadata": {},
   "source": [
    "# Feature Engineering\n",
    "Once you've familiarized yourself with the data, build out the features you find promising to train your model on. To work with the full dataset, you can follow the following steps.\n",
    "- Write a script to extract the necessary features from the smaller subset of data\n",
    "- Ensure that your script is scalable, using the best practices discussed in Lesson 3\n",
    "- Try your script on the full data set, debugging your script if necessary\n",
    "\n",
    "If you are working in the classroom workspace, you can just extract features based on the small subset of data contained here. Be sure to transfer over this work to the larger dataset when you work on your Spark cluster."
   ]
  },
  {
   "cell_type": "code",
   "execution_count": 63,
   "metadata": {},
   "outputs": [],
   "source": [
    "# ideas\n",
    "# split the 'location' field into 'city' and 'state' fields\n",
    "# split the 'userAgent' field into 'browser' and 'OS' fields\n",
    "# calculate CurrentSessionItem - SessionItem@Advert ... is there a relationship between advertisements and cancelling?\n",
    "# although advertisements only apply to free users, I guess"
   ]
  },
  {
   "cell_type": "code",
   "execution_count": 5,
   "metadata": {},
   "outputs": [],
   "source": [
    "# create browser, os, brand from userAgent\n",
    "df = df.withColumn('browser', F.split(df['userAgent'], '\\(').getItem(0)) \\\n",
    "    .withColumn('temp', F.split(df['userAgent'], '\\(').getItem(1)) \n",
    "\n",
    "df = df.withColumn('os', F.split(df['temp'], ';').getItem(0)) \\\n",
    "    .withColumn('brand', F.split(df['temp'], ';').getItem(1))\n",
    "\n",
    "# delete temp, userAgent"
   ]
  },
  {
   "cell_type": "code",
   "execution_count": 6,
   "metadata": {},
   "outputs": [],
   "source": [
    "# split the 'location' field into 'city' and 'state fields'\n",
    "df = df.withColumn('city', F.split(df['location'], ',').getItem(0)) \\\n",
    "    .withColumn('state', F.split(df['location'], ',').getItem(1))\n",
    "\n",
    "# delete location"
   ]
  },
  {
   "cell_type": "code",
   "execution_count": 7,
   "metadata": {},
   "outputs": [],
   "source": [
    "# create window partition\n",
    "w = Window.partitionBy(\"userId\").orderBy(\"sessionId\")\n",
    "# calculate lag\n",
    "df = df.withColumn(\"lead\", F.lag('ts', 1).over(w)) \\\n",
    "    .withColumn(\"tsDiff\", ( F.col('ts') - F.col('lead')) / 1000)"
   ]
  },
  {
   "cell_type": "code",
   "execution_count": 38,
   "metadata": {},
   "outputs": [
    {
     "name": "stdout",
     "output_type": "stream",
     "text": [
      "-RECORD 0---------------\n",
      " userId        | 226    \n",
      " artist        | 17655  \n",
      " auth          | 4      \n",
      " firstName     | 189    \n",
      " gender        | 2      \n",
      " itemInSession | 1322   \n",
      " lastName      | 173    \n",
      " length        | 14865  \n",
      " level         | 2      \n",
      " location      | 114    \n",
      " method        | 2      \n",
      " page          | 22     \n",
      " registration  | 225    \n",
      " sessionId     | 2354   \n",
      " song          | 58480  \n",
      " status        | 3      \n",
      " ts            | 277447 \n",
      " userAgent     | 56     \n",
      " churn         | 2      \n",
      " browser       | 2      \n",
      " temp          | 43     \n",
      " os            | 11     \n",
      " brand         | 30     \n",
      " city          | 113    \n",
      " state         | 58     \n",
      " min_user_ts   | 226    \n",
      " rel_user_ts   | 275518 \n",
      " min_ts        | 1      \n",
      " rel_ts        | 277447 \n",
      "\n"
     ]
    }
   ],
   "source": [
    "# show distinct values for each column and display vertically\n",
    "df.agg(*(F.countDistinct(c).alias(c) for c in df.columns)).show(vertical=True)"
   ]
  },
  {
   "cell_type": "markdown",
   "metadata": {},
   "source": [
    "## Work-in-Progress"
   ]
  },
  {
   "cell_type": "code",
   "execution_count": 29,
   "metadata": {},
   "outputs": [
    {
     "name": "stdout",
     "output_type": "stream",
     "text": [
      "+------+-------------------+-------+\n",
      "|userId|               page|maxItem|\n",
      "+------+-------------------+-------+\n",
      "|      |Submit Registration|      8|\n",
      "|      |           Register|     40|\n",
      "|      |              Error|    216|\n",
      "|      |               Help|    518|\n",
      "|      |              About|    862|\n",
      "|      |               Home|   1287|\n",
      "|      |              Login|   1288|\n",
      "|    10|               Help|     14|\n",
      "|    10|        Roll Advert|     22|\n",
      "|    10|      Save Settings|     80|\n",
      "|    10|          Downgrade|    306|\n",
      "|    10|    Add to Playlist|    400|\n",
      "|    10|         Add Friend|    405|\n",
      "|    10|             Logout|    406|\n",
      "|    10|          Thumbs Up|    421|\n",
      "|    10|               Home|    434|\n",
      "|    10|        Thumbs Down|    451|\n",
      "|    10|           NextSong|    454|\n",
      "|    10|           Settings|    455|\n",
      "|    10|              About|    456|\n",
      "|   100|            Upgrade|     55|\n",
      "|   100|      Save Settings|     55|\n",
      "|   100|     Submit Upgrade|     56|\n",
      "|   100|           Settings|    158|\n",
      "|   100|               Help|    174|\n",
      "|   100|              Error|    179|\n",
      "|   100|              About|    182|\n",
      "|   100|   Submit Downgrade|    203|\n",
      "|   100|          Downgrade|    224|\n",
      "|   100|    Add to Playlist|    263|\n",
      "+------+-------------------+-------+\n",
      "only showing top 30 rows\n",
      "\n"
     ]
    }
   ],
   "source": [
    "# somehow incorporate the order of pages visited as a feature\n",
    "# or categorize the pages as 'positive interaction' or 'negative interaction'\n",
    "df.filter(df.page != \"Cancellation Confirmation\") \\\n",
    "    .select(\"userId\",\"page\",\"itemInSession\") \\\n",
    "    .groupBy(\"userId\",\"page\") \\\n",
    "    .agg(F.max(\"itemInSession\").alias(\"maxItem\")) \\\n",
    "    .orderBy(\"userId\",\"maxItem\") \\\n",
    "    .show(30)"
   ]
  },
  {
   "cell_type": "markdown",
   "metadata": {},
   "source": [
    "## Create Pivots for Feature Engineering"
   ]
  },
  {
   "cell_type": "code",
   "execution_count": 8,
   "metadata": {},
   "outputs": [],
   "source": [
    "# create churn table\n",
    "user_churn_df = df.select(\"userId\",\"churn\").groupBy(\"userId\").sum(\"churn\").withColumnRenamed(\"sum(churn)\",\"churn\")"
   ]
  },
  {
   "cell_type": "code",
   "execution_count": 9,
   "metadata": {},
   "outputs": [],
   "source": [
    "# create page table\n",
    "user_page_df = df.select(\"userId\",\"page\",\"tsDiff\") \\\n",
    "    .filter(df.page != \"Cancellation Confirmation\") \\\n",
    "    .filter(df.page != \"Cancel\") \\\n",
    "    .groupBy(\"userId\") \\\n",
    "    .pivot(\"page\") \\\n",
    "    .avg(\"tsDiff\")"
   ]
  },
  {
   "cell_type": "code",
   "execution_count": 10,
   "metadata": {},
   "outputs": [],
   "source": [
    "# create level table\n",
    "user_level = df.select(\"userId\",\"level\",\"sessionId\") \\\n",
    "    .groupBy(\"userId\") \\\n",
    "    .pivot(\"level\") \\\n",
    "    .count()\n",
    "\n",
    "user_level = user_level.select(F.col(\"userId\"), F.col(\"free\").cast(t.DoubleType()), F.col(\"paid\").cast(t.DoubleType()))"
   ]
  },
  {
   "cell_type": "code",
   "execution_count": 11,
   "metadata": {},
   "outputs": [],
   "source": [
    "# create location table\n",
    "user_location = df.select(\"userId\",\"city\",\"state\",\"browser\",\"os\",\"brand\") \\\n",
    "    .dropDuplicates()"
   ]
  },
  {
   "cell_type": "code",
   "execution_count": 12,
   "metadata": {},
   "outputs": [],
   "source": [
    "# join all the tables together\n",
    "user_data = user_churn_df.join(user_page_df, ['userId'], \"left\") \\\n",
    "    .join(user_level, ['userId'], \"left\") \\\n",
    "    .join(user_location, ['userId'], \"left\") \\\n",
    "    .drop(\"userId\")"
   ]
  },
  {
   "cell_type": "code",
   "execution_count": 13,
   "metadata": {},
   "outputs": [
    {
     "name": "stdout",
     "output_type": "stream",
     "text": [
      "-RECORD 0-----------------------------------\n",
      " churn               | 0                    \n",
      " About               | 36.0                 \n",
      " Add Friend          | 1.0                  \n",
      " Add to Playlist     | 14.714285714285714   \n",
      " Downgrade           | null                 \n",
      " Error               | null                 \n",
      " Help                | 22.0                 \n",
      " Home                | 136272.0909090909    \n",
      " Login               | null                 \n",
      " Logout              | 1.0                  \n",
      " NextSong            | 8467.649635036496    \n",
      " Register            | null                 \n",
      " Roll Advert         | 20.28846153846154    \n",
      " Save Settings       | null                 \n",
      " Settings            | null                 \n",
      " Submit Downgrade    | null                 \n",
      " Submit Registration | null                 \n",
      " Submit Upgrade      | null                 \n",
      " Thumbs Down         | 1.0                  \n",
      " Thumbs Up           | 1.0                  \n",
      " Upgrade             | 10.0                 \n",
      " free                | 381.0                \n",
      " paid                | null                 \n",
      " city                | Bridgeport-Stamfo... \n",
      " state               |  CT                  \n",
      " browser             | \"Mozilla/5.0         \n",
      " os                  | iPhone               \n",
      " brand               |  CPU iPhone OS 7_... \n",
      "-RECORD 1-----------------------------------\n",
      " churn               | 0                    \n",
      " About               | 43643.0              \n",
      " Add Friend          | 1.0                  \n",
      " Add to Playlist     | 116.5                \n",
      " Downgrade           | 179.8                \n",
      " Error               | null                 \n",
      " Help                | 106.0                \n",
      " Home                | 78121.05             \n",
      " Login               | null                 \n",
      " Logout              | 1.0                  \n",
      " NextSong            | 5789.637305699482    \n",
      " Register            | null                 \n",
      " Roll Advert         | 39.142857142857146   \n",
      " Save Settings       | null                 \n",
      " Settings            | 70.0                 \n",
      " Submit Downgrade    | null                 \n",
      " Submit Registration | null                 \n",
      " Submit Upgrade      | 1.0                  \n",
      " Thumbs Down         | 1.0                  \n",
      " Thumbs Up           | 1.0                  \n",
      " Upgrade             | 105.0                \n",
      " free                | 120.0                \n",
      " paid                | 354.0                \n",
      " city                | Chicago-Napervill... \n",
      " state               |  IL-IN-WI            \n",
      " browser             | \"Mozilla/5.0         \n",
      " os                  | iPhone               \n",
      " brand               |  CPU iPhone OS 7_... \n",
      "-RECORD 2-----------------------------------\n",
      " churn               | 1                    \n",
      " About               | null                 \n",
      " Add Friend          | null                 \n",
      " Add to Playlist     | null                 \n",
      " Downgrade           | null                 \n",
      " Error               | null                 \n",
      " Help                | null                 \n",
      " Home                | null                 \n",
      " Login               | null                 \n",
      " Logout              | null                 \n",
      " NextSong            | 251.71428571428572   \n",
      " Register            | null                 \n",
      " Roll Advert         | 11.0                 \n",
      " Save Settings       | null                 \n",
      " Settings            | null                 \n",
      " Submit Downgrade    | null                 \n",
      " Submit Registration | null                 \n",
      " Submit Upgrade      | null                 \n",
      " Thumbs Down         | null                 \n",
      " Thumbs Up           | null                 \n",
      " Upgrade             | null                 \n",
      " free                | 11.0                 \n",
      " paid                | null                 \n",
      " city                | Corpus Christi       \n",
      " state               |  TX                  \n",
      " browser             | \"Mozilla/5.0         \n",
      " os                  | Macintosh            \n",
      " brand               |  Intel Mac OS X 1... \n",
      "-RECORD 3-----------------------------------\n",
      " churn               | 0                    \n",
      " About               | 58.42857142857143    \n",
      " Add Friend          | 1.0                  \n",
      " Add to Playlist     | 49.813559322033896   \n",
      " Downgrade           | 42.51219512195122    \n",
      " Error               | 37.0                 \n",
      " Help                | 67.91304347826087    \n",
      " Home                | 8786.485714285714    \n",
      " Login               | null                 \n",
      " Logout              | 1.0                  \n",
      " NextSong            | 891.1027212552096    \n",
      " Register            | null                 \n",
      " Roll Advert         | 60.75                \n",
      " Save Settings       | 1.0                  \n",
      " Settings            | 44.25                \n",
      " Submit Downgrade    | null                 \n",
      " Submit Registration | null                 \n",
      " Submit Upgrade      | null                 \n",
      " Thumbs Down         | 1.0                  \n",
      " Thumbs Up           | 1.0                  \n",
      " Upgrade             | null                 \n",
      " free                | null                 \n",
      " paid                | 4825.0               \n",
      " city                | Vineland-Bridgeton   \n",
      " state               |  NJ                  \n",
      " browser             | \"Mozilla/5.0         \n",
      " os                  | Macintosh            \n",
      " brand               |  Intel Mac OS X 1... \n",
      "-RECORD 4-----------------------------------\n",
      " churn               | 1                    \n",
      " About               | 87.0                 \n",
      " Add Friend          | 1.0                  \n",
      " Add to Playlist     | 78.84615384615384    \n",
      " Downgrade           | 68.47826086956522    \n",
      " Error               | 86.0                 \n",
      " Help                | 66.91666666666667    \n",
      " Home                | 1657.7567567567567   \n",
      " Login               | null                 \n",
      " Logout              | 1.0                  \n",
      " NextSong            | 583.970156324017     \n",
      " Register            | null                 \n",
      " Roll Advert         | null                 \n",
      " Save Settings       | 1.0                  \n",
      " Settings            | 70.83333333333333    \n",
      " Submit Downgrade    | null                 \n",
      " Submit Registration | null                 \n",
      " Submit Upgrade      | null                 \n",
      " Thumbs Down         | 1.0                  \n",
      " Thumbs Up           | 1.0                  \n",
      " Upgrade             | null                 \n",
      " free                | null                 \n",
      " paid                | 2464.0               \n",
      " city                | Lexington-Fayette    \n",
      " state               |  KY                  \n",
      " browser             | \"Mozilla/5.0         \n",
      " os                  | Windows NT 6.1       \n",
      " brand               |  WOW64) AppleWebK... \n",
      "only showing top 5 rows\n",
      "\n"
     ]
    }
   ],
   "source": [
    "user_data.show(5, vertical=True)"
   ]
  },
  {
   "cell_type": "code",
   "execution_count": 16,
   "metadata": {},
   "outputs": [],
   "source": [
    "# for all null values in categorical variables, \n",
    "# set as missing\n",
    "# this is outside of the pipeline because imputer cannot\n",
    "# handle categorical variables\n",
    "user_data = user_data.fillna({'city':'missing', 'state':'missing', 'browser':'missing', 'os':'missing','brand':'missing'})"
   ]
  },
  {
   "cell_type": "code",
   "execution_count": 15,
   "metadata": {},
   "outputs": [],
   "source": [
    "user_data = user_data.fillna({\n",
    "    'churn':0, 'About':0, 'Add Friend':0, 'Add to Playlist':0, 'Downgrade':0, 'Error':0, \n",
    "    'Help':0, 'Home':0, 'Login':0, 'Logout':0, 'NextSong':0, 'Register':0, 'Roll Advert':0, \n",
    "    'Save Settings': 0, 'Settings':0, 'Submit Downgrade':0, 'Submit Registration':0, 'Submit Upgrade':0, \n",
    "    'Thumbs Down':0, 'Thumbs Up':0, 'Upgrade':0, 'free':0, 'paid':0})"
   ]
  },
  {
   "cell_type": "code",
   "execution_count": 17,
   "metadata": {},
   "outputs": [],
   "source": [
    "# apparently 'churn' should be named 'label'\n",
    "user_data = user_data.withColumnRenamed(\"churn\",\"label\")"
   ]
  },
  {
   "cell_type": "code",
   "execution_count": 18,
   "metadata": {},
   "outputs": [
    {
     "name": "stdout",
     "output_type": "stream",
     "text": [
      "-RECORD 0-----------------------------------\n",
      " label               | 0                    \n",
      " About               | 36.0                 \n",
      " Add Friend          | 1.0                  \n",
      " Add to Playlist     | 14.714285714285714   \n",
      " Downgrade           | 0.0                  \n",
      " Error               | 0.0                  \n",
      " Help                | 22.0                 \n",
      " Home                | 136272.0909090909    \n",
      " Login               | 0.0                  \n",
      " Logout              | 1.0                  \n",
      " NextSong            | 8467.649635036496    \n",
      " Register            | 0.0                  \n",
      " Roll Advert         | 20.28846153846154    \n",
      " Save Settings       | 0.0                  \n",
      " Settings            | 0.0                  \n",
      " Submit Downgrade    | 0.0                  \n",
      " Submit Registration | 0.0                  \n",
      " Submit Upgrade      | 0.0                  \n",
      " Thumbs Down         | 1.0                  \n",
      " Thumbs Up           | 1.0                  \n",
      " Upgrade             | 10.0                 \n",
      " free                | 381.0                \n",
      " paid                | 0.0                  \n",
      " city                | Bridgeport-Stamfo... \n",
      " state               |  CT                  \n",
      " browser             | \"Mozilla/5.0         \n",
      " os                  | iPhone               \n",
      " brand               |  CPU iPhone OS 7_... \n",
      "-RECORD 1-----------------------------------\n",
      " label               | 0                    \n",
      " About               | 43643.0              \n",
      " Add Friend          | 1.0                  \n",
      " Add to Playlist     | 116.5                \n",
      " Downgrade           | 179.8                \n",
      " Error               | 0.0                  \n",
      " Help                | 106.0                \n",
      " Home                | 78121.05             \n",
      " Login               | 0.0                  \n",
      " Logout              | 1.0                  \n",
      " NextSong            | 5789.637305699482    \n",
      " Register            | 0.0                  \n",
      " Roll Advert         | 39.142857142857146   \n",
      " Save Settings       | 0.0                  \n",
      " Settings            | 70.0                 \n",
      " Submit Downgrade    | 0.0                  \n",
      " Submit Registration | 0.0                  \n",
      " Submit Upgrade      | 1.0                  \n",
      " Thumbs Down         | 1.0                  \n",
      " Thumbs Up           | 1.0                  \n",
      " Upgrade             | 105.0                \n",
      " free                | 120.0                \n",
      " paid                | 354.0                \n",
      " city                | Chicago-Napervill... \n",
      " state               |  IL-IN-WI            \n",
      " browser             | \"Mozilla/5.0         \n",
      " os                  | iPhone               \n",
      " brand               |  CPU iPhone OS 7_... \n",
      "-RECORD 2-----------------------------------\n",
      " label               | 1                    \n",
      " About               | 0.0                  \n",
      " Add Friend          | 0.0                  \n",
      " Add to Playlist     | 0.0                  \n",
      " Downgrade           | 0.0                  \n",
      " Error               | 0.0                  \n",
      " Help                | 0.0                  \n",
      " Home                | 0.0                  \n",
      " Login               | 0.0                  \n",
      " Logout              | 0.0                  \n",
      " NextSong            | 251.71428571428572   \n",
      " Register            | 0.0                  \n",
      " Roll Advert         | 11.0                 \n",
      " Save Settings       | 0.0                  \n",
      " Settings            | 0.0                  \n",
      " Submit Downgrade    | 0.0                  \n",
      " Submit Registration | 0.0                  \n",
      " Submit Upgrade      | 0.0                  \n",
      " Thumbs Down         | 0.0                  \n",
      " Thumbs Up           | 0.0                  \n",
      " Upgrade             | 0.0                  \n",
      " free                | 11.0                 \n",
      " paid                | 0.0                  \n",
      " city                | Corpus Christi       \n",
      " state               |  TX                  \n",
      " browser             | \"Mozilla/5.0         \n",
      " os                  | Macintosh            \n",
      " brand               |  Intel Mac OS X 1... \n",
      "-RECORD 3-----------------------------------\n",
      " label               | 0                    \n",
      " About               | 58.42857142857143    \n",
      " Add Friend          | 1.0                  \n",
      " Add to Playlist     | 49.813559322033896   \n",
      " Downgrade           | 42.51219512195122    \n",
      " Error               | 37.0                 \n",
      " Help                | 67.91304347826087    \n",
      " Home                | 8786.485714285714    \n",
      " Login               | 0.0                  \n",
      " Logout              | 1.0                  \n",
      " NextSong            | 891.1027212552096    \n",
      " Register            | 0.0                  \n",
      " Roll Advert         | 60.75                \n",
      " Save Settings       | 1.0                  \n",
      " Settings            | 44.25                \n",
      " Submit Downgrade    | 0.0                  \n",
      " Submit Registration | 0.0                  \n",
      " Submit Upgrade      | 0.0                  \n",
      " Thumbs Down         | 1.0                  \n",
      " Thumbs Up           | 1.0                  \n",
      " Upgrade             | 0.0                  \n",
      " free                | 0.0                  \n",
      " paid                | 4825.0               \n",
      " city                | Vineland-Bridgeton   \n",
      " state               |  NJ                  \n",
      " browser             | \"Mozilla/5.0         \n",
      " os                  | Macintosh            \n",
      " brand               |  Intel Mac OS X 1... \n",
      "-RECORD 4-----------------------------------\n",
      " label               | 1                    \n",
      " About               | 87.0                 \n",
      " Add Friend          | 1.0                  \n",
      " Add to Playlist     | 78.84615384615384    \n",
      " Downgrade           | 68.47826086956522    \n",
      " Error               | 86.0                 \n",
      " Help                | 66.91666666666667    \n",
      " Home                | 1657.7567567567567   \n",
      " Login               | 0.0                  \n",
      " Logout              | 1.0                  \n",
      " NextSong            | 583.970156324017     \n",
      " Register            | 0.0                  \n",
      " Roll Advert         | 0.0                  \n",
      " Save Settings       | 1.0                  \n",
      " Settings            | 70.83333333333333    \n",
      " Submit Downgrade    | 0.0                  \n",
      " Submit Registration | 0.0                  \n",
      " Submit Upgrade      | 0.0                  \n",
      " Thumbs Down         | 1.0                  \n",
      " Thumbs Up           | 1.0                  \n",
      " Upgrade             | 0.0                  \n",
      " free                | 0.0                  \n",
      " paid                | 2464.0               \n",
      " city                | Lexington-Fayette    \n",
      " state               |  KY                  \n",
      " browser             | \"Mozilla/5.0         \n",
      " os                  | Windows NT 6.1       \n",
      " brand               |  WOW64) AppleWebK... \n",
      "only showing top 5 rows\n",
      "\n"
     ]
    }
   ],
   "source": [
    "user_data.show(5, vertical=True)"
   ]
  },
  {
   "cell_type": "markdown",
   "metadata": {},
   "source": [
    "# Modeling\n",
    "Split the full dataset into train, test, and validation sets. Test out several of the machine learning methods you learned. Evaluate the accuracy of the various models, tuning parameters as necessary. Determine your winning model based on test accuracy and report results on the validation set. Since the churned users are a fairly small subset, I suggest using F1 score as the metric to optimize."
   ]
  },
  {
   "cell_type": "markdown",
   "metadata": {},
   "source": [
    "### Columns Used: "
   ]
  },
  {
   "cell_type": "code",
   "execution_count": 76,
   "metadata": {},
   "outputs": [
    {
     "name": "stdout",
     "output_type": "stream",
     "text": [
      "root\n",
      " |-- label: long (nullable = true)\n",
      " |-- About: double (nullable = true)\n",
      " |-- Add Friend: double (nullable = true)\n",
      " |-- Add to Playlist: double (nullable = true)\n",
      " |-- Downgrade: double (nullable = true)\n",
      " |-- Error: double (nullable = true)\n",
      " |-- Help: double (nullable = true)\n",
      " |-- Home: double (nullable = true)\n",
      " |-- Login: double (nullable = true)\n",
      " |-- Logout: double (nullable = true)\n",
      " |-- NextSong: double (nullable = true)\n",
      " |-- Register: double (nullable = true)\n",
      " |-- Roll Advert: double (nullable = true)\n",
      " |-- Save Settings: double (nullable = true)\n",
      " |-- Settings: double (nullable = true)\n",
      " |-- Submit Downgrade: double (nullable = true)\n",
      " |-- Submit Registration: double (nullable = true)\n",
      " |-- Submit Upgrade: double (nullable = true)\n",
      " |-- Thumbs Down: double (nullable = true)\n",
      " |-- Thumbs Up: double (nullable = true)\n",
      " |-- Upgrade: double (nullable = true)\n",
      " |-- free: double (nullable = true)\n",
      " |-- paid: double (nullable = true)\n",
      " |-- city: string (nullable = false)\n",
      " |-- state: string (nullable = false)\n",
      " |-- browser: string (nullable = false)\n",
      " |-- os: string (nullable = false)\n",
      " |-- brand: string (nullable = false)\n",
      "\n"
     ]
    }
   ],
   "source": [
    "user_data.printSchema()"
   ]
  },
  {
   "cell_type": "code",
   "execution_count": 15,
   "metadata": {},
   "outputs": [
    {
     "name": "stdout",
     "output_type": "stream",
     "text": [
      "226\n"
     ]
    }
   ],
   "source": [
    "print(user_data.count())"
   ]
  },
  {
   "cell_type": "code",
   "execution_count": 26,
   "metadata": {},
   "outputs": [],
   "source": [
    "categ_pipeline = Pipeline(stages=[\n",
    "    StringIndexer(inputCol=\"city\",outputCol=\"cityIndex\", handleInvalid=\"skip\"),\n",
    "    StringIndexer(inputCol=\"state\",outputCol=\"stateIndex\", handleInvalid=\"skip\"),\n",
    "    StringIndexer(inputCol=\"browser\",outputCol=\"osIndex\", handleInvalid=\"skip\"),\n",
    "    StringIndexer(inputCol=\"os\",outputCol=\"browserIndex\", handleInvalid=\"skip\"),\n",
    "    StringIndexer(inputCol=\"brand\",outputCol=\"brandIndex\", handleInvalid=\"skip\"),\n",
    "    VectorAssembler(\n",
    "        inputCols=[\"cityIndex\",\"stateIndex\",\"osIndex\",\"browserIndex\",\"brandIndex\"], \n",
    "        outputCol=\"categ_features\"\n",
    "    )\n",
    "])"
   ]
  },
  {
   "cell_type": "code",
   "execution_count": 27,
   "metadata": {},
   "outputs": [],
   "source": [
    "# create list of numeric columns\n",
    "numeric_cols = user_page_df.columns[1:] + user_level.columns[1:]\n",
    "out_numeric_cols = [ n + '_imp' for n in numeric_cols ]\n",
    "# create pipeline\n",
    "numer_pipeline = Pipeline(stages=[\n",
    "    VectorAssembler(inputCols=numeric_cols, outputCol=\"numer_features\")\n",
    "])"
   ]
  },
  {
   "cell_type": "code",
   "execution_count": 28,
   "metadata": {},
   "outputs": [],
   "source": [
    "# unite pipelines\n",
    "final_pipeline = Pipeline(stages=[\n",
    "    categ_pipeline,\n",
    "    numer_pipeline,\n",
    "    VectorAssembler(\n",
    "        inputCols=[\"categ_features\",\"numer_features\"],\n",
    "        outputCol=\"features\"\n",
    "    ),\n",
    "    LogisticRegression(maxIter=10)\n",
    "])"
   ]
  },
  {
   "cell_type": "code",
   "execution_count": 57,
   "metadata": {},
   "outputs": [],
   "source": [
    "#fit the pipeline to our dataframe\n",
    "pipelineModel = final_pipeline.fit(user_data)\n",
    "#transform the dataframe\n",
    "# transformed_data = pipelineModel.transform(user_data)"
   ]
  },
  {
   "cell_type": "code",
   "execution_count": 71,
   "metadata": {},
   "outputs": [
    {
     "data": {
      "text/plain": [
       "0.7787610619469026"
      ]
     },
     "execution_count": 71,
     "metadata": {},
     "output_type": "execute_result"
    }
   ],
   "source": [
    "pipelineModel.stages[-1].summary.accuracy"
   ]
  },
  {
   "cell_type": "code",
   "execution_count": 72,
   "metadata": {},
   "outputs": [
    {
     "data": {
      "text/plain": [
       "0.7668545534924848"
      ]
     },
     "execution_count": 72,
     "metadata": {},
     "output_type": "execute_result"
    }
   ],
   "source": [
    "pipelineModel.stages[-1].summary.areaUnderROC"
   ]
  },
  {
   "cell_type": "code",
   "execution_count": 77,
   "metadata": {},
   "outputs": [],
   "source": [
    "# save roc data\n",
    "roc_df = pipelineModel.stages[-1].summary.roc\n",
    "# convert to pandas"
   ]
  },
  {
   "cell_type": "code",
   "execution_count": 78,
   "metadata": {},
   "outputs": [
    {
     "name": "stderr",
     "output_type": "stream",
     "text": [
      "Exception ignored in: <object repr() failed>\n",
      "Traceback (most recent call last):\n",
      "  File \"/opt/spark-2.4.3-bin-hadoop2.7/python/pyspark/ml/wrapper.py\", line 40, in __del__\n",
      "    if SparkContext._active_spark_context and self._java_obj is not None:\n",
      "AttributeError: 'VectorAssembler' object has no attribute '_java_obj'\n",
      "Exception ignored in: <object repr() failed>\n",
      "Traceback (most recent call last):\n",
      "  File \"/opt/spark-2.4.3-bin-hadoop2.7/python/pyspark/ml/wrapper.py\", line 40, in __del__\n",
      "    if SparkContext._active_spark_context and self._java_obj is not None:\n",
      "AttributeError: 'StringIndexer' object has no attribute '_java_obj'\n"
     ]
    }
   ],
   "source": [
    "import pandas as pd\n",
    "pandasDF = roc_df.toPandas()\n",
    "# create scatterplot"
   ]
  },
  {
   "cell_type": "code",
   "execution_count": 81,
   "metadata": {},
   "outputs": [
    {
     "data": {
      "text/plain": [
       "<matplotlib.axes._subplots.AxesSubplot at 0x7fdd844eaef0>"
      ]
     },
     "execution_count": 81,
     "metadata": {},
     "output_type": "execute_result"
    },
    {
     "data": {
      "image/png": "[encoded data removed]",
      "text/plain": [
       "<matplotlib.figure.Figure at 0x7fdd844ea7f0>"
      ]
     },
     "metadata": {
      "needs_background": "light"
     },
     "output_type": "display_data"
    }
   ],
   "source": [
    "%matplotlib inline\n",
    "pandasDF.plot.scatter(x='FPR',y='TPR')"
   ]
  },
  {
   "cell_type": "code",
   "execution_count": 73,
   "metadata": {},
   "outputs": [
    {
     "name": "stdout",
     "output_type": "stream",
     "text": [
      "coefficients: DenseMatrix([[  1.39444872e-03,   4.16220274e-03,   2.51712723e-01,\n",
      "               -2.95805071e-03,  -3.08518978e-02,  -8.67307251e-06,\n",
      "                0.00000000e+00,   1.10857386e-03,   1.28076442e-03,\n",
      "               -1.83401657e-05,   9.02829945e-06,  -3.51325582e-06,\n",
      "                0.00000000e+00,   0.00000000e+00,  -1.72127888e-04,\n",
      "                0.00000000e+00,   7.54878010e-04,   0.00000000e+00,\n",
      "               -2.39129778e-03,   0.00000000e+00,   0.00000000e+00,\n",
      "                0.00000000e+00,   0.00000000e+00,   0.00000000e+00,\n",
      "                1.20896507e-03,  -4.24891630e-04,  -6.02705120e-04]])\n"
     ]
    }
   ],
   "source": [
    "# there definitely seems to be a browser issue\n",
    "print(\"coefficients: \" + str(pipelineModel.stages[-1].coefficientMatrix))"
   ]
  },
  {
   "cell_type": "markdown",
   "metadata": {},
   "source": [
    "# Cross-Validate"
   ]
  },
  {
   "cell_type": "code",
   "execution_count": 23,
   "metadata": {},
   "outputs": [],
   "source": [
    "paramGrid = ParamGridBuilder() \\\n",
    "    .addGrid(LogisticRegression.regParam, [0.1, 0.05, 0.01]) \\\n",
    "    .build()"
   ]
  },
  {
   "cell_type": "code",
   "execution_count": 32,
   "metadata": {},
   "outputs": [],
   "source": [
    "crossval = CrossValidator(estimator=final_pipeline,\n",
    "                          estimatorParamMaps=paramGrid,\n",
    "                          evaluator=BinaryClassificationEvaluator(labelCol='label',metricName='areaUnderROC'),\n",
    "                          numFolds=5) "
   ]
  },
  {
   "cell_type": "code",
   "execution_count": 33,
   "metadata": {},
   "outputs": [],
   "source": [
    "cvModel = crossval.fit(user_data)"
   ]
  },
  {
   "cell_type": "code",
   "execution_count": 34,
   "metadata": {},
   "outputs": [
    {
     "data": {
      "text/plain": [
       "[0.7880498487020224, 0.7880498487020224, 0.7880498487020224]"
      ]
     },
     "execution_count": 34,
     "metadata": {},
     "output_type": "execute_result"
    }
   ],
   "source": [
    "# certainly looks like the regParam is fine at 0.1\n",
    "cvModel.avgMetrics"
   ]
  },
  {
   "cell_type": "markdown",
   "metadata": {},
   "source": [
    "# Final Steps\n",
    "Clean up your code, adding comments and renaming variables to make the code easier to read and maintain. Refer to the Spark Project Overview page and Data Scientist Capstone Project Rubric to make sure you are including all components of the capstone project and meet all expectations. Remember, this includes thorough documentation in a README file in a Github repository, as well as a web app or blog post."
   ]
  },
  {
   "cell_type": "code",
   "execution_count": null,
   "metadata": {},
   "outputs": [],
   "source": []
  }
 ],
 "metadata": {
  "kernelspec": {
   "display_name": "Python 3",
   "language": "python",
   "name": "python3"
  },
  "language_info": {
   "codemirror_mode": {
    "name": "ipython",
    "version": 3
   },
   "file_extension": ".py",
   "mimetype": "text/x-python",
   "name": "python",
   "nbconvert_exporter": "python",
   "pygments_lexer": "ipython3",
   "version": "3.6.3"
  }
 },
 "nbformat": 4,
 "nbformat_minor": 2
}
