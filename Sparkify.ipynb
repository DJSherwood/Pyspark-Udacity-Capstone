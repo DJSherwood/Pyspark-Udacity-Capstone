{
 "cells": [
  {
   "cell_type": "markdown",
   "metadata": {},
   "source": [
    "# Sparkify Project Workspace\n",
    "This workspace contains a tiny subset (128MB) of the full dataset available (12GB). Feel free to use this workspace to build your project, or to explore a smaller subset with Spark before deploying your cluster on the cloud. Instructions for setting up your Spark cluster is included in the last lesson of the Extracurricular Spark Course content.\n",
    "\n",
    "You can follow the steps below to guide your data analysis and model building portion of this project."
   ]
  },
  {
   "cell_type": "code",
   "execution_count": 18,
   "metadata": {},
   "outputs": [],
   "source": [
    "# import libraries\n",
    "from pyspark.sql import SparkSession\n",
    "from pyspark.sql import functions as F\n",
    "from pyspark.sql.window import Window\n",
    "from pyspark.sql import types as t\n",
    "from pyspark.ml.classification import LogisticRegression \n",
    "from pyspark.ml.feature import Imputer, StringIndexer, VectorAssembler\n",
    "from pyspark.ml import Pipeline\n",
    "from pyspark.ml.tuning import CrossValidator, ParamGridBuilder\n",
    "from pyspark.ml.evaluation import BinaryClassificationEvaluator"
   ]
  },
  {
   "cell_type": "code",
   "execution_count": 19,
   "metadata": {},
   "outputs": [],
   "source": [
    "# create a Spark session\n",
    "spark = SparkSession \\\n",
    "    .builder \\\n",
    "    .appName(\"sparkify\") \\\n",
    "    .getOrCreate()"
   ]
  },
  {
   "cell_type": "markdown",
   "metadata": {},
   "source": [
    "# Load Dataset\n",
    "In this workspace, the mini-dataset file is `mini_sparkify_event_data.json`. Load and clean the dataset, checking for invalid or missing data - for example, records without userids or sessionids. "
   ]
  },
  {
   "cell_type": "code",
   "execution_count": 20,
   "metadata": {},
   "outputs": [],
   "source": [
    "# df = spark.read.json(\"data/sparkify_log_small.json\")\n",
    "df = spark.read.json(\"mini_sparkify_event_data.json\")"
   ]
  },
  {
   "cell_type": "code",
   "execution_count": 27,
   "metadata": {},
   "outputs": [
    {
     "name": "stdout",
     "output_type": "stream",
     "text": [
      "root\n",
      " |-- artist: string (nullable = true)\n",
      " |-- auth: string (nullable = true)\n",
      " |-- firstName: string (nullable = true)\n",
      " |-- gender: string (nullable = true)\n",
      " |-- itemInSession: long (nullable = true)\n",
      " |-- lastName: string (nullable = true)\n",
      " |-- length: double (nullable = true)\n",
      " |-- level: string (nullable = true)\n",
      " |-- location: string (nullable = true)\n",
      " |-- method: string (nullable = true)\n",
      " |-- page: string (nullable = true)\n",
      " |-- registration: long (nullable = true)\n",
      " |-- sessionId: long (nullable = true)\n",
      " |-- song: string (nullable = true)\n",
      " |-- status: long (nullable = true)\n",
      " |-- ts: long (nullable = true)\n",
      " |-- userAgent: string (nullable = true)\n",
      " |-- userId: string (nullable = true)\n",
      "\n"
     ]
    }
   ],
   "source": [
    "df.printSchema()"
   ]
  },
  {
   "cell_type": "code",
   "execution_count": 28,
   "metadata": {},
   "outputs": [
    {
     "name": "stdout",
     "output_type": "stream",
     "text": [
      "(286403, 18)\n"
     ]
    }
   ],
   "source": [
    "# since we are interested in predicting user churn, the 'guests'\n",
    "# need to be removed\n",
    "df = df.filter(df.auth != \"Guest\")\n",
    "# the size of the dataset\n",
    "print((df.count(), len(df.columns)))"
   ]
  },
  {
   "cell_type": "code",
   "execution_count": 29,
   "metadata": {},
   "outputs": [
    {
     "name": "stdout",
     "output_type": "stream",
     "text": [
      "-RECORD 0--------------------------\n",
      " artist        | 25.55587704070002 \n",
      " auth          | 0.0               \n",
      " firstName     | 2.965623359721593 \n",
      " gender        | 2.965623359721593 \n",
      " itemInSession | 0.0               \n",
      " lastName      | 2.965623359721593 \n",
      " length        | 25.55587704070002 \n",
      " level         | 0.0               \n",
      " location      | 2.965623359721593 \n",
      " method        | 0.0               \n",
      " page          | 0.0               \n",
      " registration  | 2.965623359721593 \n",
      " sessionId     | 0.0               \n",
      " song          | 25.55587704070002 \n",
      " status        | 0.0               \n",
      " ts            | 0.0               \n",
      " userAgent     | 2.965623359721593 \n",
      " userId        | 0.0               \n",
      "\n"
     ]
    }
   ],
   "source": [
    "# show percent nulls\n",
    "# because 'artist','length','song' have so many missing values I will not use them\n",
    "df.select(\n",
    "    [\n",
    "        ( (F.count(F.when(F.isnull(c), c)) / F.count(c)) * 100 ) \\\n",
    "            .alias(c) for c in df.columns\n",
    "    ]\n",
    ").show(vertical=True)"
   ]
  },
  {
   "cell_type": "code",
   "execution_count": 30,
   "metadata": {},
   "outputs": [
    {
     "name": "stdout",
     "output_type": "stream",
     "text": [
      "-RECORD 0---------------\n",
      " artist        | 17655  \n",
      " auth          | 3      \n",
      " firstName     | 189    \n",
      " gender        | 2      \n",
      " itemInSession | 1322   \n",
      " lastName      | 173    \n",
      " length        | 14865  \n",
      " level         | 2      \n",
      " location      | 114    \n",
      " method        | 2      \n",
      " page          | 20     \n",
      " registration  | 225    \n",
      " sessionId     | 2353   \n",
      " song          | 58480  \n",
      " status        | 3      \n",
      " ts            | 277359 \n",
      " userAgent     | 56     \n",
      " userId        | 226    \n",
      "\n"
     ]
    }
   ],
   "source": [
    "# show distinct values for each column and display vertically\n",
    "df.agg(*(F.countDistinct(c).alias(c) for c in df.columns)).show(vertical=True)"
   ]
  },
  {
   "cell_type": "markdown",
   "metadata": {},
   "source": [
    "### Define Churn\n",
    "\n",
    "Once you've done some preliminary analysis, create a column `Churn` to use as the label for your model. I suggest using the `Cancellation Confirmation` events to define your churn, which happen for both paid and free users. As a bonus task, you can also look into the `Downgrade` events."
   ]
  },
  {
   "cell_type": "code",
   "execution_count": 31,
   "metadata": {},
   "outputs": [],
   "source": [
    "# this is a binary, indicator column to be used to predict churn\n",
    "# may also look at incorporating 'downgrade'\n",
    "df = df.withColumn(\n",
    "    'churn',\n",
    "    F.when((F.col('page') =='Cancellation Confirmation'), 1) \\\n",
    "    .otherwise(0)\n",
    ")"
   ]
  },
  {
   "cell_type": "markdown",
   "metadata": {},
   "source": [
    "# Exploratory Data Analysis\n",
    "When you're working with the full dataset, perform EDA by loading a small subset of the data and doing basic manipulations within Spark. In this workspace, you are already provided a small subset of data you can explore."
   ]
  },
  {
   "cell_type": "code",
   "execution_count": 10,
   "metadata": {},
   "outputs": [
    {
     "data": {
      "text/plain": [
       "(52, 226, 0.18705035971223022)"
      ]
     },
     "execution_count": 10,
     "metadata": {},
     "output_type": "execute_result"
    }
   ],
   "source": [
    "# users who have a cancellation value of 1\n",
    "users_who_quit = df.filter(df.churn==1) \\\n",
    "    .select(df.userId) \\\n",
    "    .dropDuplicates()\n",
    "\n",
    "# users who have a cancellation value of 0\n",
    "users_who_stayed = df.filter(df.churn==0) \\\n",
    "    .select(df.userId) \\\n",
    "    .dropDuplicates()\n",
    "\n",
    "# examine their lengths\n",
    "users_who_quit.count(), users_who_stayed.count(), ( users_who_quit.count() / (users_who_quit.count() + users_who_stayed.count())) * 100"
   ]
  },
  {
   "cell_type": "code",
   "execution_count": 32,
   "metadata": {},
   "outputs": [
    {
     "name": "stdout",
     "output_type": "stream",
     "text": [
      "+-----+-----+----------+\n",
      "|level|churn|user_count|\n",
      "+-----+-----+----------+\n",
      "| paid|    0|       166|\n",
      "| free|    0|       196|\n",
      "| paid|    1|        31|\n",
      "| free|    1|        21|\n",
      "+-----+-----+----------+\n",
      "\n"
     ]
    }
   ],
   "source": [
    "# are cancellation rates the same between free and paid users? \n",
    "churn_table = df.select(\"level\",\"churn\",\"userId\") \\\n",
    "    .dropDuplicates() \\\n",
    "    .groupBy(F.col('level'),F.col('churn')) \\\n",
    "    .count() \\\n",
    "    .withColumnRenamed('count','user_count')\n",
    "\n",
    "churn_table.show()"
   ]
  },
  {
   "cell_type": "code",
   "execution_count": 90,
   "metadata": {},
   "outputs": [
    {
     "data": {
      "text/plain": [
       "(15.736040609137056, 9.67741935483871)"
      ]
     },
     "execution_count": 90,
     "metadata": {},
     "output_type": "execute_result"
    }
   ],
   "source": [
    "# 16% of paid and 10% of free users churned\n",
    "( 31 / ( 166 + 31)) * 100, ( 21 / ( 196 + 21)) * 100"
   ]
  },
  {
   "cell_type": "code",
   "execution_count": 34,
   "metadata": {},
   "outputs": [
    {
     "name": "stdout",
     "output_type": "stream",
     "text": [
      "+------+-----+----------+\n",
      "|gender|churn|user_count|\n",
      "+------+-----+----------+\n",
      "|     M|    1|        32|\n",
      "|     F|    0|       104|\n",
      "|     F|    1|        20|\n",
      "|     M|    0|       121|\n",
      "|  null|    0|         1|\n",
      "+------+-----+----------+\n",
      "\n"
     ]
    }
   ],
   "source": [
    "# are cancellation rates the same between free and paid users? \n",
    "churn_table = df.select(\"gender\",\"churn\",\"userId\") \\\n",
    "    .dropDuplicates() \\\n",
    "    .groupBy(F.col('gender'),F.col('churn')) \\\n",
    "    .count() \\\n",
    "    .withColumnRenamed('count','user_count')\n",
    "\n",
    "churn_table.show()"
   ]
  },
  {
   "cell_type": "markdown",
   "metadata": {},
   "source": [
    "# Feature Engineering\n",
    "\n",
    "The goal is to predict behavior at the user level--specifically if the user 'churns' or not. \n",
    "\n",
    "Ideas for features are: \n",
    "1. Cumulative Totals Per User: \n",
    "    - Add Friends\n",
    "    - Add to Playlist\n",
    "    - Roll Advertisement\n",
    "    - Error\n",
    "    - Login / Logout\n",
    "    - Thumbs Up / Thumbs Down\n",
    "    - Submit Upgrade / Submit Downgrade\n",
    "\n",
    "2. Location: \n",
    "    - City\n",
    "    - State\n",
    "    \n",
    "3. userAgent: \n",
    "    - browser\n",
    "    - os \n",
    "    - brand\n",
    "    \n",
    "4. Time: \n",
    "    - Avg. Length of Session\n",
    "    - Time Spent as Free / Paid Level\n",
    "    - Time User spent on Sparkify\n",
    "    \n",
    "5. Gender of User"
   ]
  },
  {
   "cell_type": "markdown",
   "metadata": {},
   "source": [
    "#### 1. Cumulative Totals Per User DataFrame"
   ]
  },
  {
   "cell_type": "code",
   "execution_count": 130,
   "metadata": {},
   "outputs": [
    {
     "name": "stdout",
     "output_type": "stream",
     "text": [
      "+------+----------+---------------+-----+----+------+-----------+-----------+---------+\n",
      "|userId|Add Friend|Add to Playlist|Error|Help|Logout|Roll Advert|Thumbs Down|Thumbs Up|\n",
      "+------+----------+---------------+-----+----+------+-----------+-----------+---------+\n",
      "|200002|         4|              8| null|   2|     5|          7|          6|       21|\n",
      "|100010|         4|              7| null|   2|     5|         52|          5|       17|\n",
      "|   125|      null|           null| null|null|  null|          1|       null|     null|\n",
      "|    51|        28|             52|    1|  12|    24|       null|         21|      100|\n",
      "|     7|         1|              5|    1|   1|     3|         16|          1|        7|\n",
      "|   124|        74|            118|    6|  23|    59|          4|         41|      171|\n",
      "|    54|        33|             72|    1|  17|    36|         47|         29|      163|\n",
      "|    15|        31|             59|    2|   8|    27|          1|         14|       81|\n",
      "|   155|        11|             24|    3|   9|    14|          8|          3|       58|\n",
      "|   132|        41|             38|    3|  16|    34|          2|         17|       96|\n",
      "|100014|         6|              7| null|   2|     3|          2|          3|       17|\n",
      "|   154|         3|              1| null|   1|     2|         10|       null|       11|\n",
      "|   101|        29|             61|    3|  12|    24|          8|         16|       86|\n",
      "|    11|         6|             20|    1|   3|    14|         39|          9|       40|\n",
      "|   138|        41|             67|    1|  13|    18|         17|         24|       95|\n",
      "|300017|        63|            113|    5|  27|    41|         11|         28|      303|\n",
      "|100021|         7|              7|    2|null|     7|         30|          5|       11|\n",
      "|    69|        12|             33|    4|   7|    10|          3|          9|       72|\n",
      "|    29|        47|             89| null|  28|    41|         22|         22|      154|\n",
      "|   112|         7|              7| null|   1|     3|         21|          3|        9|\n",
      "+------+----------+---------------+-----+----+------+-----------+-----------+---------+\n",
      "only showing top 20 rows\n",
      "\n"
     ]
    }
   ],
   "source": [
    "# Cumulative Totals of Page Per User\n",
    "page_list = [\"Add Friend\", \"Add to Playlist\", \"Logout\", \"Thumbs Up\", \n",
    "             \"Thumbs Down\", \"Error\", \"Roll Advert\", \"Help\"]\n",
    "\n",
    "user_page = df.select(\"userId\",\"page\") \\\n",
    "    .filter(F.col(\"page\").isin(page_list)) \\\n",
    "    .groupBy(\"userId\") \\\n",
    "    .pivot(\"page\") \\\n",
    "    .agg(F.count(\"page\").alias(\"page_count\"))\n",
    "\n",
    "user_page.show()"
   ]
  },
  {
   "cell_type": "markdown",
   "metadata": {},
   "source": [
    "#### 2. Location DataFrame"
   ]
  },
  {
   "cell_type": "code",
   "execution_count": 118,
   "metadata": {},
   "outputs": [
    {
     "name": "stdout",
     "output_type": "stream",
     "text": [
      "+------+--------------------+------------+\n",
      "|userId|                city|       state|\n",
      "+------+--------------------+------------+\n",
      "|    13|Philadelphia-Camd...| PA-NJ-DE-MD|\n",
      "|   124|  Vineland-Bridgeton|          NJ|\n",
      "|300017|               Ionia|          MI|\n",
      "|    67|Sacramento--Rosev...|          CA|\n",
      "|    91|   New Haven-Milford|          CT|\n",
      "|   136|Charlotte-Concord...|       NC-SC|\n",
      "|200021|Detroit-Warren-De...|          MI|\n",
      "|300005|             Roanoke|          VA|\n",
      "|    20|Miami-Fort Lauder...|          FL|\n",
      "|   151|Washington-Arling...| DC-VA-MD-WV|\n",
      "|    95|Phoenix-Mesa-Scot...|          AZ|\n",
      "|   104|            Billings|          MT|\n",
      "|300008|          Cookeville|          TN|\n",
      "|    62|Houston-The Woodl...|          TX|\n",
      "|300009|           St. Louis|       MO-IL|\n",
      "|    24|                Troy|          AL|\n",
      "|    81|Philadelphia-Camd...| PA-NJ-DE-MD|\n",
      "|    93|Allentown-Bethleh...|       PA-NJ|\n",
      "|   114|Las Vegas-Henders...|          NV|\n",
      "|    99|   New Haven-Milford|          CT|\n",
      "+------+--------------------+------------+\n",
      "only showing top 20 rows\n",
      "\n"
     ]
    }
   ],
   "source": [
    "# split the 'location' field into 'city' and 'state fields'\n",
    "user_location = df.withColumn('city', F.split(df['location'], ',').getItem(0)) \\\n",
    "    .withColumn('state', F.split(df['location'], ',').getItem(1)) \\\n",
    "    .select(\"userId\",\"city\",\"state\") \\\n",
    "    .dropDuplicates()\n",
    "\n",
    "user_location.show()"
   ]
  },
  {
   "cell_type": "markdown",
   "metadata": {},
   "source": [
    "#### 3. Browser / Device DataFrame"
   ]
  },
  {
   "cell_type": "code",
   "execution_count": 119,
   "metadata": {},
   "outputs": [
    {
     "name": "stdout",
     "output_type": "stream",
     "text": [
      "+------+-------------+--------------------+--------------------+\n",
      "|userId|      browser|                  os|               brand|\n",
      "+------+-------------+--------------------+--------------------+\n",
      "|    74|\"Mozilla/5.0 |           Macintosh| Intel Mac OS X 1...|\n",
      "|    14| Mozilla/5.0 |           Macintosh| Intel Mac OS X 10.9|\n",
      "|100010|\"Mozilla/5.0 |              iPhone| CPU iPhone OS 7_...|\n",
      "|    59| Mozilla/5.0 |      Windows NT 6.1|               WOW64|\n",
      "|   132|\"Mozilla/5.0 |           Macintosh| Intel Mac OS X 1...|\n",
      "|   153|\"Mozilla/5.0 |      Windows NT 6.1| WOW64) AppleWebK...|\n",
      "|    83|\"Mozilla/5.0 |                 X11| Linux x86_64) Ap...|\n",
      "|100014|\"Mozilla/5.0 |      Windows NT 6.1| WOW64) AppleWebK...|\n",
      "|    96|\"Mozilla/5.0 |           Macintosh| Intel Mac OS X 1...|\n",
      "|200023|\"Mozilla/5.0 |      Windows NT 6.3| WOW64) AppleWebK...|\n",
      "|200006|\"Mozilla/5.0 |           Macintosh| Intel Mac OS X 1...|\n",
      "|    28| Mozilla/5.0 |      Windows NT 6.1|               WOW64|\n",
      "|    70|\"Mozilla/5.0 |      Windows NT 6.1| WOW64) AppleWebK...|\n",
      "|200011|\"Mozilla/5.0 |           Macintosh| Intel Mac OS X 1...|\n",
      "|    40| Mozilla/5.0 |      Windows NT 6.3|               WOW64|\n",
      "|    99|\"Mozilla/5.0 |      Windows NT 6.1| WOW64) AppleWebK...|\n",
      "|300024| Mozilla/5.0 |           Macintosh| Intel Mac OS X 10.9|\n",
      "|200004|\"Mozilla/5.0 |           Macintosh| Intel Mac OS X 1...|\n",
      "|    38|\"Mozilla/5.0 |           Macintosh| Intel Mac OS X 1...|\n",
      "|100013|\"Mozilla/5.0 |Windows NT 6.1) A...|                null|\n",
      "+------+-------------+--------------------+--------------------+\n",
      "only showing top 20 rows\n",
      "\n"
     ]
    }
   ],
   "source": [
    "# create browser, os, brand from userAgent\n",
    "df = df.withColumn('browser', F.split(df['userAgent'], '\\(').getItem(0)) \\\n",
    "    .withColumn('temp', F.split(df['userAgent'], '\\(').getItem(1)) \n",
    "\n",
    "df = df.withColumn('os', F.split(df['temp'], ';').getItem(0)) \\\n",
    "    .withColumn('brand', F.split(df['temp'], ';').getItem(1))\n",
    "\n",
    "user_browser = df.select(\"userId\",\"browser\",\"os\",\"brand\").dropDuplicates()\n",
    "\n",
    "user_browser.show()"
   ]
  },
  {
   "cell_type": "markdown",
   "metadata": {},
   "source": [
    "#### 4. Time DataFrames"
   ]
  },
  {
   "cell_type": "code",
   "execution_count": 120,
   "metadata": {},
   "outputs": [
    {
     "name": "stdout",
     "output_type": "stream",
     "text": [
      "+------+---------------+\n",
      "|userId|avgSessionHours|\n",
      "+------+---------------+\n",
      "|100010|            2.6|\n",
      "|200002|            4.4|\n",
      "|   125|            0.5|\n",
      "|    51|           14.5|\n",
      "|   124|            9.6|\n",
      "|     7|            1.5|\n",
      "|    54|            5.4|\n",
      "|    15|            8.8|\n",
      "|   155|            9.1|\n",
      "|100014|            3.1|\n",
      "|   132|            8.3|\n",
      "|   154|            1.8|\n",
      "|   101|           13.6|\n",
      "|    11|            2.7|\n",
      "|300017|            3.9|\n",
      "|   138|            9.4|\n",
      "|    29|            6.1|\n",
      "|    69|            8.8|\n",
      "|100021|            3.6|\n",
      "|    42|            5.5|\n",
      "+------+---------------+\n",
      "only showing top 20 rows\n",
      "\n"
     ]
    }
   ],
   "source": [
    "# create window partition\n",
    "w = Window.partitionBy(\"userId\",\"sessionId\").orderBy(\"sessionId\")\n",
    "# calculate session duration ( per user ) in HOURS\n",
    "user_sess_dur = df.select(\"userId\",\"sessionId\",\"ts\") \\\n",
    "    .withColumn(\"max_ts\", F.max('ts').over(w)) \\\n",
    "    .withColumn(\"min_ts\", F.min('ts').over(w)) \\\n",
    "    .withColumn(\"tsDiff\", ( F.col('max_ts') - F.col('min_ts')) / ( 1000 * 3600 )) \\\n",
    "    .select(\"userId\",\"sessionId\",\"tsDiff\") \\\n",
    "    .dropDuplicates() \\\n",
    "    .groupBy(\"userId\") \\\n",
    "    .agg(F.round(F.avg(\"tsDiff\"),1).alias(\"avgSessionHours\"))\n",
    "\n",
    "user_sess_dur.show()"
   ]
  },
  {
   "cell_type": "code",
   "execution_count": 121,
   "metadata": {},
   "outputs": [
    {
     "name": "stdout",
     "output_type": "stream",
     "text": [
      "+------+--------+\n",
      "|userId|daysUsed|\n",
      "+------+--------+\n",
      "|100010|    44.2|\n",
      "|200002|    45.5|\n",
      "|   125|     0.0|\n",
      "|   124|    60.0|\n",
      "|    51|    15.8|\n",
      "|     7|    50.8|\n",
      "|    15|    54.8|\n",
      "|    54|    42.8|\n",
      "|   155|    25.8|\n",
      "|100014|    41.2|\n",
      "|   132|    50.5|\n",
      "|   154|    25.0|\n",
      "|   101|    15.9|\n",
      "|    11|    53.2|\n",
      "|   138|    56.1|\n",
      "|300017|    59.1|\n",
      "|100021|    45.5|\n",
      "|    29|    43.3|\n",
      "|    69|    51.0|\n",
      "|   112|    56.9|\n",
      "+------+--------+\n",
      "only showing top 20 rows\n",
      "\n"
     ]
    }
   ],
   "source": [
    "# create window partition\n",
    "w = Window.partitionBy(\"userId\").orderBy(\"userId\")\n",
    "# calculate total time used\n",
    "user_days = df.select(\"userId\",\"ts\") \\\n",
    "    .withColumn(\"max_ts\", F.max('ts').over(w)) \\\n",
    "    .withColumn(\"min_ts\", F.min('ts').over(w)) \\\n",
    "    .withColumn(\"daysUsed\", F.round(( F.col('max_ts') - F.col('min_ts') ) / ( 1000 * 3600 * 24), 1)) \\\n",
    "    .select(\"userId\", \"daysUsed\") \\\n",
    "    .dropDuplicates()\n",
    "\n",
    "user_days.show()"
   ]
  },
  {
   "cell_type": "code",
   "execution_count": 122,
   "metadata": {},
   "outputs": [
    {
     "name": "stdout",
     "output_type": "stream",
     "text": [
      "+------+----+----+\n",
      "|userId|free|paid|\n",
      "+------+----+----+\n",
      "|200002|16.9|28.6|\n",
      "|100010|44.2|null|\n",
      "|   125| 0.0|null|\n",
      "|     7|50.8|null|\n",
      "|   124|null|60.0|\n",
      "|    51|null|15.8|\n",
      "|    54|14.0|42.8|\n",
      "|    15|null|54.8|\n",
      "|   155| 6.4|19.4|\n",
      "|   132| 0.1|50.4|\n",
      "|   154|25.0|null|\n",
      "|100014|null|41.2|\n",
      "|    11|42.5|47.1|\n",
      "|   101| 1.7|14.2|\n",
      "|300017|null|59.1|\n",
      "|   138|16.6|39.5|\n",
      "|100021|45.5|null|\n",
      "|    29| 6.7|36.6|\n",
      "|    69| 4.1|46.9|\n",
      "|   112|56.9|null|\n",
      "+------+----+----+\n",
      "only showing top 20 rows\n",
      "\n"
     ]
    }
   ],
   "source": [
    "# create window partition\n",
    "w = Window.partitionBy(\"userId\", \"level\").orderBy(\"userId\")\n",
    "\n",
    "user_level = df.select(\"userId\", \"level\", \"ts\") \\\n",
    "    .withColumn(\"max_ts\", F.max(\"ts\").over(w)) \\\n",
    "    .withColumn(\"min_ts\", F.min(\"ts\").over(w)) \\\n",
    "    .withColumn(\"daysAs\", (F.col(\"max_ts\") - F.col(\"min_ts\")) / (1000 * 3600 * 24)) \\\n",
    "    .select(\"userId\",\"level\",\"daysAs\") \\\n",
    "    .dropDuplicates() \\\n",
    "    .groupBy(\"userId\") \\\n",
    "    .pivot(\"level\") \\\n",
    "    .agg(F.round(F.avg(\"daysAs\"),1))\n",
    "\n",
    "user_level.show()"
   ]
  },
  {
   "cell_type": "markdown",
   "metadata": {},
   "source": [
    "#### 5. Gender and Churn DataFrame"
   ]
  },
  {
   "cell_type": "code",
   "execution_count": 123,
   "metadata": {},
   "outputs": [
    {
     "name": "stdout",
     "output_type": "stream",
     "text": [
      "+------+------+-----+\n",
      "|userId|gender|label|\n",
      "+------+------+-----+\n",
      "|   153|     M|    0|\n",
      "|   111|     F|    0|\n",
      "|   156|     M|    0|\n",
      "|100005|     M|    1|\n",
      "|    11|     F|    0|\n",
      "|   125|     M|    1|\n",
      "|200022|     M|    0|\n",
      "|300020|     F|    0|\n",
      "|    32|     M|    0|\n",
      "|   150|     M|    0|\n",
      "|300015|     M|    0|\n",
      "|   148|     M|    0|\n",
      "|200017|     M|    0|\n",
      "|200021|     F|    1|\n",
      "|    26|     M|    0|\n",
      "|200018|     M|    0|\n",
      "|   115|     F|    0|\n",
      "|300013|     M|    0|\n",
      "|    29|     M|    1|\n",
      "|200023|     F|    0|\n",
      "+------+------+-----+\n",
      "only showing top 20 rows\n",
      "\n"
     ]
    }
   ],
   "source": [
    "# create churn table\n",
    "user_churn = df.select(\"userId\", \"gender\",\"churn\") \\\n",
    "    .withColumnRenamed(\"churn\",\"label\") \\\n",
    "    .dropDuplicates()\n",
    "\n",
    "user_churn.show()"
   ]
  },
  {
   "cell_type": "markdown",
   "metadata": {},
   "source": [
    "#### Join Tables Together"
   ]
  },
  {
   "cell_type": "code",
   "execution_count": 131,
   "metadata": {},
   "outputs": [
    {
     "name": "stdout",
     "output_type": "stream",
     "text": [
      "+------+-----+----------+---------------+-----+----+------+-----------+-----------+---------+--------------------+---------+-------------+--------------+--------------------+---------------+--------+----+----+\n",
      "|gender|label|Add Friend|Add to Playlist|Error|Help|Logout|Roll Advert|Thumbs Down|Thumbs Up|                city|    state|      browser|            os|               brand|avgSessionHours|daysUsed|free|paid|\n",
      "+------+-----+----------+---------------+-----+----+------+-----------+-----------+---------+--------------------+---------+-------------+--------------+--------------------+---------------+--------+----+----+\n",
      "|     F|    0|         4|              7| null|   2|     5|         52|          5|       17|Bridgeport-Stamfo...|       CT|\"Mozilla/5.0 |        iPhone| CPU iPhone OS 7_...|            2.6|    44.2|44.2|null|\n",
      "|     M|    0|         4|              8| null|   2|     5|          7|          6|       21|Chicago-Napervill...| IL-IN-WI|\"Mozilla/5.0 |        iPhone| CPU iPhone OS 7_...|            4.4|    45.5|16.9|28.6|\n",
      "|     M|    1|      null|           null| null|null|  null|          1|       null|     null|      Corpus Christi|       TX|\"Mozilla/5.0 |     Macintosh| Intel Mac OS X 1...|            0.5|     0.0| 0.0|null|\n",
      "|     M|    0|      null|           null| null|null|  null|          1|       null|     null|      Corpus Christi|       TX|\"Mozilla/5.0 |     Macintosh| Intel Mac OS X 1...|            0.5|     0.0| 0.0|null|\n",
      "|     F|    0|        74|            118|    6|  23|    59|          4|         41|      171|  Vineland-Bridgeton|       NJ|\"Mozilla/5.0 |     Macintosh| Intel Mac OS X 1...|            9.6|    60.0|null|60.0|\n",
      "|     M|    1|        28|             52|    1|  12|    24|       null|         21|      100|   Lexington-Fayette|       KY|\"Mozilla/5.0 |Windows NT 6.1| WOW64) AppleWebK...|           14.5|    15.8|null|15.8|\n",
      "|     M|    0|        28|             52|    1|  12|    24|       null|         21|      100|   Lexington-Fayette|       KY|\"Mozilla/5.0 |Windows NT 6.1| WOW64) AppleWebK...|           14.5|    15.8|null|15.8|\n",
      "|     M|    0|         1|              5|    1|   1|     3|         16|          1|        7|Seattle-Tacoma-Be...|       WA| Mozilla/5.0 |Windows NT 6.1| rv:31.0) Gecko/2...|            1.5|    50.8|50.8|null|\n",
      "|     M|    0|        31|             59|    2|   8|    27|          1|         14|       81|          Morgantown|       WV|\"Mozilla/5.0 |Windows NT 6.1| WOW64) AppleWebK...|            8.8|    54.8|null|54.8|\n",
      "|     F|    1|        33|             72|    1|  17|    36|         47|         29|      163|Spokane-Spokane V...|       WA| Mozilla/5.0 |Windows NT 6.1|               WOW64|            5.4|    42.8|14.0|42.8|\n",
      "|     F|    0|        33|             72|    1|  17|    36|         47|         29|      163|Spokane-Spokane V...|       WA| Mozilla/5.0 |Windows NT 6.1|               WOW64|            5.4|    42.8|14.0|42.8|\n",
      "|     F|    0|        11|             24|    3|   9|    14|          8|          3|       58|Boston-Cambridge-...|    MA-NH|\"Mozilla/5.0 |Windows NT 6.1| WOW64) AppleWebK...|            9.1|    25.8| 6.4|19.4|\n",
      "|     M|    1|         6|              7| null|   2|     3|          2|          3|       17|New York-Newark-J...| NY-NJ-PA|\"Mozilla/5.0 |Windows NT 6.1| WOW64) AppleWebK...|            3.1|    41.2|null|41.2|\n",
      "|     M|    0|         6|              7| null|   2|     3|          2|          3|       17|New York-Newark-J...| NY-NJ-PA|\"Mozilla/5.0 |Windows NT 6.1| WOW64) AppleWebK...|            3.1|    41.2|null|41.2|\n",
      "|     F|    0|        41|             38|    3|  16|    34|          2|         17|       96|Denver-Aurora-Lak...|       CO|\"Mozilla/5.0 |     Macintosh| Intel Mac OS X 1...|            8.3|    50.5| 0.1|50.4|\n",
      "|     F|    0|         3|              1| null|   1|     2|         10|       null|       11|New York-Newark-J...| NY-NJ-PA|\"Mozilla/5.0 |Windows NT 6.1| WOW64) AppleWebK...|            1.8|    25.0|25.0|null|\n",
      "|     M|    1|        29|             61|    3|  12|    24|          8|         16|       86|Denver-Aurora-Lak...|       CO| Mozilla/5.0 |Windows NT 6.2|               WOW64|           13.6|    15.9| 1.7|14.2|\n",
      "|     M|    0|        29|             61|    3|  12|    24|          8|         16|       86|Denver-Aurora-Lak...|       CO| Mozilla/5.0 |Windows NT 6.2|               WOW64|           13.6|    15.9| 1.7|14.2|\n",
      "|     F|    0|         6|             20|    1|   3|    14|         39|          9|       40|  Providence-Warwick|    RI-MA| Mozilla/5.0 |Windows NT 6.1|               WOW64|            2.7|    53.2|42.5|47.1|\n",
      "|     M|    0|        41|             67|    1|  13|    18|         17|         24|       95|New York-Newark-J...| NY-NJ-PA|\"Mozilla/5.0 |          iPad| CPU OS 7_1_1 lik...|            9.4|    56.1|16.6|39.5|\n",
      "+------+-----+----------+---------------+-----+----+------+-----------+-----------+---------+--------------------+---------+-------------+--------------+--------------------+---------------+--------+----+----+\n",
      "only showing top 20 rows\n",
      "\n"
     ]
    }
   ],
   "source": [
    "# join all the tables together\n",
    "user_data = user_churn.join(user_page, ['userId'], \"left\") \\\n",
    "    .join(user_location, ['userId'], \"left\") \\\n",
    "    .join(user_browser,['userId'], \"left\") \\\n",
    "    .join(user_sess_dur, ['userId'], \"left\") \\\n",
    "    .join(user_days, ['userId'], \"left\") \\\n",
    "    .join(user_level, ['userId'], \"left\") \\\n",
    "    .drop(\"userId\")\n",
    "\n",
    "user_data.show()"
   ]
  },
  {
   "cell_type": "markdown",
   "metadata": {},
   "source": [
    "#### Fill nulls with 0 / 'missing'\n",
    "\n",
    "I had difficulty with the imputer in my pipeline. Perhaps it was related to the stringIndexer. "
   ]
  },
  {
   "cell_type": "code",
   "execution_count": 135,
   "metadata": {},
   "outputs": [],
   "source": [
    "numeric_cols = user_page.columns[1:] + user_sess_dur.columns[1:] + user_days.columns[1:] + user_level.columns[1:]\n",
    "impute_numeric = { i : 0 for i in numeric_cols }\n",
    "user_data = user_data.fillna(impute_numeric)"
   ]
  },
  {
   "cell_type": "code",
   "execution_count": 141,
   "metadata": {},
   "outputs": [],
   "source": [
    "categ_cols = user_location.columns[1:] + user_browser.columns[1:] + ['gender']\n",
    "impute_categ = { i : 'missing' for i in categ_cols }\n",
    "user_data = user_data.fillna(impute_categ)"
   ]
  },
  {
   "cell_type": "code",
   "execution_count": 143,
   "metadata": {},
   "outputs": [
    {
     "name": "stdout",
     "output_type": "stream",
     "text": [
      "-RECORD 0--------------\n",
      " gender          | 0.0 \n",
      " label           | 0.0 \n",
      " Add Friend      | 0.0 \n",
      " Add to Playlist | 0.0 \n",
      " Error           | 0.0 \n",
      " Help            | 0.0 \n",
      " Logout          | 0.0 \n",
      " Roll Advert     | 0.0 \n",
      " Thumbs Down     | 0.0 \n",
      " Thumbs Up       | 0.0 \n",
      " city            | 0.0 \n",
      " state           | 0.0 \n",
      " browser         | 0.0 \n",
      " os              | 0.0 \n",
      " brand           | 0.0 \n",
      " avgSessionHours | 0.0 \n",
      " daysUsed        | 0.0 \n",
      " free            | 0.0 \n",
      " paid            | 0.0 \n",
      "\n"
     ]
    }
   ],
   "source": [
    "user_data.select(\n",
    "    [\n",
    "        ( (F.count(F.when(F.isnull(c), c)) / F.count(c)) * 100 ) \\\n",
    "            .alias(c) for c in user_data.columns\n",
    "    ]\n",
    ").show(vertical=True)"
   ]
  },
  {
   "cell_type": "markdown",
   "metadata": {},
   "source": [
    "# Modeling\n",
    "Split the full dataset into train, test, and validation sets. Test out several of the machine learning methods you learned. Evaluate the accuracy of the various models, tuning parameters as necessary. Determine your winning model based on test accuracy and report results on the validation set. Since the churned users are a fairly small subset, I suggest using F1 score as the metric to optimize."
   ]
  },
  {
   "cell_type": "markdown",
   "metadata": {},
   "source": [
    "### Columns Used: "
   ]
  },
  {
   "cell_type": "markdown",
   "metadata": {},
   "source": [
    "#### Old Pipeline"
   ]
  },
  {
   "cell_type": "code",
   "execution_count": 26,
   "metadata": {},
   "outputs": [],
   "source": [
    "categ_pipeline = Pipeline(stages=[\n",
    "    StringIndexer(inputCol=\"city\",outputCol=\"cityIndex\", handleInvalid=\"skip\"),\n",
    "    StringIndexer(inputCol=\"state\",outputCol=\"stateIndex\", handleInvalid=\"skip\"),\n",
    "    StringIndexer(inputCol=\"browser\",outputCol=\"osIndex\", handleInvalid=\"skip\"),\n",
    "    StringIndexer(inputCol=\"os\",outputCol=\"browserIndex\", handleInvalid=\"skip\"),\n",
    "    StringIndexer(inputCol=\"brand\",outputCol=\"brandIndex\", handleInvalid=\"skip\"),\n",
    "    VectorAssembler(\n",
    "        inputCols=[\"cityIndex\",\"stateIndex\",\"osIndex\",\"browserIndex\",\"brandIndex\"], \n",
    "        outputCol=\"categ_features\"\n",
    "    )\n",
    "])\n",
    "\n",
    "# create list of numeric columns\n",
    "numeric_cols = user_page_df.columns[1:] + user_level.columns[1:]\n",
    "out_numeric_cols = [ n + '_imp' for n in numeric_cols ]\n",
    "# create pipeline\n",
    "numer_pipeline = Pipeline(stages=[\n",
    "    VectorAssembler(inputCols=numeric_cols, outputCol=\"numer_features\")\n",
    "])\n",
    "\n",
    "# unite pipelines\n",
    "final_pipeline = Pipeline(stages=[\n",
    "    categ_pipeline,\n",
    "    numer_pipeline,\n",
    "    VectorAssembler(\n",
    "        inputCols=[\"categ_features\",\"numer_features\"],\n",
    "        outputCol=\"features\"\n",
    "    ),\n",
    "    LogisticRegression(maxIter=10)\n",
    "])\n"
   ]
  },
  {
   "cell_type": "markdown",
   "metadata": {},
   "source": [
    "#### New Pipeline (Just Numeric)"
   ]
  },
  {
   "cell_type": "code",
   "execution_count": 145,
   "metadata": {},
   "outputs": [],
   "source": [
    "# this pipeline will consider numeric features only\n",
    "numer_pipeline = Pipeline(stages=[\n",
    "    VectorAssembler(inputCols=numeric_cols, outputCol='features'), \n",
    "    LogisticRegression(maxIter=10, regParam=0.01)\n",
    "])"
   ]
  },
  {
   "cell_type": "code",
   "execution_count": 146,
   "metadata": {},
   "outputs": [],
   "source": [
    "#fit the pipeline to our dataframe\n",
    "pipelineModel = numer_pipeline.fit(user_data)\n",
    "#transform the dataframe\n",
    "# transformed_data = pipelineModel.transform(user_data)"
   ]
  },
  {
   "cell_type": "code",
   "execution_count": 147,
   "metadata": {},
   "outputs": [
    {
     "data": {
      "text/plain": [
       "0.8129496402877698"
      ]
     },
     "execution_count": 147,
     "metadata": {},
     "output_type": "execute_result"
    }
   ],
   "source": [
    "pipelineModel.stages[-1].summary.accuracy"
   ]
  },
  {
   "cell_type": "code",
   "execution_count": 148,
   "metadata": {},
   "outputs": [
    {
     "data": {
      "text/plain": [
       "0.7994383934649422"
      ]
     },
     "execution_count": 148,
     "metadata": {},
     "output_type": "execute_result"
    }
   ],
   "source": [
    "pipelineModel.stages[-1].summary.areaUnderROC"
   ]
  },
  {
   "cell_type": "code",
   "execution_count": 154,
   "metadata": {},
   "outputs": [],
   "source": [
    "# save roc data\n",
    "roc_df = pipelineModel.stages[-1].summary.roc\n",
    "# convert to pandas"
   ]
  },
  {
   "cell_type": "code",
   "execution_count": 155,
   "metadata": {},
   "outputs": [],
   "source": [
    "import pandas as pd\n",
    "pandasDF = roc_df.toPandas()\n",
    "# create scatterplot"
   ]
  },
  {
   "cell_type": "code",
   "execution_count": 156,
   "metadata": {},
   "outputs": [
    {
     "data": {
      "text/plain": [
       "<matplotlib.axes._subplots.AxesSubplot at 0x7ff3ba408978>"
      ]
     },
     "execution_count": 156,
     "metadata": {},
     "output_type": "execute_result"
    },
    {
     "data": {
      "image/png": "[encoded data removed]",
      "text/plain": [
       "<matplotlib.figure.Figure at 0x7ff3f6e20be0>"
      ]
     },
     "metadata": {
      "needs_background": "light"
     },
     "output_type": "display_data"
    }
   ],
   "source": [
    "%matplotlib inline\n",
    "pandasDF.plot.scatter(x='FPR',y='TPR')"
   ]
  },
  {
   "cell_type": "code",
   "execution_count": 150,
   "metadata": {},
   "outputs": [],
   "source": [
    "import numpy as np\n",
    "coeffs = pipelineModel.stages[-1].coefficientMatrix.toArray()"
   ]
  },
  {
   "cell_type": "code",
   "execution_count": 157,
   "metadata": {},
   "outputs": [
    {
     "data": {
      "text/plain": [
       "array([[ 0.98584538,  1.00394802,  0.89263198,  0.99561462,  1.00218743,\n",
       "         1.0230768 ,  1.0314619 ,  0.99927293,  0.9868398 ,  0.9747712 ,\n",
       "         0.9638969 ,  0.98407986]])"
      ]
     },
     "execution_count": 157,
     "metadata": {},
     "output_type": "execute_result"
    }
   ],
   "source": [
    "# it looks like the more advertisements, more thumbs down the more likely the person is to churn\n",
    "np.exp(coeffs)"
   ]
  },
  {
   "cell_type": "markdown",
   "metadata": {},
   "source": [
    "# Cross-Validate"
   ]
  },
  {
   "cell_type": "code",
   "execution_count": 23,
   "metadata": {},
   "outputs": [],
   "source": [
    "paramGrid = ParamGridBuilder() \\\n",
    "    .addGrid(LogisticRegression.regParam, [0.1, 0.05, 0.01]) \\\n",
    "    .build()"
   ]
  },
  {
   "cell_type": "code",
   "execution_count": 32,
   "metadata": {},
   "outputs": [],
   "source": [
    "crossval = CrossValidator(estimator=final_pipeline,\n",
    "                          estimatorParamMaps=paramGrid,\n",
    "                          evaluator=BinaryClassificationEvaluator(labelCol='label',metricName='areaUnderROC'),\n",
    "                          numFolds=5) "
   ]
  },
  {
   "cell_type": "code",
   "execution_count": 33,
   "metadata": {},
   "outputs": [],
   "source": [
    "cvModel = crossval.fit(user_data)"
   ]
  },
  {
   "cell_type": "code",
   "execution_count": 34,
   "metadata": {},
   "outputs": [
    {
     "data": {
      "text/plain": [
       "[0.7880498487020224, 0.7880498487020224, 0.7880498487020224]"
      ]
     },
     "execution_count": 34,
     "metadata": {},
     "output_type": "execute_result"
    }
   ],
   "source": [
    "# certainly looks like the regParam is fine at 0.1\n",
    "cvModel.avgMetrics"
   ]
  },
  {
   "cell_type": "markdown",
   "metadata": {},
   "source": [
    "# Final Steps\n",
    "Clean up your code, adding comments and renaming variables to make the code easier to read and maintain. Refer to the Spark Project Overview page and Data Scientist Capstone Project Rubric to make sure you are including all components of the capstone project and meet all expectations. Remember, this includes thorough documentation in a README file in a Github repository, as well as a web app or blog post."
   ]
  },
  {
   "cell_type": "code",
   "execution_count": null,
   "metadata": {},
   "outputs": [],
   "source": []
  }
 ],
 "metadata": {
  "kernelspec": {
   "display_name": "Python 3",
   "language": "python",
   "name": "python3"
  },
  "language_info": {
   "codemirror_mode": {
    "name": "ipython",
    "version": 3
   },
   "file_extension": ".py",
   "mimetype": "text/x-python",
   "name": "python",
   "nbconvert_exporter": "python",
   "pygments_lexer": "ipython3",
   "version": "3.6.3"
  }
 },
 "nbformat": 4,
 "nbformat_minor": 2
}
