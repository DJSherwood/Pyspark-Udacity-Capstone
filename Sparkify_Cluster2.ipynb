{
 "cells": [
  {
   "cell_type": "markdown",
   "metadata": {},
   "source": [
    "# Start Session"
   ]
  },
  {
   "cell_type": "code",
   "execution_count": 117,
   "metadata": {},
   "outputs": [],
   "source": [
    "# this has to be run on the cluster version \n",
    "# sc.install_pypi_package(\"pandas\")\n",
    "# sc.install_pypi_package(\"matplotlib\")\n",
    "# to make a plot need to use\n",
    "# %matplot plt"
   ]
  },
  {
   "cell_type": "code",
   "execution_count": 119,
   "metadata": {},
   "outputs": [],
   "source": [
    "# import libraries\n",
    "from pyspark.sql import SparkSession\n",
    "from pyspark.sql import functions as F\n",
    "from pyspark.sql.window import Window\n",
    "from pyspark.sql import types as t\n",
    "from pyspark.ml.classification import LogisticRegression\n",
    "from pyspark.ml.feature import Imputer, StringIndexer, VectorAssembler\n",
    "from pyspark.ml import Pipeline\n",
    "from pyspark.ml.tuning import CrossValidator, ParamGridBuilder\n",
    "from pyspark.ml.evaluation import BinaryClassificationEvaluator\n",
    "from datetime import datetime as dt\n",
    "from pyspark.sql import types as T\n",
    "import pandas as pd"
   ]
  },
  {
   "cell_type": "code",
   "execution_count": 120,
   "metadata": {},
   "outputs": [],
   "source": [
    "# create a Spark session\n",
    "spark = SparkSession \\\n",
    "    .builder \\\n",
    "    .appName(\"sparkify\") \\\n",
    "    .getOrCreate()"
   ]
  },
  {
   "cell_type": "markdown",
   "metadata": {},
   "source": [
    "# Load Data\n",
    "Here the entire set of 26 million rows is loaded. "
   ]
  },
  {
   "cell_type": "code",
   "execution_count": 121,
   "metadata": {},
   "outputs": [],
   "source": [
    "# full dataset\n",
    "# event_data = 's3n://udacity-dsnd/sparkify/sparkify_event_data.json'\n",
    "# mini dataset\n",
    "# event_data = s3n://udacity-dsnd/sparkify/mini_sparkify_event_data.json\n",
    "# udacity workspace\n",
    "event_data = \"mini_sparkify_event_data.json\""
   ]
  },
  {
   "cell_type": "code",
   "execution_count": 122,
   "metadata": {},
   "outputs": [],
   "source": [
    "df = spark.read.json(event_data)"
   ]
  },
  {
   "cell_type": "code",
   "execution_count": 123,
   "metadata": {},
   "outputs": [
    {
     "data": {
      "text/html": [
       "<div>\n",
       "<style scoped>\n",
       "    .dataframe tbody tr th:only-of-type {\n",
       "        vertical-align: middle;\n",
       "    }\n",
       "\n",
       "    .dataframe tbody tr th {\n",
       "        vertical-align: top;\n",
       "    }\n",
       "\n",
       "    .dataframe thead th {\n",
       "        text-align: right;\n",
       "    }\n",
       "</style>\n",
       "<table border=\"1\" class=\"dataframe\">\n",
       "  <thead>\n",
       "    <tr style=\"text-align: right;\">\n",
       "      <th></th>\n",
       "      <th>artist</th>\n",
       "      <th>auth</th>\n",
       "      <th>firstName</th>\n",
       "      <th>gender</th>\n",
       "      <th>itemInSession</th>\n",
       "      <th>lastName</th>\n",
       "      <th>length</th>\n",
       "      <th>level</th>\n",
       "      <th>location</th>\n",
       "      <th>method</th>\n",
       "      <th>page</th>\n",
       "      <th>registration</th>\n",
       "      <th>sessionId</th>\n",
       "      <th>song</th>\n",
       "      <th>status</th>\n",
       "      <th>ts</th>\n",
       "      <th>userAgent</th>\n",
       "      <th>userId</th>\n",
       "    </tr>\n",
       "  </thead>\n",
       "  <tbody>\n",
       "    <tr>\n",
       "      <th>0</th>\n",
       "      <td>Martha Tilston</td>\n",
       "      <td>Logged In</td>\n",
       "      <td>Colin</td>\n",
       "      <td>M</td>\n",
       "      <td>50</td>\n",
       "      <td>Freeman</td>\n",
       "      <td>277.89016</td>\n",
       "      <td>paid</td>\n",
       "      <td>Bakersfield, CA</td>\n",
       "      <td>PUT</td>\n",
       "      <td>NextSong</td>\n",
       "      <td>1538173362000</td>\n",
       "      <td>29</td>\n",
       "      <td>Rockpools</td>\n",
       "      <td>200</td>\n",
       "      <td>1538352117000</td>\n",
       "      <td>Mozilla/5.0 (Windows NT 6.1; WOW64; rv:31.0) G...</td>\n",
       "      <td>30</td>\n",
       "    </tr>\n",
       "    <tr>\n",
       "      <th>1</th>\n",
       "      <td>Five Iron Frenzy</td>\n",
       "      <td>Logged In</td>\n",
       "      <td>Micah</td>\n",
       "      <td>M</td>\n",
       "      <td>79</td>\n",
       "      <td>Long</td>\n",
       "      <td>236.09424</td>\n",
       "      <td>free</td>\n",
       "      <td>Boston-Cambridge-Newton, MA-NH</td>\n",
       "      <td>PUT</td>\n",
       "      <td>NextSong</td>\n",
       "      <td>1538331630000</td>\n",
       "      <td>8</td>\n",
       "      <td>Canada</td>\n",
       "      <td>200</td>\n",
       "      <td>1538352180000</td>\n",
       "      <td>\"Mozilla/5.0 (Windows NT 6.1; WOW64) AppleWebK...</td>\n",
       "      <td>9</td>\n",
       "    </tr>\n",
       "    <tr>\n",
       "      <th>2</th>\n",
       "      <td>Adam Lambert</td>\n",
       "      <td>Logged In</td>\n",
       "      <td>Colin</td>\n",
       "      <td>M</td>\n",
       "      <td>51</td>\n",
       "      <td>Freeman</td>\n",
       "      <td>282.82730</td>\n",
       "      <td>paid</td>\n",
       "      <td>Bakersfield, CA</td>\n",
       "      <td>PUT</td>\n",
       "      <td>NextSong</td>\n",
       "      <td>1538173362000</td>\n",
       "      <td>29</td>\n",
       "      <td>Time For Miracles</td>\n",
       "      <td>200</td>\n",
       "      <td>1538352394000</td>\n",
       "      <td>Mozilla/5.0 (Windows NT 6.1; WOW64; rv:31.0) G...</td>\n",
       "      <td>30</td>\n",
       "    </tr>\n",
       "    <tr>\n",
       "      <th>3</th>\n",
       "      <td>Enigma</td>\n",
       "      <td>Logged In</td>\n",
       "      <td>Micah</td>\n",
       "      <td>M</td>\n",
       "      <td>80</td>\n",
       "      <td>Long</td>\n",
       "      <td>262.71302</td>\n",
       "      <td>free</td>\n",
       "      <td>Boston-Cambridge-Newton, MA-NH</td>\n",
       "      <td>PUT</td>\n",
       "      <td>NextSong</td>\n",
       "      <td>1538331630000</td>\n",
       "      <td>8</td>\n",
       "      <td>Knocking On Forbidden Doors</td>\n",
       "      <td>200</td>\n",
       "      <td>1538352416000</td>\n",
       "      <td>\"Mozilla/5.0 (Windows NT 6.1; WOW64) AppleWebK...</td>\n",
       "      <td>9</td>\n",
       "    </tr>\n",
       "    <tr>\n",
       "      <th>4</th>\n",
       "      <td>Daft Punk</td>\n",
       "      <td>Logged In</td>\n",
       "      <td>Colin</td>\n",
       "      <td>M</td>\n",
       "      <td>52</td>\n",
       "      <td>Freeman</td>\n",
       "      <td>223.60771</td>\n",
       "      <td>paid</td>\n",
       "      <td>Bakersfield, CA</td>\n",
       "      <td>PUT</td>\n",
       "      <td>NextSong</td>\n",
       "      <td>1538173362000</td>\n",
       "      <td>29</td>\n",
       "      <td>Harder Better Faster Stronger</td>\n",
       "      <td>200</td>\n",
       "      <td>1538352676000</td>\n",
       "      <td>Mozilla/5.0 (Windows NT 6.1; WOW64; rv:31.0) G...</td>\n",
       "      <td>30</td>\n",
       "    </tr>\n",
       "    <tr>\n",
       "      <th>5</th>\n",
       "      <td>The All-American Rejects</td>\n",
       "      <td>Logged In</td>\n",
       "      <td>Micah</td>\n",
       "      <td>M</td>\n",
       "      <td>81</td>\n",
       "      <td>Long</td>\n",
       "      <td>208.29995</td>\n",
       "      <td>free</td>\n",
       "      <td>Boston-Cambridge-Newton, MA-NH</td>\n",
       "      <td>PUT</td>\n",
       "      <td>NextSong</td>\n",
       "      <td>1538331630000</td>\n",
       "      <td>8</td>\n",
       "      <td>Don't Leave Me</td>\n",
       "      <td>200</td>\n",
       "      <td>1538352678000</td>\n",
       "      <td>\"Mozilla/5.0 (Windows NT 6.1; WOW64) AppleWebK...</td>\n",
       "      <td>9</td>\n",
       "    </tr>\n",
       "    <tr>\n",
       "      <th>6</th>\n",
       "      <td>The Velvet Underground / Nico</td>\n",
       "      <td>Logged In</td>\n",
       "      <td>Micah</td>\n",
       "      <td>M</td>\n",
       "      <td>82</td>\n",
       "      <td>Long</td>\n",
       "      <td>260.46649</td>\n",
       "      <td>free</td>\n",
       "      <td>Boston-Cambridge-Newton, MA-NH</td>\n",
       "      <td>PUT</td>\n",
       "      <td>NextSong</td>\n",
       "      <td>1538331630000</td>\n",
       "      <td>8</td>\n",
       "      <td>Run Run Run</td>\n",
       "      <td>200</td>\n",
       "      <td>1538352886000</td>\n",
       "      <td>\"Mozilla/5.0 (Windows NT 6.1; WOW64) AppleWebK...</td>\n",
       "      <td>9</td>\n",
       "    </tr>\n",
       "    <tr>\n",
       "      <th>7</th>\n",
       "      <td>Starflyer 59</td>\n",
       "      <td>Logged In</td>\n",
       "      <td>Colin</td>\n",
       "      <td>M</td>\n",
       "      <td>53</td>\n",
       "      <td>Freeman</td>\n",
       "      <td>185.44281</td>\n",
       "      <td>paid</td>\n",
       "      <td>Bakersfield, CA</td>\n",
       "      <td>PUT</td>\n",
       "      <td>NextSong</td>\n",
       "      <td>1538173362000</td>\n",
       "      <td>29</td>\n",
       "      <td>Passengers (Old Album Version)</td>\n",
       "      <td>200</td>\n",
       "      <td>1538352899000</td>\n",
       "      <td>Mozilla/5.0 (Windows NT 6.1; WOW64; rv:31.0) G...</td>\n",
       "      <td>30</td>\n",
       "    </tr>\n",
       "    <tr>\n",
       "      <th>8</th>\n",
       "      <td>None</td>\n",
       "      <td>Logged In</td>\n",
       "      <td>Colin</td>\n",
       "      <td>M</td>\n",
       "      <td>54</td>\n",
       "      <td>Freeman</td>\n",
       "      <td>NaN</td>\n",
       "      <td>paid</td>\n",
       "      <td>Bakersfield, CA</td>\n",
       "      <td>PUT</td>\n",
       "      <td>Add to Playlist</td>\n",
       "      <td>1538173362000</td>\n",
       "      <td>29</td>\n",
       "      <td>None</td>\n",
       "      <td>200</td>\n",
       "      <td>1538352905000</td>\n",
       "      <td>Mozilla/5.0 (Windows NT 6.1; WOW64; rv:31.0) G...</td>\n",
       "      <td>30</td>\n",
       "    </tr>\n",
       "    <tr>\n",
       "      <th>9</th>\n",
       "      <td>Frumpies</td>\n",
       "      <td>Logged In</td>\n",
       "      <td>Colin</td>\n",
       "      <td>M</td>\n",
       "      <td>55</td>\n",
       "      <td>Freeman</td>\n",
       "      <td>134.47791</td>\n",
       "      <td>paid</td>\n",
       "      <td>Bakersfield, CA</td>\n",
       "      <td>PUT</td>\n",
       "      <td>NextSong</td>\n",
       "      <td>1538173362000</td>\n",
       "      <td>29</td>\n",
       "      <td>Fuck Kitty</td>\n",
       "      <td>200</td>\n",
       "      <td>1538353084000</td>\n",
       "      <td>Mozilla/5.0 (Windows NT 6.1; WOW64; rv:31.0) G...</td>\n",
       "      <td>30</td>\n",
       "    </tr>\n",
       "  </tbody>\n",
       "</table>\n",
       "</div>"
      ],
      "text/plain": [
       "                          artist       auth firstName gender  itemInSession  \\\n",
       "0                 Martha Tilston  Logged In     Colin      M             50   \n",
       "1               Five Iron Frenzy  Logged In     Micah      M             79   \n",
       "2                   Adam Lambert  Logged In     Colin      M             51   \n",
       "3                         Enigma  Logged In     Micah      M             80   \n",
       "4                      Daft Punk  Logged In     Colin      M             52   \n",
       "5       The All-American Rejects  Logged In     Micah      M             81   \n",
       "6  The Velvet Underground / Nico  Logged In     Micah      M             82   \n",
       "7                   Starflyer 59  Logged In     Colin      M             53   \n",
       "8                           None  Logged In     Colin      M             54   \n",
       "9                       Frumpies  Logged In     Colin      M             55   \n",
       "\n",
       "  lastName     length level                        location method  \\\n",
       "0  Freeman  277.89016  paid                 Bakersfield, CA    PUT   \n",
       "1     Long  236.09424  free  Boston-Cambridge-Newton, MA-NH    PUT   \n",
       "2  Freeman  282.82730  paid                 Bakersfield, CA    PUT   \n",
       "3     Long  262.71302  free  Boston-Cambridge-Newton, MA-NH    PUT   \n",
       "4  Freeman  223.60771  paid                 Bakersfield, CA    PUT   \n",
       "5     Long  208.29995  free  Boston-Cambridge-Newton, MA-NH    PUT   \n",
       "6     Long  260.46649  free  Boston-Cambridge-Newton, MA-NH    PUT   \n",
       "7  Freeman  185.44281  paid                 Bakersfield, CA    PUT   \n",
       "8  Freeman        NaN  paid                 Bakersfield, CA    PUT   \n",
       "9  Freeman  134.47791  paid                 Bakersfield, CA    PUT   \n",
       "\n",
       "              page   registration  sessionId                            song  \\\n",
       "0         NextSong  1538173362000         29                       Rockpools   \n",
       "1         NextSong  1538331630000          8                          Canada   \n",
       "2         NextSong  1538173362000         29               Time For Miracles   \n",
       "3         NextSong  1538331630000          8     Knocking On Forbidden Doors   \n",
       "4         NextSong  1538173362000         29   Harder Better Faster Stronger   \n",
       "5         NextSong  1538331630000          8                  Don't Leave Me   \n",
       "6         NextSong  1538331630000          8                     Run Run Run   \n",
       "7         NextSong  1538173362000         29  Passengers (Old Album Version)   \n",
       "8  Add to Playlist  1538173362000         29                            None   \n",
       "9         NextSong  1538173362000         29                      Fuck Kitty   \n",
       "\n",
       "   status             ts                                          userAgent  \\\n",
       "0     200  1538352117000  Mozilla/5.0 (Windows NT 6.1; WOW64; rv:31.0) G...   \n",
       "1     200  1538352180000  \"Mozilla/5.0 (Windows NT 6.1; WOW64) AppleWebK...   \n",
       "2     200  1538352394000  Mozilla/5.0 (Windows NT 6.1; WOW64; rv:31.0) G...   \n",
       "3     200  1538352416000  \"Mozilla/5.0 (Windows NT 6.1; WOW64) AppleWebK...   \n",
       "4     200  1538352676000  Mozilla/5.0 (Windows NT 6.1; WOW64; rv:31.0) G...   \n",
       "5     200  1538352678000  \"Mozilla/5.0 (Windows NT 6.1; WOW64) AppleWebK...   \n",
       "6     200  1538352886000  \"Mozilla/5.0 (Windows NT 6.1; WOW64) AppleWebK...   \n",
       "7     200  1538352899000  Mozilla/5.0 (Windows NT 6.1; WOW64; rv:31.0) G...   \n",
       "8     200  1538352905000  Mozilla/5.0 (Windows NT 6.1; WOW64; rv:31.0) G...   \n",
       "9     200  1538353084000  Mozilla/5.0 (Windows NT 6.1; WOW64; rv:31.0) G...   \n",
       "\n",
       "  userId  \n",
       "0     30  \n",
       "1      9  \n",
       "2     30  \n",
       "3      9  \n",
       "4     30  \n",
       "5      9  \n",
       "6      9  \n",
       "7     30  \n",
       "8     30  \n",
       "9     30  "
      ]
     },
     "execution_count": 123,
     "metadata": {},
     "output_type": "execute_result"
    }
   ],
   "source": [
    "df_pd = df.limit(10).toPandas()\n",
    "\n",
    "df_pd.head(10)"
   ]
  },
  {
   "cell_type": "code",
   "execution_count": 124,
   "metadata": {},
   "outputs": [
    {
     "name": "stdout",
     "output_type": "stream",
     "text": [
      "(286403, 18)\n"
     ]
    }
   ],
   "source": [
    "# the size of the dataset\n",
    "df = df.filter(df.auth != \"Guest\")\n",
    "print((df.count(), len(df.columns)))"
   ]
  },
  {
   "cell_type": "markdown",
   "metadata": {},
   "source": [
    "### How Many Nulls? "
   ]
  },
  {
   "cell_type": "code",
   "execution_count": 125,
   "metadata": {},
   "outputs": [
    {
     "name": "stdout",
     "output_type": "stream",
     "text": [
      "-RECORD 0--------------------------\n",
      " artist        | 25.55587704070002 \n",
      " auth          | 0.0               \n",
      " firstName     | 2.965623359721593 \n",
      " gender        | 2.965623359721593 \n",
      " itemInSession | 0.0               \n",
      " lastName      | 2.965623359721593 \n",
      " length        | 25.55587704070002 \n",
      " level         | 0.0               \n",
      " location      | 2.965623359721593 \n",
      " method        | 0.0               \n",
      " page          | 0.0               \n",
      " registration  | 2.965623359721593 \n",
      " sessionId     | 0.0               \n",
      " song          | 25.55587704070002 \n",
      " status        | 0.0               \n",
      " ts            | 0.0               \n",
      " userAgent     | 2.965623359721593 \n",
      " userId        | 0.0               \n",
      "\n"
     ]
    }
   ],
   "source": [
    "# show percent nulls\n",
    "# because 'artist','length','song' have so many missing values I will not use them\n",
    "df.select(\n",
    "    [\n",
    "        ( (F.count(F.when(F.isnull(c), c)) / F.count(c)) * 100 ) \\\n",
    "            .alias(c) for c in df.columns\n",
    "    ]\n",
    ").show(vertical=True)"
   ]
  },
  {
   "cell_type": "markdown",
   "metadata": {},
   "source": [
    "### Define Churn\n",
    "`Churn` is defined as when the app registers the `Cancellation Confirmation` page. This occurs for both free and paid users. "
   ]
  },
  {
   "cell_type": "code",
   "execution_count": 126,
   "metadata": {},
   "outputs": [],
   "source": [
    "# this is a binary, indicator column to be used to predict churn\n",
    "df = df.withColumn(\n",
    "    'churn',\n",
    "    F.when((F.col('page') =='Cancellation Confirmation'), 1) \\\n",
    "    .otherwise(0)\n",
    ")"
   ]
  },
  {
   "cell_type": "markdown",
   "metadata": {},
   "source": [
    "# Explore Ratios of Churn"
   ]
  },
  {
   "cell_type": "code",
   "execution_count": 127,
   "metadata": {},
   "outputs": [
    {
     "name": "stdout",
     "output_type": "stream",
     "text": [
      "root\n",
      " |-- artist: string (nullable = true)\n",
      " |-- auth: string (nullable = true)\n",
      " |-- firstName: string (nullable = true)\n",
      " |-- gender: string (nullable = true)\n",
      " |-- itemInSession: long (nullable = true)\n",
      " |-- lastName: string (nullable = true)\n",
      " |-- length: double (nullable = true)\n",
      " |-- level: string (nullable = true)\n",
      " |-- location: string (nullable = true)\n",
      " |-- method: string (nullable = true)\n",
      " |-- page: string (nullable = true)\n",
      " |-- registration: long (nullable = true)\n",
      " |-- sessionId: long (nullable = true)\n",
      " |-- song: string (nullable = true)\n",
      " |-- status: long (nullable = true)\n",
      " |-- ts: long (nullable = true)\n",
      " |-- userAgent: string (nullable = true)\n",
      " |-- userId: string (nullable = true)\n",
      " |-- churn: integer (nullable = false)\n",
      "\n"
     ]
    }
   ],
   "source": [
    "df.printSchema()"
   ]
  },
  {
   "cell_type": "code",
   "execution_count": 128,
   "metadata": {},
   "outputs": [],
   "source": [
    "# create udf\n",
    "get_month = F.udf(lambda month: dt.fromtimestamp( month / 1000.0 ).strftime(\"%m\") if month is not None else None)\n",
    "# \n",
    "df = df.withColumn(\"registrationMonth\", get_month(\"registration\").cast(T.IntegerType())) \\\n",
    "    .withColumn(\"tsMonth\", get_month(\"ts\").cast(T.IntegerType())) \\\n",
    "    .withColumn(\"diffMonth\", F.col(\"tsMonth\") - F.col(\"registrationMonth\"))"
   ]
  },
  {
   "cell_type": "code",
   "execution_count": 38,
   "metadata": {},
   "outputs": [],
   "source": [
    "cancel_rate_by_month = df.select(\"diffMonth\",\"churn\", \"userId\") \\\n",
    "    .filter(df.diffMonth > 0) \\\n",
    "    .filter(df.diffMonth < 6) \\\n",
    "    .dropDuplicates() \\\n",
    "    .groupBy(\"diffMonth\") \\\n",
    "    .pivot(\"churn\") \\\n",
    "    .agg(F.countDistinct(\"userId\").alias(\"userIdCount\")) \\\n",
    "    .orderBy(\"diffMonth\") \\\n",
    "    .withColumn(\"percent\", ( F.col(\"1\") / ( F.col(\"1\") + F.col(\"0\") ) ) * 100 ) \\\n",
    "    .select(\"diffMonth\", \"percent\") \\\n",
    "    .toPandas()"
   ]
  },
  {
   "cell_type": "code",
   "execution_count": 42,
   "metadata": {},
   "outputs": [
    {
     "data": {
      "text/plain": [
       "<matplotlib.axes._subplots.AxesSubplot at 0x7f8f68d4e748>"
      ]
     },
     "execution_count": 42,
     "metadata": {},
     "output_type": "execute_result"
    },
    {
     "data": {
      "image/png": "[encoded data removed]",
      "text/plain": [
       "<matplotlib.figure.Figure at 0x7f8f68d803c8>"
      ]
     },
     "metadata": {
      "needs_background": "light"
     },
     "output_type": "display_data"
    }
   ],
   "source": [
    "%matplotlib inline\n",
    "cancel_rate_by_month.plot(kind='bar',x='diffMonth',y='percent', color='blue')"
   ]
  },
  {
   "cell_type": "code",
   "execution_count": 22,
   "metadata": {},
   "outputs": [
    {
     "data": {
      "text/plain": [
       "(52, 226, 18.705035971223023)"
      ]
     },
     "execution_count": 22,
     "metadata": {},
     "output_type": "execute_result"
    }
   ],
   "source": [
    "# users who have a cancellation value of 1\n",
    "users_who_quit = df.filter(df.churn==1) \\\n",
    "    .select(df.userId) \\\n",
    "    .dropDuplicates()\n",
    "\n",
    "# users who have a cancellation value of 0\n",
    "users_who_stayed = df.filter(df.churn==0) \\\n",
    "    .select(df.userId) \\\n",
    "    .dropDuplicates()\n",
    "\n",
    "# examine their lengths\n",
    "users_who_quit.count(), users_who_stayed.count(), ( users_who_quit.count() / (users_who_quit.count() + users_who_stayed.count())) * 100"
   ]
  },
  {
   "cell_type": "code",
   "execution_count": 57,
   "metadata": {},
   "outputs": [
    {
     "data": {
      "text/plain": [
       "<matplotlib.axes._subplots.AxesSubplot at 0x7f8f68b891d0>"
      ]
     },
     "execution_count": 57,
     "metadata": {},
     "output_type": "execute_result"
    },
    {
     "data": {
      "image/png": "[encoded data removed]",
      "text/plain": [
       "<matplotlib.figure.Figure at 0x7f8f68bf25f8>"
      ]
     },
     "metadata": {
      "needs_background": "light"
     },
     "output_type": "display_data"
    }
   ],
   "source": [
    "# are cancellation rates the same between free and paid users? \n",
    "churn_table = df.select(\"level\",\"churn\",\"userId\") \\\n",
    "    .dropDuplicates() \\\n",
    "    .groupBy(\"level\") \\\n",
    "    .pivot(\"churn\") \\\n",
    "    .agg(F.count(\"userId\").alias(\"userIdCount\")) \\\n",
    "    .withColumn(\"percent\", (F.col(\"1\")/(F.col(\"1\") + F.col(\"0\")))*100) \\\n",
    "    .toPandas() \n",
    "\n",
    "churn_table.plot(kind='bar',x='level',y='percent')"
   ]
  },
  {
   "cell_type": "code",
   "execution_count": 61,
   "metadata": {},
   "outputs": [
    {
     "data": {
      "text/plain": [
       "<matplotlib.axes._subplots.AxesSubplot at 0x7f8f68ad47f0>"
      ]
     },
     "execution_count": 61,
     "metadata": {},
     "output_type": "execute_result"
    },
    {
     "data": {
      "image/png": "[encoded data removed]",
      "text/plain": [
       "<matplotlib.figure.Figure at 0x7f8f68abeef0>"
      ]
     },
     "metadata": {
      "needs_background": "light"
     },
     "output_type": "display_data"
    }
   ],
   "source": [
    "# are cancellation rates the same between genders? \n",
    "churn_table = df.select(\"gender\",\"churn\",\"userId\") \\\n",
    "    .filter(~F.isnull(\"gender\")) \\\n",
    "    .dropDuplicates() \\\n",
    "    .groupBy(\"gender\") \\\n",
    "    .pivot(\"churn\") \\\n",
    "    .agg(F.count(\"userId\").alias(\"userIdCount\")) \\\n",
    "    .withColumn(\"percent\", (F.col(\"1\")/(F.col(\"1\") + F.col(\"0\"))) * 100) \\\n",
    "    .toPandas()\n",
    "\n",
    "churn_table.plot(kind='bar',x='gender',y='percent')"
   ]
  },
  {
   "cell_type": "markdown",
   "metadata": {},
   "source": [
    "# Feature Engineering\n",
    "The goal is to predict behavior at the user level--specifically if the user 'churns' or not. Therefore, my feature engineering focuses on finding characteristics at the `user` level. For each feature, I create a dataframe with the `userId` as the key. The dataframes are joined together, ensuring that one row eqauls one unique `userId`. Finally, the `userId` column is dropped. \n",
    "\n",
    "Ideas for features are: \n",
    "1. Cumulative Totals Per User: \n",
    "    - Add Friends\n",
    "    - Add to Playlist\n",
    "    - Roll Advertisement\n",
    "    - Error\n",
    "    - Login / Logout\n",
    "    - Thumbs Up / Thumbs Down\n",
    "    - Submit Upgrade / Submit Downgrade\n",
    "\n",
    "2. Location: \n",
    "    - City\n",
    "    - State\n",
    "    \n",
    "3. userAgent: \n",
    "    - browser\n",
    "    - os \n",
    "    - brand\n",
    "    \n",
    "4. Time: \n",
    "    - Avg. Length of Session\n",
    "    - Time Spent as Free / Paid Level\n",
    "    - Time User spent on Sparkify\n",
    "    \n",
    "5. Gender of User"
   ]
  },
  {
   "cell_type": "markdown",
   "metadata": {},
   "source": [
    "### 1. Cumulative Totals DataFrame"
   ]
  },
  {
   "cell_type": "code",
   "execution_count": 129,
   "metadata": {},
   "outputs": [
    {
     "name": "stdout",
     "output_type": "stream",
     "text": [
      "+------+----------+---------------+-----+----+------+-----------+-----------+---------+\n",
      "|userId|Add Friend|Add to Playlist|Error|Help|Logout|Roll Advert|Thumbs Down|Thumbs Up|\n",
      "+------+----------+---------------+-----+----+------+-----------+-----------+---------+\n",
      "|200002|         4|              8| null|   2|     5|          7|          6|       21|\n",
      "|100010|         4|              7| null|   2|     5|         52|          5|       17|\n",
      "|   125|      null|           null| null|null|  null|          1|       null|     null|\n",
      "|    51|        28|             52|    1|  12|    24|       null|         21|      100|\n",
      "|     7|         1|              5|    1|   1|     3|         16|          1|        7|\n",
      "|   124|        74|            118|    6|  23|    59|          4|         41|      171|\n",
      "|    54|        33|             72|    1|  17|    36|         47|         29|      163|\n",
      "|    15|        31|             59|    2|   8|    27|          1|         14|       81|\n",
      "|   155|        11|             24|    3|   9|    14|          8|          3|       58|\n",
      "|   132|        41|             38|    3|  16|    34|          2|         17|       96|\n",
      "|100014|         6|              7| null|   2|     3|          2|          3|       17|\n",
      "|   154|         3|              1| null|   1|     2|         10|       null|       11|\n",
      "|   101|        29|             61|    3|  12|    24|          8|         16|       86|\n",
      "|    11|         6|             20|    1|   3|    14|         39|          9|       40|\n",
      "|   138|        41|             67|    1|  13|    18|         17|         24|       95|\n",
      "|300017|        63|            113|    5|  27|    41|         11|         28|      303|\n",
      "|100021|         7|              7|    2|null|     7|         30|          5|       11|\n",
      "|    69|        12|             33|    4|   7|    10|          3|          9|       72|\n",
      "|    29|        47|             89| null|  28|    41|         22|         22|      154|\n",
      "|   112|         7|              7| null|   1|     3|         21|          3|        9|\n",
      "+------+----------+---------------+-----+----+------+-----------+-----------+---------+\n",
      "only showing top 20 rows\n",
      "\n"
     ]
    }
   ],
   "source": [
    "# Cumulative Totals of Page Per User\n",
    "page_list = [\"Add Friend\", \"Add to Playlist\", \"Logout\", \"Thumbs Up\", \n",
    "             \"Thumbs Down\", \"Error\", \"Roll Advert\", \"Help\"]\n",
    "\n",
    "user_page = df.select(\"userId\",\"page\") \\\n",
    "    .filter(F.col(\"page\").isin(page_list)) \\\n",
    "    .groupBy(\"userId\") \\\n",
    "    .pivot(\"page\") \\\n",
    "    .agg(F.count(\"page\").alias(\"page_count\"))\n",
    "\n",
    "user_page.show()"
   ]
  },
  {
   "cell_type": "markdown",
   "metadata": {},
   "source": [
    "### 2. Location DataFrame"
   ]
  },
  {
   "cell_type": "code",
   "execution_count": 130,
   "metadata": {},
   "outputs": [
    {
     "name": "stdout",
     "output_type": "stream",
     "text": [
      "+------+--------------------+------------+\n",
      "|userId|                city|       state|\n",
      "+------+--------------------+------------+\n",
      "|    13|Philadelphia-Camd...| PA-NJ-DE-MD|\n",
      "|   124|  Vineland-Bridgeton|          NJ|\n",
      "|300017|               Ionia|          MI|\n",
      "|    67|Sacramento--Rosev...|          CA|\n",
      "|    91|   New Haven-Milford|          CT|\n",
      "|   136|Charlotte-Concord...|       NC-SC|\n",
      "|200021|Detroit-Warren-De...|          MI|\n",
      "|300005|             Roanoke|          VA|\n",
      "|    20|Miami-Fort Lauder...|          FL|\n",
      "|   151|Washington-Arling...| DC-VA-MD-WV|\n",
      "|    95|Phoenix-Mesa-Scot...|          AZ|\n",
      "|   104|            Billings|          MT|\n",
      "|300008|          Cookeville|          TN|\n",
      "|    62|Houston-The Woodl...|          TX|\n",
      "|300009|           St. Louis|       MO-IL|\n",
      "|    24|                Troy|          AL|\n",
      "|    81|Philadelphia-Camd...| PA-NJ-DE-MD|\n",
      "|    93|Allentown-Bethleh...|       PA-NJ|\n",
      "|   114|Las Vegas-Henders...|          NV|\n",
      "|    99|   New Haven-Milford|          CT|\n",
      "+------+--------------------+------------+\n",
      "only showing top 20 rows\n",
      "\n"
     ]
    }
   ],
   "source": [
    "# split the 'location' field into 'city' and 'state fields'\n",
    "user_location = df.withColumn('city', F.split(df['location'], ',').getItem(0)) \\\n",
    "    .withColumn('state', F.split(df['location'], ',').getItem(1)) \\\n",
    "    .select(\"userId\",\"city\",\"state\") \\\n",
    "    .dropDuplicates()\n",
    "\n",
    "user_location.show()"
   ]
  },
  {
   "cell_type": "markdown",
   "metadata": {},
   "source": [
    "### 3. Browser/Device DataFrame"
   ]
  },
  {
   "cell_type": "code",
   "execution_count": 131,
   "metadata": {},
   "outputs": [
    {
     "name": "stdout",
     "output_type": "stream",
     "text": [
      "+------+-------------+--------------------+--------------------+\n",
      "|userId|      browser|                  os|               brand|\n",
      "+------+-------------+--------------------+--------------------+\n",
      "|    74|\"Mozilla/5.0 |           Macintosh| Intel Mac OS X 1...|\n",
      "|    14| Mozilla/5.0 |           Macintosh| Intel Mac OS X 10.9|\n",
      "|100010|\"Mozilla/5.0 |              iPhone| CPU iPhone OS 7_...|\n",
      "|    59| Mozilla/5.0 |      Windows NT 6.1|               WOW64|\n",
      "|   132|\"Mozilla/5.0 |           Macintosh| Intel Mac OS X 1...|\n",
      "|   153|\"Mozilla/5.0 |      Windows NT 6.1| WOW64) AppleWebK...|\n",
      "|    83|\"Mozilla/5.0 |                 X11| Linux x86_64) Ap...|\n",
      "|100014|\"Mozilla/5.0 |      Windows NT 6.1| WOW64) AppleWebK...|\n",
      "|    96|\"Mozilla/5.0 |           Macintosh| Intel Mac OS X 1...|\n",
      "|200023|\"Mozilla/5.0 |      Windows NT 6.3| WOW64) AppleWebK...|\n",
      "|200006|\"Mozilla/5.0 |           Macintosh| Intel Mac OS X 1...|\n",
      "|    28| Mozilla/5.0 |      Windows NT 6.1|               WOW64|\n",
      "|    70|\"Mozilla/5.0 |      Windows NT 6.1| WOW64) AppleWebK...|\n",
      "|200011|\"Mozilla/5.0 |           Macintosh| Intel Mac OS X 1...|\n",
      "|    40| Mozilla/5.0 |      Windows NT 6.3|               WOW64|\n",
      "|    99|\"Mozilla/5.0 |      Windows NT 6.1| WOW64) AppleWebK...|\n",
      "|300024| Mozilla/5.0 |           Macintosh| Intel Mac OS X 10.9|\n",
      "|200004|\"Mozilla/5.0 |           Macintosh| Intel Mac OS X 1...|\n",
      "|    38|\"Mozilla/5.0 |           Macintosh| Intel Mac OS X 1...|\n",
      "|100013|\"Mozilla/5.0 |Windows NT 6.1) A...|                null|\n",
      "+------+-------------+--------------------+--------------------+\n",
      "only showing top 20 rows\n",
      "\n"
     ]
    }
   ],
   "source": [
    "# create browser, os, brand from userAgent\n",
    "df = df.withColumn('browser', F.split(df['userAgent'], '\\(').getItem(0)) \\\n",
    "    .withColumn('temp', F.split(df['userAgent'], '\\(').getItem(1)) \n",
    "\n",
    "df = df.withColumn('os', F.split(df['temp'], ';').getItem(0)) \\\n",
    "    .withColumn('brand', F.split(df['temp'], ';').getItem(1))\n",
    "\n",
    "user_browser = df.select(\"userId\",\"browser\",\"os\",\"brand\").dropDuplicates()\n",
    "\n",
    "user_browser.show()"
   ]
  },
  {
   "cell_type": "markdown",
   "metadata": {},
   "source": [
    "### 4. Time DataFrames"
   ]
  },
  {
   "cell_type": "code",
   "execution_count": 132,
   "metadata": {},
   "outputs": [
    {
     "name": "stdout",
     "output_type": "stream",
     "text": [
      "+------+---------------+\n",
      "|userId|avgSessionHours|\n",
      "+------+---------------+\n",
      "|100010|            2.6|\n",
      "|200002|            4.4|\n",
      "|   125|            0.5|\n",
      "|    51|           14.5|\n",
      "|   124|            9.6|\n",
      "|     7|            1.5|\n",
      "|    54|            5.4|\n",
      "|    15|            8.8|\n",
      "|   155|            9.1|\n",
      "|100014|            3.1|\n",
      "|   132|            8.3|\n",
      "|   154|            1.8|\n",
      "|   101|           13.6|\n",
      "|    11|            2.7|\n",
      "|300017|            3.9|\n",
      "|   138|            9.4|\n",
      "|    29|            6.1|\n",
      "|    69|            8.8|\n",
      "|100021|            3.6|\n",
      "|    42|            5.5|\n",
      "+------+---------------+\n",
      "only showing top 20 rows\n",
      "\n"
     ]
    }
   ],
   "source": [
    "# create window partition\n",
    "w = Window.partitionBy(\"userId\",\"sessionId\").orderBy(\"sessionId\")\n",
    "# calculate session duration ( per user ) in HOURS\n",
    "user_sess_dur = df.select(\"userId\",\"sessionId\",\"ts\") \\\n",
    "    .withColumn(\"max_ts\", F.max('ts').over(w)) \\\n",
    "    .withColumn(\"min_ts\", F.min('ts').over(w)) \\\n",
    "    .withColumn(\"tsDiff\", ( F.col('max_ts') - F.col('min_ts')) / ( 1000 * 3600 )) \\\n",
    "    .select(\"userId\",\"sessionId\",\"tsDiff\") \\\n",
    "    .dropDuplicates() \\\n",
    "    .groupBy(\"userId\") \\\n",
    "    .agg(F.round(F.avg(\"tsDiff\"),1).alias(\"avgSessionHours\"))\n",
    "\n",
    "user_sess_dur.show()"
   ]
  },
  {
   "cell_type": "code",
   "execution_count": 133,
   "metadata": {},
   "outputs": [
    {
     "name": "stdout",
     "output_type": "stream",
     "text": [
      "+------+--------+\n",
      "|userId|daysUsed|\n",
      "+------+--------+\n",
      "|100010|    44.2|\n",
      "|200002|    45.5|\n",
      "|   125|     0.0|\n",
      "|   124|    60.0|\n",
      "|    51|    15.8|\n",
      "|     7|    50.8|\n",
      "|    15|    54.8|\n",
      "|    54|    42.8|\n",
      "|   155|    25.8|\n",
      "|100014|    41.2|\n",
      "|   132|    50.5|\n",
      "|   154|    25.0|\n",
      "|   101|    15.9|\n",
      "|    11|    53.2|\n",
      "|   138|    56.1|\n",
      "|300017|    59.1|\n",
      "|100021|    45.5|\n",
      "|    29|    43.3|\n",
      "|    69|    51.0|\n",
      "|   112|    56.9|\n",
      "+------+--------+\n",
      "only showing top 20 rows\n",
      "\n"
     ]
    }
   ],
   "source": [
    "# create window partition\n",
    "w = Window.partitionBy(\"userId\").orderBy(\"userId\")\n",
    "# calculate total time used\n",
    "user_days = df.select(\"userId\",\"ts\") \\\n",
    "    .withColumn(\"max_ts\", F.max('ts').over(w)) \\\n",
    "    .withColumn(\"min_ts\", F.min('ts').over(w)) \\\n",
    "    .withColumn(\"daysUsed\", F.round(( F.col('max_ts') - F.col('min_ts') ) / ( 1000 * 3600 * 24), 1)) \\\n",
    "    .select(\"userId\", \"daysUsed\") \\\n",
    "    .dropDuplicates()\n",
    "\n",
    "user_days.show()"
   ]
  },
  {
   "cell_type": "code",
   "execution_count": 134,
   "metadata": {},
   "outputs": [
    {
     "name": "stdout",
     "output_type": "stream",
     "text": [
      "+------+----+----+\n",
      "|userId|free|paid|\n",
      "+------+----+----+\n",
      "|200002|16.9|28.6|\n",
      "|100010|44.2|null|\n",
      "|   125| 0.0|null|\n",
      "|     7|50.8|null|\n",
      "|   124|null|60.0|\n",
      "|    51|null|15.8|\n",
      "|    54|14.0|42.8|\n",
      "|    15|null|54.8|\n",
      "|   155| 6.4|19.4|\n",
      "|   132| 0.1|50.4|\n",
      "|   154|25.0|null|\n",
      "|100014|null|41.2|\n",
      "|    11|42.5|47.1|\n",
      "|   101| 1.7|14.2|\n",
      "|300017|null|59.1|\n",
      "|   138|16.6|39.5|\n",
      "|100021|45.5|null|\n",
      "|    29| 6.7|36.6|\n",
      "|    69| 4.1|46.9|\n",
      "|   112|56.9|null|\n",
      "+------+----+----+\n",
      "only showing top 20 rows\n",
      "\n"
     ]
    }
   ],
   "source": [
    "# create window partition\n",
    "w = Window.partitionBy(\"userId\", \"level\").orderBy(\"userId\")\n",
    "\n",
    "user_level = df.select(\"userId\", \"level\", \"ts\") \\\n",
    "    .withColumn(\"max_ts\", F.max(\"ts\").over(w)) \\\n",
    "    .withColumn(\"min_ts\", F.min(\"ts\").over(w)) \\\n",
    "    .withColumn(\"daysAs\", (F.col(\"max_ts\") - F.col(\"min_ts\")) / (1000 * 3600 * 24)) \\\n",
    "    .select(\"userId\",\"level\",\"daysAs\") \\\n",
    "    .dropDuplicates() \\\n",
    "    .groupBy(\"userId\") \\\n",
    "    .pivot(\"level\") \\\n",
    "    .agg(F.round(F.avg(\"daysAs\"),1))\n",
    "\n",
    "user_level.show()"
   ]
  },
  {
   "cell_type": "markdown",
   "metadata": {},
   "source": [
    "### 5. Gender and Registration Month DataFrame"
   ]
  },
  {
   "cell_type": "code",
   "execution_count": 135,
   "metadata": {},
   "outputs": [
    {
     "name": "stdout",
     "output_type": "stream",
     "text": [
      "+------+------+-----------------+\n",
      "|userId|gender|registrationMonth|\n",
      "+------+------+-----------------+\n",
      "|    51|     M|                9|\n",
      "|   137|     M|                7|\n",
      "|   149|     M|                9|\n",
      "|200006|     F|                9|\n",
      "|200004|     M|                9|\n",
      "|300001|     F|                5|\n",
      "|     4|     M|                9|\n",
      "|    95|     F|                9|\n",
      "|   148|     M|                9|\n",
      "|300006|     M|                8|\n",
      "|100018|     M|                8|\n",
      "|200020|     M|                9|\n",
      "|   101|     M|                8|\n",
      "|   108|     F|                9|\n",
      "|100023|     M|                9|\n",
      "|   113|     F|                7|\n",
      "|300005|     F|                6|\n",
      "|    66|     F|                7|\n",
      "|   133|     M|                9|\n",
      "|200022|     M|                8|\n",
      "+------+------+-----------------+\n",
      "only showing top 20 rows\n",
      "\n"
     ]
    }
   ],
   "source": [
    "user_gender = df.select(\"userId\", \"gender\",\"registrationMonth\") \\\n",
    "    .dropDuplicates()\n",
    "\n",
    "user_gender.show()"
   ]
  },
  {
   "cell_type": "markdown",
   "metadata": {},
   "source": [
    "### 6. Churn DataFrame"
   ]
  },
  {
   "cell_type": "code",
   "execution_count": 136,
   "metadata": {},
   "outputs": [
    {
     "name": "stdout",
     "output_type": "stream",
     "text": [
      "+------+-----+\n",
      "|userId|label|\n",
      "+------+-----+\n",
      "|100010|    0|\n",
      "|200002|    0|\n",
      "|   125|    1|\n",
      "|    51|    1|\n",
      "|   124|    0|\n",
      "|     7|    0|\n",
      "|    54|    1|\n",
      "|    15|    0|\n",
      "|   155|    0|\n",
      "|   132|    0|\n",
      "|   154|    0|\n",
      "|100014|    1|\n",
      "|   101|    1|\n",
      "|    11|    0|\n",
      "|   138|    0|\n",
      "|300017|    0|\n",
      "|    29|    1|\n",
      "|    69|    0|\n",
      "|100021|    1|\n",
      "|    42|    0|\n",
      "+------+-----+\n",
      "only showing top 20 rows\n",
      "\n"
     ]
    }
   ],
   "source": [
    "# create churn table\n",
    "user_churn = df.select(\"userId\", \"churn\") \\\n",
    "    .groupBy(\"userId\") \\\n",
    "    .agg(F.sum(\"churn\").alias(\"label\"))\n",
    "\n",
    "user_churn.show()"
   ]
  },
  {
   "cell_type": "markdown",
   "metadata": {},
   "source": [
    "### Join DataFrames"
   ]
  },
  {
   "cell_type": "code",
   "execution_count": 137,
   "metadata": {},
   "outputs": [
    {
     "name": "stdout",
     "output_type": "stream",
     "text": [
      "-RECORD 0---------------------------------\n",
      " label             | 0                    \n",
      " Add Friend        | 4                    \n",
      " Add to Playlist   | 7                    \n",
      " Error             | null                 \n",
      " Help              | 2                    \n",
      " Logout            | 5                    \n",
      " Roll Advert       | 52                   \n",
      " Thumbs Down       | 5                    \n",
      " Thumbs Up         | 17                   \n",
      " browser           | \"Mozilla/5.0         \n",
      " os                | iPhone               \n",
      " brand             |  CPU iPhone OS 7_... \n",
      " avgSessionHours   | 2.6                  \n",
      " free              | 44.2                 \n",
      " paid              | null                 \n",
      " gender            | F                    \n",
      " registrationMonth | 9                    \n",
      "only showing top 1 row\n",
      "\n"
     ]
    }
   ],
   "source": [
    "# 'user_location' and 'user_days' are not used. \n",
    "# 'user_location' does not describe user behavior\n",
    "# 'user_days' is the sum of 'free' and 'paid' in 'user_level' so could be a confounder\n",
    "# join all the tables together\n",
    "user_data = user_churn.join(user_page, ['userId'], \"left\") \\\n",
    "    .join(user_browser,['userId'], \"left\") \\\n",
    "    .join(user_sess_dur, ['userId'], \"left\") \\\n",
    "    .join(user_level, ['userId'], \"left\") \\\n",
    "    .join(user_gender, ['userId'], \"left\") \\\n",
    "    .drop(\"userId\")\n",
    "\n",
    "user_data.show(1, vertical=True)"
   ]
  },
  {
   "cell_type": "code",
   "execution_count": 138,
   "metadata": {},
   "outputs": [
    {
     "name": "stdout",
     "output_type": "stream",
     "text": [
      "(226, 17)\n"
     ]
    }
   ],
   "source": [
    "# final size of dataset\n",
    "print((user_data.count(), len(user_data.columns)))"
   ]
  },
  {
   "cell_type": "markdown",
   "metadata": {},
   "source": [
    "### Replace Nulls"
   ]
  },
  {
   "cell_type": "code",
   "execution_count": 139,
   "metadata": {},
   "outputs": [
    {
     "name": "stdout",
     "output_type": "stream",
     "text": [
      "-RECORD 0----------------\n",
      " label             | 0.0 \n",
      " Add Friend        | 0.0 \n",
      " Add to Playlist   | 0.0 \n",
      " Error             | 0.0 \n",
      " Help              | 0.0 \n",
      " Logout            | 0.0 \n",
      " Roll Advert       | 0.0 \n",
      " Thumbs Down       | 0.0 \n",
      " Thumbs Up         | 0.0 \n",
      " browser           | 0.0 \n",
      " os                | 0.0 \n",
      " brand             | 0.0 \n",
      " avgSessionHours   | 0.0 \n",
      " free              | 0.0 \n",
      " paid              | 0.0 \n",
      " gender            | 0.0 \n",
      " registrationMonth | 0.0 \n",
      "\n"
     ]
    }
   ],
   "source": [
    "# define list of numeric columns\n",
    "numeric_cols = user_page.columns[1:] + user_sess_dur.columns[1:] + user_level.columns[1:] + ['registrationMonth']\n",
    "# create dictionary specifying that 0 will be used to fill missing rows\n",
    "impute_numeric = { i : 0 for i in numeric_cols }\n",
    "# fill missing rows in numeric columns\n",
    "user_data = user_data.fillna(impute_numeric)\n",
    "# define list of category columns (strings)\n",
    "categ_cols = user_browser.columns[1:] + ['gender']\n",
    "# create dictionary specifying that 'missing' will be used to fill missing rows\n",
    "impute_categ = { i : 'missing' for i in categ_cols }\n",
    "# fill missing rows in category columns\n",
    "user_data = user_data.fillna(impute_categ)\n",
    "# show % nulls - should be 0 for every column\n",
    "user_data.select(\n",
    "    [\n",
    "        ( (F.count(F.when(F.isnull(c), c)) / F.count(c)) * 100 ) \\\n",
    "            .alias(c) for c in user_data.columns\n",
    "    ]\n",
    ").show(vertical=True)"
   ]
  },
  {
   "cell_type": "markdown",
   "metadata": {},
   "source": [
    "# Modeling"
   ]
  },
  {
   "cell_type": "markdown",
   "metadata": {},
   "source": [
    "### Split into Training / Testing Sets"
   ]
  },
  {
   "cell_type": "code",
   "execution_count": 140,
   "metadata": {},
   "outputs": [],
   "source": [
    "training, testing = user_data.randomSplit([0.8, 0.2], seed=100)"
   ]
  },
  {
   "cell_type": "markdown",
   "metadata": {},
   "source": [
    "### Create Pipeline"
   ]
  },
  {
   "cell_type": "code",
   "execution_count": 99,
   "metadata": {},
   "outputs": [
    {
     "ename": "TypeError",
     "evalue": "__init__() got an unexpected keyword argument 'inputCols'",
     "output_type": "error",
     "traceback": [
      "\u001b[0;31m---------------------------------------------------------------------------\u001b[0m",
      "\u001b[0;31mTypeError\u001b[0m                                 Traceback (most recent call last)",
      "\u001b[0;32m<ipython-input-99-b2dd8c922ae3>\u001b[0m in \u001b[0;36m<module>\u001b[0;34m()\u001b[0m\n\u001b[1;32m      3\u001b[0m \u001b[0;31m# encode categories in pipeline\u001b[0m\u001b[0;34m\u001b[0m\u001b[0;34m\u001b[0m\u001b[0m\n\u001b[1;32m      4\u001b[0m categ_pipeline = Pipeline(stages=[\n\u001b[0;32m----> 5\u001b[0;31m     \u001b[0mStringIndexer\u001b[0m\u001b[0;34m(\u001b[0m\u001b[0minputCols\u001b[0m\u001b[0;34m=\u001b[0m\u001b[0mcateg_cols\u001b[0m\u001b[0;34m,\u001b[0m \u001b[0moutputCols\u001b[0m\u001b[0;34m=\u001b[0m\u001b[0mo_categ_cols\u001b[0m\u001b[0;34m,\u001b[0m \u001b[0mhandleInvalid\u001b[0m\u001b[0;34m=\u001b[0m\u001b[0;34m'skip'\u001b[0m\u001b[0;34m)\u001b[0m\u001b[0;34m,\u001b[0m\u001b[0;34m\u001b[0m\u001b[0m\n\u001b[0m\u001b[1;32m      6\u001b[0m     VectorAssembler(\n\u001b[1;32m      7\u001b[0m         \u001b[0minputCols\u001b[0m\u001b[0;34m=\u001b[0m\u001b[0mo_categ_cols\u001b[0m\u001b[0;34m,\u001b[0m\u001b[0;34m\u001b[0m\u001b[0m\n",
      "\u001b[0;32m/opt/spark-2.4.3-bin-hadoop2.7/python/pyspark/__init__.py\u001b[0m in \u001b[0;36mwrapper\u001b[0;34m(self, *args, **kwargs)\u001b[0m\n\u001b[1;32m    108\u001b[0m             \u001b[0;32mraise\u001b[0m \u001b[0mTypeError\u001b[0m\u001b[0;34m(\u001b[0m\u001b[0;34m\"Method %s forces keyword arguments.\"\u001b[0m \u001b[0;34m%\u001b[0m \u001b[0mfunc\u001b[0m\u001b[0;34m.\u001b[0m\u001b[0m__name__\u001b[0m\u001b[0;34m)\u001b[0m\u001b[0;34m\u001b[0m\u001b[0m\n\u001b[1;32m    109\u001b[0m         \u001b[0mself\u001b[0m\u001b[0;34m.\u001b[0m\u001b[0m_input_kwargs\u001b[0m \u001b[0;34m=\u001b[0m \u001b[0mkwargs\u001b[0m\u001b[0;34m\u001b[0m\u001b[0m\n\u001b[0;32m--> 110\u001b[0;31m         \u001b[0;32mreturn\u001b[0m \u001b[0mfunc\u001b[0m\u001b[0;34m(\u001b[0m\u001b[0mself\u001b[0m\u001b[0;34m,\u001b[0m \u001b[0;34m**\u001b[0m\u001b[0mkwargs\u001b[0m\u001b[0;34m)\u001b[0m\u001b[0;34m\u001b[0m\u001b[0m\n\u001b[0m\u001b[1;32m    111\u001b[0m     \u001b[0;32mreturn\u001b[0m \u001b[0mwrapper\u001b[0m\u001b[0;34m\u001b[0m\u001b[0m\n\u001b[1;32m    112\u001b[0m \u001b[0;34m\u001b[0m\u001b[0m\n",
      "\u001b[0;31mTypeError\u001b[0m: __init__() got an unexpected keyword argument 'inputCols'"
     ]
    }
   ],
   "source": [
    "# create list of category output columns from previously defined categ_columns\n",
    "o_categ_cols = [ n + 'Index' for n in categ_cols ] \n",
    "# encode categories in pipeline\n",
    "categ_pipeline = Pipeline(stages=[\n",
    "    StringIndexer(inputCols=categ_cols, outputCols=o_categ_cols, handleInvalid='skip'),\n",
    "    VectorAssembler(\n",
    "        inputCols=o_categ_cols, \n",
    "        outputCol=\"categ_features\"\n",
    "    )\n",
    "])"
   ]
  },
  {
   "cell_type": "code",
   "execution_count": 141,
   "metadata": {},
   "outputs": [],
   "source": [
    "# numeric pipeline - use numeric columns defined earlier\n",
    "numer_pipeline = Pipeline(stages=[\n",
    "    VectorAssembler(inputCols=numeric_cols, outputCol=\"numer_features\")\n",
    "])"
   ]
  },
  {
   "cell_type": "code",
   "execution_count": 30,
   "metadata": {},
   "outputs": [
    {
     "data": {
      "application/vnd.jupyter.widget-view+json": {
       "model_id": "63d6949808bb4a69a8fbda3464dad6af",
       "version_major": 2,
       "version_minor": 0
      },
      "text/plain": [
       "VBox()"
      ]
     },
     "metadata": {},
     "output_type": "display_data"
    },
    {
     "data": {
      "application/vnd.jupyter.widget-view+json": {
       "model_id": "",
       "version_major": 2,
       "version_minor": 0
      },
      "text/plain": [
       "FloatProgress(value=0.0, bar_style='info', description='Progress:', layout=Layout(height='25px', width='50%'),…"
      ]
     },
     "metadata": {},
     "output_type": "display_data"
    }
   ],
   "source": [
    "# unite pipelines ( final features have to be named 'features')\n",
    "# unite pipelines\n",
    "final_pipeline = Pipeline(stages=[\n",
    "    categ_pipeline,\n",
    "    numer_pipeline,\n",
    "    VectorAssembler(\n",
    "        inputCols=[\"categ_features\",\"numer_features\"],\n",
    "        outputCol=\"features\"\n",
    "    ),\n",
    "    LogisticRegression(maxIter=10)\n",
    "])"
   ]
  },
  {
   "cell_type": "markdown",
   "metadata": {},
   "source": [
    "### Cross-Validate on Training Set"
   ]
  },
  {
   "cell_type": "code",
   "execution_count": 31,
   "metadata": {},
   "outputs": [
    {
     "data": {
      "application/vnd.jupyter.widget-view+json": {
       "model_id": "d1fab56d8d38488ea49f0079d02e0d1c",
       "version_major": 2,
       "version_minor": 0
      },
      "text/plain": [
       "VBox()"
      ]
     },
     "metadata": {},
     "output_type": "display_data"
    },
    {
     "data": {
      "application/vnd.jupyter.widget-view+json": {
       "model_id": "",
       "version_major": 2,
       "version_minor": 0
      },
      "text/plain": [
       "FloatProgress(value=0.0, bar_style='info', description='Progress:', layout=Layout(height='25px', width='50%'),…"
      ]
     },
     "metadata": {},
     "output_type": "display_data"
    }
   ],
   "source": [
    "# define parameters ( just one )\n",
    "paramGrid = ParamGridBuilder() \\\n",
    "    .addGrid(LogisticRegression.regParam, [0.1, 0.05, 0.01]) \\\n",
    "    .build()\n",
    "\n",
    "# optimize 4 fold cross-validation using the area under ROC curve\n",
    "crossval = CrossValidator(estimator=final_pipeline,\n",
    "                          estimatorParamMaps=paramGrid,\n",
    "                          evaluator=BinaryClassificationEvaluator(labelCol='label',metricName='areaUnderROC'),\n",
    "                          numFolds=3) "
   ]
  },
  {
   "cell_type": "code",
   "execution_count": 32,
   "metadata": {},
   "outputs": [
    {
     "data": {
      "application/vnd.jupyter.widget-view+json": {
       "model_id": "cb3c207f31d74ee9b61feb2a0cb0237d",
       "version_major": 2,
       "version_minor": 0
      },
      "text/plain": [
       "VBox()"
      ]
     },
     "metadata": {},
     "output_type": "display_data"
    },
    {
     "data": {
      "application/vnd.jupyter.widget-view+json": {
       "model_id": "",
       "version_major": 2,
       "version_minor": 0
      },
      "text/plain": [
       "FloatProgress(value=0.0, bar_style='info', description='Progress:', layout=Layout(height='25px', width='50%'),…"
      ]
     },
     "metadata": {},
     "output_type": "display_data"
    }
   ],
   "source": [
    "cvModel = crossval.fit(training)"
   ]
  },
  {
   "cell_type": "code",
   "execution_count": 33,
   "metadata": {},
   "outputs": [
    {
     "data": {
      "application/vnd.jupyter.widget-view+json": {
       "model_id": "122e8789466042669d32d4aa432f1a36",
       "version_major": 2,
       "version_minor": 0
      },
      "text/plain": [
       "VBox()"
      ]
     },
     "metadata": {},
     "output_type": "display_data"
    },
    {
     "data": {
      "application/vnd.jupyter.widget-view+json": {
       "model_id": "",
       "version_major": 2,
       "version_minor": 0
      },
      "text/plain": [
       "FloatProgress(value=0.0, bar_style='info', description='Progress:', layout=Layout(height='25px', width='50%'),…"
      ]
     },
     "metadata": {},
     "output_type": "display_data"
    },
    {
     "name": "stdout",
     "output_type": "stream",
     "text": [
      "[0.7769540579729164, 0.7769540579729164, 0.7769540579729164]"
     ]
    }
   ],
   "source": [
    "# certainly looks like the regParam is fine at 0.1\n",
    "cvModel.avgMetrics"
   ]
  },
  {
   "cell_type": "markdown",
   "metadata": {},
   "source": [
    "### Fit Tuned Pipeline on Entire Training Set"
   ]
  },
  {
   "cell_type": "code",
   "execution_count": 103,
   "metadata": {},
   "outputs": [],
   "source": [
    "# unite pipelines ( final features have to be named 'features')\n",
    "# unite pipelines\n",
    "final_pipeline2 = Pipeline(stages=[\n",
    "    #categ_pipeline,\n",
    "    numer_pipeline,\n",
    "    VectorAssembler(\n",
    "        # inputCols=[\"categ_features\",\"numer_features\"],\n",
    "        inputCols=[\"numer_features\"],\n",
    "        outputCol=\"features\"\n",
    "    ),\n",
    "    LogisticRegression(maxIter=10, regParam=0.1)\n",
    "])\n",
    "\n",
    "pipelineModel = final_pipeline2.fit(training)"
   ]
  },
  {
   "cell_type": "code",
   "execution_count": 104,
   "metadata": {},
   "outputs": [
    {
     "data": {
      "text/plain": [
       "(0.7754010695187166, 0.8576354679802947)"
      ]
     },
     "execution_count": 104,
     "metadata": {},
     "output_type": "execute_result"
    }
   ],
   "source": [
    "# show accuracy and AUC\n",
    "summaryPipeline = pipelineModel.stages[-1].summary\n",
    "summaryPipeline.accuracy, summaryPipeline.areaUnderROC"
   ]
  },
  {
   "cell_type": "markdown",
   "metadata": {},
   "source": [
    "### Calculate Odds-Ratios"
   ]
  },
  {
   "cell_type": "code",
   "execution_count": 106,
   "metadata": {},
   "outputs": [
    {
     "data": {
      "text/plain": [
       "['Add Friend',\n",
       " 'Add to Playlist',\n",
       " 'Error',\n",
       " 'Help',\n",
       " 'Logout',\n",
       " 'Roll Advert',\n",
       " 'Thumbs Down',\n",
       " 'Thumbs Up',\n",
       " 'avgSessionHours',\n",
       " 'free',\n",
       " 'paid',\n",
       " 'registrationMonth']"
      ]
     },
     "execution_count": 106,
     "metadata": {},
     "output_type": "execute_result"
    }
   ],
   "source": [
    "numeric_cols"
   ]
  },
  {
   "cell_type": "code",
   "execution_count": 107,
   "metadata": {},
   "outputs": [
    {
     "name": "stdout",
     "output_type": "stream",
     "text": [
      "+----+-----------------+\n",
      "|  or|          feature|\n",
      "+----+-----------------+\n",
      "|0.99|       Add Friend|\n",
      "| 1.0|  Add to Playlist|\n",
      "| 0.9|            Error|\n",
      "| 1.0|             Help|\n",
      "| 1.0|           Logout|\n",
      "|1.01|      Roll Advert|\n",
      "|1.01|      Thumbs Down|\n",
      "| 1.0|        Thumbs Up|\n",
      "| 1.0|  avgSessionHours|\n",
      "|0.97|             free|\n",
      "|0.98|             paid|\n",
      "|1.08|registrationMonth|\n",
      "+----+-----------------+\n",
      "\n"
     ]
    }
   ],
   "source": [
    "import numpy as np\n",
    "\n",
    "coeffs = pipelineModel.stages[-1].coefficientMatrix\n",
    "odds_ratios = np.around(np.exp(coeffs.toArray()),2).tolist()\n",
    "# feature_list = o_categ_cols + numeric_cols\n",
    "feature_list = numeric_cols\n",
    "odds_ratios_df = spark.createDataFrame(\n",
    "    [ t for t in zip(odds_ratios[0], feature_list)],\n",
    "    [\"or\", \"feature\"]\n",
    ")\n",
    "\n",
    "odds_ratios_df.show(30)"
   ]
  },
  {
   "cell_type": "markdown",
   "metadata": {},
   "source": [
    "### Score on Testing Set"
   ]
  },
  {
   "cell_type": "code",
   "execution_count": 108,
   "metadata": {},
   "outputs": [],
   "source": [
    "# generate predictions\n",
    "predictions = pipelineModel.transform(testing)\n",
    "# intialize the evaluator\n",
    "bce = BinaryClassificationEvaluator(labelCol='label', metricName='areaUnderROC').evaluate(predictions)"
   ]
  },
  {
   "cell_type": "code",
   "execution_count": 109,
   "metadata": {},
   "outputs": [
    {
     "data": {
      "text/plain": [
       "0.8620689655172413"
      ]
     },
     "execution_count": 109,
     "metadata": {},
     "output_type": "execute_result"
    }
   ],
   "source": [
    "# area-under-receiver-operating-characteristic-curve of testing set\n",
    "bce"
   ]
  },
  {
   "cell_type": "markdown",
   "metadata": {},
   "source": [
    "# Model with Ensemble"
   ]
  },
  {
   "cell_type": "code",
   "execution_count": 110,
   "metadata": {},
   "outputs": [],
   "source": [
    "from pyspark.ml.classification import GBTClassifier"
   ]
  },
  {
   "cell_type": "code",
   "execution_count": 142,
   "metadata": {},
   "outputs": [],
   "source": [
    "# unite pipelines ( final features have to be named 'features')\n",
    "# unite pipelines\n",
    "final_pipeline2 = Pipeline(stages=[\n",
    "    #categ_pipeline,\n",
    "    numer_pipeline,\n",
    "    VectorAssembler(\n",
    "        # inputCols=[\"categ_features\",\"numer_features\"],\n",
    "        inputCols=[\"numer_features\"],\n",
    "        outputCol=\"features\"\n",
    "    ),\n",
    "    GBTClassifier(maxIter=10)\n",
    "])\n",
    "\n",
    "# pipelineModel = final_pipeline2.fit(training)"
   ]
  },
  {
   "cell_type": "code",
   "execution_count": 143,
   "metadata": {},
   "outputs": [],
   "source": [
    "# define parameters ( just one )\n",
    "paramGrid = ParamGridBuilder() \\\n",
    "    .addGrid(GBTClassifier.maxDepth, [3, 5]) \\\n",
    "    .addGrid(GBTClassifier.maxBins, [25, 36]) \\\n",
    "    .build()\n",
    "\n",
    "# optimize 4 fold cross-validation using the area under ROC curve\n",
    "crossval = CrossValidator(estimator=final_pipeline2,\n",
    "                          estimatorParamMaps=paramGrid,\n",
    "                          evaluator=BinaryClassificationEvaluator(labelCol='label',metricName='areaUnderROC'),\n",
    "                          numFolds=3) "
   ]
  },
  {
   "cell_type": "code",
   "execution_count": 144,
   "metadata": {},
   "outputs": [],
   "source": [
    "cvModel = crossval.fit(training)"
   ]
  },
  {
   "cell_type": "code",
   "execution_count": 145,
   "metadata": {},
   "outputs": [
    {
     "data": {
      "text/plain": [
       "[0.797242212487832, 0.797242212487832, 0.797242212487832, 0.797242212487832]"
      ]
     },
     "execution_count": 145,
     "metadata": {},
     "output_type": "execute_result"
    }
   ],
   "source": [
    "cvModel.avgMetrics"
   ]
  },
  {
   "cell_type": "markdown",
   "metadata": {},
   "source": [
    "# And again on full"
   ]
  },
  {
   "cell_type": "code",
   "execution_count": 168,
   "metadata": {},
   "outputs": [],
   "source": [
    "# unite pipelines ( final features have to be named 'features')\n",
    "# unite pipelines\n",
    "final_pipeline2 = Pipeline(stages=[\n",
    "    #categ_pipeline,\n",
    "    numer_pipeline,\n",
    "    VectorAssembler(\n",
    "        # inputCols=[\"categ_features\",\"numer_features\"],\n",
    "        inputCols=[\"numer_features\"],\n",
    "        outputCol=\"features\"\n",
    "    ),\n",
    "    GBTClassifier()\n",
    "])\n",
    "\n",
    "pipelineModel = final_pipeline2.fit(training)"
   ]
  },
  {
   "cell_type": "code",
   "execution_count": 169,
   "metadata": {},
   "outputs": [
    {
     "data": {
      "text/plain": [
       "[(0.088702360166918459, 'Add Friend'),\n",
       " (0.054165918938549364, 'Add to Playlist'),\n",
       " (0.011908185963478701, 'Error'),\n",
       " (0.019533266866470961, 'Help'),\n",
       " (0.057597619060936654, 'Logout'),\n",
       " (0.12903683493836027, 'Roll Advert'),\n",
       " (0.14117229230872444, 'Thumbs Down'),\n",
       " (0.029391583652030779, 'Thumbs Up'),\n",
       " (0.082393930627845835, 'avgSessionHours'),\n",
       " (0.16766440269160818, 'free'),\n",
       " (0.097531839174992141, 'paid'),\n",
       " (0.12090176561008406, 'registrationMonth')]"
      ]
     },
     "execution_count": 169,
     "metadata": {},
     "output_type": "execute_result"
    }
   ],
   "source": [
    "fi = [pipelineModel.stages[-1].featureImportances[n] for n in list(range(0,12))]\n",
    "[ t for t in zip(fi, numeric_cols)]"
   ]
  },
  {
   "cell_type": "code",
   "execution_count": 170,
   "metadata": {},
   "outputs": [],
   "source": [
    "# generate predictions\n",
    "predictions = pipelineModel.transform(testing)\n",
    "# intialize the evaluator\n",
    "bce = BinaryClassificationEvaluator(labelCol='label', metricName='areaUnderROC').evaluate(predictions)"
   ]
  },
  {
   "cell_type": "code",
   "execution_count": 171,
   "metadata": {},
   "outputs": [
    {
     "data": {
      "text/plain": [
       "0.8344827586206895"
      ]
     },
     "execution_count": 171,
     "metadata": {},
     "output_type": "execute_result"
    }
   ],
   "source": [
    "# area-under-receiver-operating-characteristic-curve of testing set\n",
    "bce"
   ]
  },
  {
   "cell_type": "markdown",
   "metadata": {},
   "source": [
    "# Results and Conclusion\n",
    "\n",
    "Splitting the user data into training and testing sets (60% and 40%, respectively) was sufficient. The final AUC was: \n",
    "* 0.76 for the training set \n",
    "* 0.75 for the testing set\n",
    "\n",
    "which is close enough together to suggest that under-fitting, and not over-fitting, was a possible issue. \n",
    "\n",
    "The odds-ratios showed that some features ( regarding user behavior ) were associated with an increased probability of 'churn' while others were associated with a _decreased_ probability of churn. Specifically: \n",
    "\n",
    "A _one_ unit increase of: \n",
    "* the number of advertisements\n",
    "* the number of 'thumbs down' \n",
    "* the average number of hours a session lasted\n",
    "\n",
    "_increased_ the probability of 'churning' by 1%\n",
    "\n",
    "whereas a _one_ unit increase of: \n",
    "* browser\n",
    "* os\n",
    "* gender\n",
    "* days as a 'paid' user\n",
    "\n",
    "_decreased_ the probability of 'churning' by 1%. In the case of the 'category' column type, the 'one unit increase' is really the act of moving from the base class to the next class. For example, moving from _Female_ (the base class) to _Male_ decreased the probability of 'churning.' This seems to indicate that _Females_ were more likely to 'churn.' \n",
    "\n",
    "Finally, a _one_ unit increase of: \n",
    "* days spent at the 'free' level\n",
    "\n",
    "_decreased_ the probability of 'churning' by _2%_\n",
    "\n",
    "The recommendation based on these findings is that Sparkify should investigate ways to: \n",
    "* keep the female audience engaged\n",
    "* encourage users to login everyday\n",
    "* limit the number of advertisements a user has to watch\n",
    "* decrease the number of 'thumbs down' that a user feels compelled to give\n",
    "\n",
    "Sparkify should also investigate if there are issues with the service via a particular Internet Browser or OS. \n",
    "\n",
    "Realistically, these recommendations have no weight until the accuracy / AUC can be increased. Thank you for reading!"
   ]
  },
  {
   "cell_type": "code",
   "execution_count": null,
   "metadata": {},
   "outputs": [],
   "source": []
  }
 ],
 "metadata": {
  "kernelspec": {
   "display_name": "Python 3",
   "language": "python",
   "name": "python3"
  },
  "language_info": {
   "codemirror_mode": {
    "name": "ipython",
    "version": 3
   },
   "file_extension": ".py",
   "mimetype": "text/x-python",
   "name": "python",
   "nbconvert_exporter": "python",
   "pygments_lexer": "ipython3",
   "version": "3.6.3"
  }
 },
 "nbformat": 4,
 "nbformat_minor": 5
}
