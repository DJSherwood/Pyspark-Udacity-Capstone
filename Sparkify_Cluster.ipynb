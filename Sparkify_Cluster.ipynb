{
 "cells": [
  {
   "cell_type": "markdown",
   "id": "42dd21c1",
   "metadata": {},
   "source": [
    "# Start Session"
   ]
  },
  {
   "cell_type": "code",
   "execution_count": 1,
   "id": "0ac6bef5",
   "metadata": {},
   "outputs": [
    {
     "data": {
      "application/vnd.jupyter.widget-view+json": {
       "model_id": "ccaf75b029724543a8fb8cc2aba16ef1",
       "version_major": 2,
       "version_minor": 0
      },
      "text/plain": [
       "VBox()"
      ]
     },
     "metadata": {},
     "output_type": "display_data"
    },
    {
     "name": "stdout",
     "output_type": "stream",
     "text": [
      "Starting Spark application\n"
     ]
    },
    {
     "data": {
      "text/html": [
       "<table>\n",
       "<tr><th>ID</th><th>YARN Application ID</th><th>Kind</th><th>State</th><th>Spark UI</th><th>Driver log</th><th>Current session?</th></tr><tr><td>1</td><td>application_1621607805467_0002</td><td>pyspark</td><td>idle</td><td><a target=\"_blank\" href=\"http://ip-172-31-47-25.us-east-2.compute.internal:20888/proxy/application_1621607805467_0002/\">Link</a></td><td><a target=\"_blank\" href=\"http://ip-172-31-33-50.us-east-2.compute.internal:8042/node/containerlogs/container_1621607805467_0002_01_000001/livy\">Link</a></td><td>✔</td></tr></table>"
      ],
      "text/plain": [
       "<IPython.core.display.HTML object>"
      ]
     },
     "metadata": {},
     "output_type": "display_data"
    },
    {
     "data": {
      "application/vnd.jupyter.widget-view+json": {
       "model_id": "",
       "version_major": 2,
       "version_minor": 0
      },
      "text/plain": [
       "FloatProgress(value=0.0, bar_style='info', description='Progress:', layout=Layout(height='25px', width='50%'),…"
      ]
     },
     "metadata": {},
     "output_type": "display_data"
    },
    {
     "name": "stdout",
     "output_type": "stream",
     "text": [
      "SparkSession available as 'spark'.\n"
     ]
    },
    {
     "data": {
      "application/vnd.jupyter.widget-view+json": {
       "model_id": "",
       "version_major": 2,
       "version_minor": 0
      },
      "text/plain": [
       "FloatProgress(value=0.0, bar_style='info', description='Progress:', layout=Layout(height='25px', width='50%'),…"
      ]
     },
     "metadata": {},
     "output_type": "display_data"
    }
   ],
   "source": [
    "# import libraries\n",
    "from pyspark.sql import SparkSession\n",
    "from pyspark.sql import functions as F\n",
    "from pyspark.sql.window import Window\n",
    "from pyspark.sql import types as t\n",
    "from pyspark.ml.classification import LogisticRegression\n",
    "from pyspark.ml.feature import Imputer, StringIndexer, VectorAssembler\n",
    "from pyspark.ml import Pipeline\n",
    "from pyspark.ml.tuning import CrossValidator, ParamGridBuilder\n",
    "from pyspark.ml.evaluation import BinaryClassificationEvaluator"
   ]
  },
  {
   "cell_type": "code",
   "execution_count": 2,
   "id": "aa91879a",
   "metadata": {},
   "outputs": [
    {
     "data": {
      "application/vnd.jupyter.widget-view+json": {
       "model_id": "2ad73912310b4cceb065b4b5972c1a3f",
       "version_major": 2,
       "version_minor": 0
      },
      "text/plain": [
       "VBox()"
      ]
     },
     "metadata": {},
     "output_type": "display_data"
    },
    {
     "data": {
      "application/vnd.jupyter.widget-view+json": {
       "model_id": "",
       "version_major": 2,
       "version_minor": 0
      },
      "text/plain": [
       "FloatProgress(value=0.0, bar_style='info', description='Progress:', layout=Layout(height='25px', width='50%'),…"
      ]
     },
     "metadata": {},
     "output_type": "display_data"
    }
   ],
   "source": [
    "# create a Spark session\n",
    "spark = SparkSession \\\n",
    "    .builder \\\n",
    "    .appName(\"sparkify\") \\\n",
    "    .getOrCreate()"
   ]
  },
  {
   "cell_type": "markdown",
   "id": "550e9261",
   "metadata": {},
   "source": [
    "# Load Data\n",
    "Here the entire set of 26 million rows is loaded. "
   ]
  },
  {
   "cell_type": "code",
   "execution_count": 3,
   "id": "1d6e467d",
   "metadata": {},
   "outputs": [
    {
     "data": {
      "application/vnd.jupyter.widget-view+json": {
       "model_id": "d7767a175ec748c7bf742e6b31f528e2",
       "version_major": 2,
       "version_minor": 0
      },
      "text/plain": [
       "VBox()"
      ]
     },
     "metadata": {},
     "output_type": "display_data"
    },
    {
     "data": {
      "application/vnd.jupyter.widget-view+json": {
       "model_id": "",
       "version_major": 2,
       "version_minor": 0
      },
      "text/plain": [
       "FloatProgress(value=0.0, bar_style='info', description='Progress:', layout=Layout(height='25px', width='50%'),…"
      ]
     },
     "metadata": {},
     "output_type": "display_data"
    }
   ],
   "source": [
    "# full dataset\n",
    "event_data = 's3n://udacity-dsnd/sparkify/sparkify_event_data.json'\n",
    "# mini dataset\n",
    "# evnent_data = s3n://udacity-dsnd/sparkify/mini_sparkify_event_data.json"
   ]
  },
  {
   "cell_type": "code",
   "execution_count": 4,
   "id": "a44c1429",
   "metadata": {},
   "outputs": [
    {
     "data": {
      "application/vnd.jupyter.widget-view+json": {
       "model_id": "fd8c08fd9ece4db99c072158c1d595c2",
       "version_major": 2,
       "version_minor": 0
      },
      "text/plain": [
       "VBox()"
      ]
     },
     "metadata": {},
     "output_type": "display_data"
    },
    {
     "data": {
      "application/vnd.jupyter.widget-view+json": {
       "model_id": "",
       "version_major": 2,
       "version_minor": 0
      },
      "text/plain": [
       "FloatProgress(value=0.0, bar_style='info', description='Progress:', layout=Layout(height='25px', width='50%'),…"
      ]
     },
     "metadata": {},
     "output_type": "display_data"
    }
   ],
   "source": [
    "df = spark.read.json(event_data)"
   ]
  },
  {
   "cell_type": "code",
   "execution_count": 5,
   "id": "865d3a41",
   "metadata": {},
   "outputs": [
    {
     "data": {
      "application/vnd.jupyter.widget-view+json": {
       "model_id": "afff26ac276145ec89af590ceb48b435",
       "version_major": 2,
       "version_minor": 0
      },
      "text/plain": [
       "VBox()"
      ]
     },
     "metadata": {},
     "output_type": "display_data"
    },
    {
     "data": {
      "application/vnd.jupyter.widget-view+json": {
       "model_id": "",
       "version_major": 2,
       "version_minor": 0
      },
      "text/plain": [
       "FloatProgress(value=0.0, bar_style='info', description='Progress:', layout=Layout(height='25px', width='50%'),…"
      ]
     },
     "metadata": {},
     "output_type": "display_data"
    },
    {
     "name": "stdout",
     "output_type": "stream",
     "text": [
      "root\n",
      " |-- artist: string (nullable = true)\n",
      " |-- auth: string (nullable = true)\n",
      " |-- firstName: string (nullable = true)\n",
      " |-- gender: string (nullable = true)\n",
      " |-- itemInSession: long (nullable = true)\n",
      " |-- lastName: string (nullable = true)\n",
      " |-- length: double (nullable = true)\n",
      " |-- level: string (nullable = true)\n",
      " |-- location: string (nullable = true)\n",
      " |-- method: string (nullable = true)\n",
      " |-- page: string (nullable = true)\n",
      " |-- registration: long (nullable = true)\n",
      " |-- sessionId: long (nullable = true)\n",
      " |-- song: string (nullable = true)\n",
      " |-- status: long (nullable = true)\n",
      " |-- ts: long (nullable = true)\n",
      " |-- userAgent: string (nullable = true)\n",
      " |-- userId: string (nullable = true)"
     ]
    }
   ],
   "source": [
    "df.printSchema()"
   ]
  },
  {
   "cell_type": "code",
   "execution_count": 6,
   "id": "630c9298",
   "metadata": {},
   "outputs": [
    {
     "data": {
      "application/vnd.jupyter.widget-view+json": {
       "model_id": "8f2c7d2901664c1f96fc80d9bc071a77",
       "version_major": 2,
       "version_minor": 0
      },
      "text/plain": [
       "VBox()"
      ]
     },
     "metadata": {},
     "output_type": "display_data"
    },
    {
     "data": {
      "application/vnd.jupyter.widget-view+json": {
       "model_id": "",
       "version_major": 2,
       "version_minor": 0
      },
      "text/plain": [
       "FloatProgress(value=0.0, bar_style='info', description='Progress:', layout=Layout(height='25px', width='50%'),…"
      ]
     },
     "metadata": {},
     "output_type": "display_data"
    },
    {
     "name": "stdout",
     "output_type": "stream",
     "text": [
      "(26255005, 18)"
     ]
    }
   ],
   "source": [
    "# the size of the dataset\n",
    "df = df.filter(df.auth != \"Guest\")\n",
    "print((df.count(), len(df.columns)))"
   ]
  },
  {
   "cell_type": "markdown",
   "id": "7165fee4",
   "metadata": {},
   "source": [
    "### How Many Nulls? "
   ]
  },
  {
   "cell_type": "code",
   "execution_count": 7,
   "id": "93dd02bb",
   "metadata": {},
   "outputs": [
    {
     "data": {
      "application/vnd.jupyter.widget-view+json": {
       "model_id": "9eb80150cd314fa4a13d964fd55d21b8",
       "version_major": 2,
       "version_minor": 0
      },
      "text/plain": [
       "VBox()"
      ]
     },
     "metadata": {},
     "output_type": "display_data"
    },
    {
     "data": {
      "application/vnd.jupyter.widget-view+json": {
       "model_id": "",
       "version_major": 2,
       "version_minor": 0
      },
      "text/plain": [
       "FloatProgress(value=0.0, bar_style='info', description='Progress:', layout=Layout(height='25px', width='50%'),…"
      ]
     },
     "metadata": {},
     "output_type": "display_data"
    },
    {
     "name": "stdout",
     "output_type": "stream",
     "text": [
      "-RECORD 0---------------------------\n",
      " artist        | 25.921642652911192 \n",
      " auth          | 0.0                \n",
      " firstName     | 3.038709267242056  \n",
      " gender        | 3.038709267242056  \n",
      " itemInSession | 0.0                \n",
      " lastName      | 3.038709267242056  \n",
      " length        | 25.921642652911192 \n",
      " level         | 0.0                \n",
      " location      | 3.038709267242056  \n",
      " method        | 0.0                \n",
      " page          | 0.0                \n",
      " registration  | 3.038709267242056  \n",
      " sessionId     | 0.0                \n",
      " song          | 25.921642652911192 \n",
      " status        | 0.0                \n",
      " ts            | 0.0                \n",
      " userAgent     | 3.038709267242056  \n",
      " userId        | 0.0"
     ]
    }
   ],
   "source": [
    "# show percent nulls\n",
    "# because 'artist','length','song' have so many missing values I will not use them\n",
    "df.select(\n",
    "    [\n",
    "        ( (F.count(F.when(F.isnull(c), c)) / F.count(c)) * 100 ) \\\n",
    "            .alias(c) for c in df.columns\n",
    "    ]\n",
    ").show(vertical=True)"
   ]
  },
  {
   "cell_type": "markdown",
   "id": "d4a5101a",
   "metadata": {},
   "source": [
    "### Define Churn\n",
    "`Churn` is defined as when the app registers the `Cancellation Confirmation` page. This occurs for both free and paid users. "
   ]
  },
  {
   "cell_type": "code",
   "execution_count": 8,
   "id": "37dc6c67",
   "metadata": {},
   "outputs": [
    {
     "data": {
      "application/vnd.jupyter.widget-view+json": {
       "model_id": "0766ffbc64034c70af60f943f07c561e",
       "version_major": 2,
       "version_minor": 0
      },
      "text/plain": [
       "VBox()"
      ]
     },
     "metadata": {},
     "output_type": "display_data"
    },
    {
     "data": {
      "application/vnd.jupyter.widget-view+json": {
       "model_id": "",
       "version_major": 2,
       "version_minor": 0
      },
      "text/plain": [
       "FloatProgress(value=0.0, bar_style='info', description='Progress:', layout=Layout(height='25px', width='50%'),…"
      ]
     },
     "metadata": {},
     "output_type": "display_data"
    }
   ],
   "source": [
    "# this is a binary, indicator column to be used to predict churn\n",
    "df = df.withColumn(\n",
    "    'churn',\n",
    "    F.when((F.col('page') =='Cancellation Confirmation'), 1) \\\n",
    "    .otherwise(0)\n",
    ")"
   ]
  },
  {
   "cell_type": "markdown",
   "id": "30e295e5",
   "metadata": {},
   "source": [
    "# Explore Ratios of Churn"
   ]
  },
  {
   "cell_type": "code",
   "execution_count": 9,
   "id": "8617e8d0",
   "metadata": {},
   "outputs": [
    {
     "data": {
      "application/vnd.jupyter.widget-view+json": {
       "model_id": "bb135fe4f4dc4bf9afa864a03a571195",
       "version_major": 2,
       "version_minor": 0
      },
      "text/plain": [
       "VBox()"
      ]
     },
     "metadata": {},
     "output_type": "display_data"
    },
    {
     "data": {
      "application/vnd.jupyter.widget-view+json": {
       "model_id": "",
       "version_major": 2,
       "version_minor": 0
      },
      "text/plain": [
       "FloatProgress(value=0.0, bar_style='info', description='Progress:', layout=Layout(height='25px', width='50%'),…"
      ]
     },
     "metadata": {},
     "output_type": "display_data"
    },
    {
     "name": "stdout",
     "output_type": "stream",
     "text": [
      "(5003, 22278, 18.338770572926215)"
     ]
    }
   ],
   "source": [
    "# users who have a cancellation value of 1\n",
    "users_who_quit = df.filter(df.churn==1) \\\n",
    "    .select(df.userId) \\\n",
    "    .dropDuplicates()\n",
    "\n",
    "# users who have a cancellation value of 0\n",
    "users_who_stayed = df.filter(df.churn==0) \\\n",
    "    .select(df.userId) \\\n",
    "    .dropDuplicates()\n",
    "\n",
    "# examine their lengths\n",
    "users_who_quit.count(), users_who_stayed.count(), ( users_who_quit.count() / (users_who_quit.count() + users_who_stayed.count())) * 100"
   ]
  },
  {
   "cell_type": "code",
   "execution_count": 10,
   "id": "10e4b12c",
   "metadata": {},
   "outputs": [
    {
     "data": {
      "application/vnd.jupyter.widget-view+json": {
       "model_id": "4921b233aedf4cacbe52bb5a06d3c21d",
       "version_major": 2,
       "version_minor": 0
      },
      "text/plain": [
       "VBox()"
      ]
     },
     "metadata": {},
     "output_type": "display_data"
    },
    {
     "data": {
      "application/vnd.jupyter.widget-view+json": {
       "model_id": "",
       "version_major": 2,
       "version_minor": 0
      },
      "text/plain": [
       "FloatProgress(value=0.0, bar_style='info', description='Progress:', layout=Layout(height='25px', width='50%'),…"
      ]
     },
     "metadata": {},
     "output_type": "display_data"
    },
    {
     "name": "stdout",
     "output_type": "stream",
     "text": [
      "+-----+-----+----------+\n",
      "|level|churn|user_count|\n",
      "+-----+-----+----------+\n",
      "| paid|    0|     16185|\n",
      "| free|    0|     18793|\n",
      "| paid|    1|      3424|\n",
      "| free|    1|      1579|\n",
      "+-----+-----+----------+"
     ]
    }
   ],
   "source": [
    "# are cancellation rates the same between free and paid users? \n",
    "churn_table = df.select(\"level\",\"churn\",\"userId\") \\\n",
    "    .dropDuplicates() \\\n",
    "    .groupBy(F.col('level'),F.col('churn')) \\\n",
    "    .count() \\\n",
    "    .withColumnRenamed('count','user_count')\n",
    "\n",
    "churn_table.show()"
   ]
  },
  {
   "cell_type": "code",
   "execution_count": 11,
   "id": "17d43a32",
   "metadata": {},
   "outputs": [
    {
     "data": {
      "application/vnd.jupyter.widget-view+json": {
       "model_id": "19ea6ee5853b456e98a10987c7e293e4",
       "version_major": 2,
       "version_minor": 0
      },
      "text/plain": [
       "VBox()"
      ]
     },
     "metadata": {},
     "output_type": "display_data"
    },
    {
     "data": {
      "application/vnd.jupyter.widget-view+json": {
       "model_id": "",
       "version_major": 2,
       "version_minor": 0
      },
      "text/plain": [
       "FloatProgress(value=0.0, bar_style='info', description='Progress:', layout=Layout(height='25px', width='50%'),…"
      ]
     },
     "metadata": {},
     "output_type": "display_data"
    },
    {
     "name": "stdout",
     "output_type": "stream",
     "text": [
      "(17.461369779183027, 7.75083447869625)"
     ]
    }
   ],
   "source": [
    "# 17% of paid and 8% of free users churned\n",
    "( 3424 / ( 16185 + 3424)) * 100, ( 1579 / ( 18793 + 1579)) * 100"
   ]
  },
  {
   "cell_type": "code",
   "execution_count": 12,
   "id": "2546d35c",
   "metadata": {},
   "outputs": [
    {
     "data": {
      "application/vnd.jupyter.widget-view+json": {
       "model_id": "bf921aa97528443d9b56b7e950a4c3a5",
       "version_major": 2,
       "version_minor": 0
      },
      "text/plain": [
       "VBox()"
      ]
     },
     "metadata": {},
     "output_type": "display_data"
    },
    {
     "data": {
      "application/vnd.jupyter.widget-view+json": {
       "model_id": "",
       "version_major": 2,
       "version_minor": 0
      },
      "text/plain": [
       "FloatProgress(value=0.0, bar_style='info', description='Progress:', layout=Layout(height='25px', width='50%'),…"
      ]
     },
     "metadata": {},
     "output_type": "display_data"
    },
    {
     "name": "stdout",
     "output_type": "stream",
     "text": [
      "+------+-----+----------+\n",
      "|gender|churn|user_count|\n",
      "+------+-----+----------+\n",
      "|     M|    1|      2656|\n",
      "|     M|    0|     11651|\n",
      "|     F|    0|     10626|\n",
      "|  null|    0|         1|\n",
      "|     F|    1|      2347|\n",
      "+------+-----+----------+"
     ]
    }
   ],
   "source": [
    "# are cancellation rates the same between genders? \n",
    "churn_table = df.select(\"gender\",\"churn\",\"userId\") \\\n",
    "    .dropDuplicates() \\\n",
    "    .groupBy(F.col('gender'),F.col('churn')) \\\n",
    "    .count() \\\n",
    "    .withColumnRenamed('count','user_count')\n",
    "\n",
    "churn_table.show()"
   ]
  },
  {
   "cell_type": "markdown",
   "id": "6fd93b75",
   "metadata": {},
   "source": [
    "# Feature Engineering\n",
    "The goal is to predict behavior at the user level--specifically if the user 'churns' or not. Therefore, my feature engineering focuses on finding characteristics at the `user` level. For each feature, I create a dataframe with the `userId` as the key. The dataframes are joined together, ensuring that one row eqauls one unique `userId`. Finally, the `userId` column is dropped. \n",
    "\n",
    "Ideas for features are: \n",
    "1. Cumulative Totals Per User: \n",
    "    - Add Friends\n",
    "    - Add to Playlist\n",
    "    - Roll Advertisement\n",
    "    - Error\n",
    "    - Login / Logout\n",
    "    - Thumbs Up / Thumbs Down\n",
    "    - Submit Upgrade / Submit Downgrade\n",
    "\n",
    "2. Location: \n",
    "    - City\n",
    "    - State\n",
    "    \n",
    "3. userAgent: \n",
    "    - browser\n",
    "    - os \n",
    "    - brand\n",
    "    \n",
    "4. Time: \n",
    "    - Avg. Length of Session\n",
    "    - Time Spent as Free / Paid Level\n",
    "    - Time User spent on Sparkify\n",
    "    \n",
    "5. Gender of User"
   ]
  },
  {
   "cell_type": "markdown",
   "id": "307af3f0",
   "metadata": {},
   "source": [
    "### 1. Cumulative Totals DataFrame"
   ]
  },
  {
   "cell_type": "code",
   "execution_count": 13,
   "id": "28b5173d",
   "metadata": {},
   "outputs": [
    {
     "data": {
      "application/vnd.jupyter.widget-view+json": {
       "model_id": "f08c619914ad4655b563ad093f1c364d",
       "version_major": 2,
       "version_minor": 0
      },
      "text/plain": [
       "VBox()"
      ]
     },
     "metadata": {},
     "output_type": "display_data"
    },
    {
     "data": {
      "application/vnd.jupyter.widget-view+json": {
       "model_id": "",
       "version_major": 2,
       "version_minor": 0
      },
      "text/plain": [
       "FloatProgress(value=0.0, bar_style='info', description='Progress:', layout=Layout(height='25px', width='50%'),…"
      ]
     },
     "metadata": {},
     "output_type": "display_data"
    },
    {
     "name": "stdout",
     "output_type": "stream",
     "text": [
      "+-------+----------+---------------+-----+----+------+-----------+-----------+---------+\n",
      "| userId|Add Friend|Add to Playlist|Error|Help|Logout|Roll Advert|Thumbs Down|Thumbs Up|\n",
      "+-------+----------+---------------+-----+----+------+-----------+-----------+---------+\n",
      "|1114507|        19|             13| null|   6|    17|         13|         11|       47|\n",
      "|1390009|         3|              5|    1|null|  null|       null|          2|       15|\n",
      "|1440693|         4|              9| null|   1|     3|         25|          2|       19|\n",
      "|1507765|         4|              8| null|   3|     5|       null|          2|       27|\n",
      "|1624220|        10|             14|    1|   6|    10|         16|          4|       27|\n",
      "|1829495|         7|             12| null|   1|     2|          6|          2|       16|\n",
      "|1380035|        35|             55| null|  14|    25|          9|         27|      181|\n",
      "|1337238|         4|              5| null|   2|     3|         24|          5|       17|\n",
      "|1816626|         2|              6| null|null|     2|       null|          2|       11|\n",
      "|1883991|        18|             46|    1|   5|    21|         11|         13|       70|\n",
      "|1297189|         3|             11| null|   2|     4|          2|         14|       28|\n",
      "|1925919|      null|              4| null|null|  null|          5|       null|     null|\n",
      "|1823263|      null|              3| null|null|  null|          2|          1|        3|\n",
      "|1193157|        33|             84|    5|  17|    38|         20|         30|      122|\n",
      "|1008404|        88|            152|    5|  27|    61|         54|         37|      249|\n",
      "|1121384|      null|           null| null|null|     1|          1|       null|     null|\n",
      "|1553256|        12|             13| null|   3|     7|          5|          7|       37|\n",
      "|1550967|        21|             36|    2|   5|    14|         34|          9|       62|\n",
      "|1098306|        43|             75|    4|  15|    34|         58|         30|      115|\n",
      "|1028956|         5|             13|    1|   2|     9|         77|          4|       29|\n",
      "+-------+----------+---------------+-----+----+------+-----------+-----------+---------+\n",
      "only showing top 20 rows"
     ]
    }
   ],
   "source": [
    "# Cumulative Totals of Page Per User\n",
    "page_list = [\"Add Friend\", \"Add to Playlist\", \"Logout\", \"Thumbs Up\", \n",
    "             \"Thumbs Down\", \"Error\", \"Roll Advert\", \"Help\"]\n",
    "\n",
    "user_page = df.select(\"userId\",\"page\") \\\n",
    "    .filter(F.col(\"page\").isin(page_list)) \\\n",
    "    .groupBy(\"userId\") \\\n",
    "    .pivot(\"page\") \\\n",
    "    .agg(F.count(\"page\").alias(\"page_count\"))\n",
    "\n",
    "user_page.show()"
   ]
  },
  {
   "cell_type": "markdown",
   "id": "bf7933d3",
   "metadata": {},
   "source": [
    "### 2. Location DataFrame"
   ]
  },
  {
   "cell_type": "code",
   "execution_count": 14,
   "id": "8e5ebd45",
   "metadata": {},
   "outputs": [
    {
     "data": {
      "application/vnd.jupyter.widget-view+json": {
       "model_id": "5474b695cbd04441a7bc011f337d0eaf",
       "version_major": 2,
       "version_minor": 0
      },
      "text/plain": [
       "VBox()"
      ]
     },
     "metadata": {},
     "output_type": "display_data"
    },
    {
     "data": {
      "application/vnd.jupyter.widget-view+json": {
       "model_id": "",
       "version_major": 2,
       "version_minor": 0
      },
      "text/plain": [
       "FloatProgress(value=0.0, bar_style='info', description='Progress:', layout=Layout(height='25px', width='50%'),…"
      ]
     },
     "metadata": {},
     "output_type": "display_data"
    },
    {
     "name": "stdout",
     "output_type": "stream",
     "text": [
      "+-------+--------------------+---------+\n",
      "| userId|                city|    state|\n",
      "+-------+--------------------+---------+\n",
      "|1717762|North Port-Saraso...|       FL|\n",
      "|1585384|Seattle-Tacoma-Be...|       WA|\n",
      "|1376912|Los Angeles-Long ...|       CA|\n",
      "|1268300|San Antonio-New B...|       TX|\n",
      "|1466490|Seattle-Tacoma-Be...|       WA|\n",
      "|1855442|New York-Newark-J...| NY-NJ-PA|\n",
      "|1267740|         Tallahassee|       FL|\n",
      "|1379500|  Ogdensburg-Massena|       NY|\n",
      "|1608368|Seattle-Tacoma-Be...|       WA|\n",
      "|1303002|        Williamsport|       PA|\n",
      "|1005928|         Baton Rouge|       LA|\n",
      "|1343204|       Oklahoma City|       OK|\n",
      "|1626875|  Vineland-Bridgeton|       NJ|\n",
      "|1804024|Los Angeles-Long ...|       CA|\n",
      "|1571170|Boston-Cambridge-...|    MA-NH|\n",
      "|1651815|              Albany|       OR|\n",
      "|1672579|San Francisco-Oak...|       CA|\n",
      "|1612851|             El Paso|       TX|\n",
      "|1015368|Dallas-Fort Worth...|       TX|\n",
      "|1230631|       Coeur d'Alene|       ID|\n",
      "+-------+--------------------+---------+\n",
      "only showing top 20 rows"
     ]
    }
   ],
   "source": [
    "# split the 'location' field into 'city' and 'state fields'\n",
    "user_location = df.withColumn('city', F.split(df['location'], ',').getItem(0)) \\\n",
    "    .withColumn('state', F.split(df['location'], ',').getItem(1)) \\\n",
    "    .select(\"userId\",\"city\",\"state\") \\\n",
    "    .dropDuplicates()\n",
    "\n",
    "user_location.show()"
   ]
  },
  {
   "cell_type": "markdown",
   "id": "41db9b9e",
   "metadata": {},
   "source": [
    "### 3. Browser/Device DataFrame"
   ]
  },
  {
   "cell_type": "code",
   "execution_count": 15,
   "id": "9f5d502b",
   "metadata": {},
   "outputs": [
    {
     "data": {
      "application/vnd.jupyter.widget-view+json": {
       "model_id": "6b0d7cd5a7c444b4b32c347cf57ef353",
       "version_major": 2,
       "version_minor": 0
      },
      "text/plain": [
       "VBox()"
      ]
     },
     "metadata": {},
     "output_type": "display_data"
    },
    {
     "data": {
      "application/vnd.jupyter.widget-view+json": {
       "model_id": "",
       "version_major": 2,
       "version_minor": 0
      },
      "text/plain": [
       "FloatProgress(value=0.0, bar_style='info', description='Progress:', layout=Layout(height='25px', width='50%'),…"
      ]
     },
     "metadata": {},
     "output_type": "display_data"
    },
    {
     "name": "stdout",
     "output_type": "stream",
     "text": [
      "+-------+-------------+--------------------+--------------------+\n",
      "| userId|      browser|                  os|               brand|\n",
      "+-------+-------------+--------------------+--------------------+\n",
      "|1697168| Mozilla/5.0 |           Macintosh| Intel Mac OS X 10.9|\n",
      "|1519390|\"Mozilla/5.0 |           Macintosh| Intel Mac OS X 1...|\n",
      "|1086394|\"Mozilla/5.0 |           Macintosh| Intel Mac OS X 1...|\n",
      "|1767318|\"Mozilla/5.0 |           Macintosh| Intel Mac OS X 1...|\n",
      "|1950440|\"Mozilla/5.0 |           Macintosh| Intel Mac OS X 1...|\n",
      "|1794598|\"Mozilla/5.0 |           Macintosh| Intel Mac OS X 1...|\n",
      "|1361533|\"Mozilla/5.0 |           Macintosh| Intel Mac OS X 1...|\n",
      "|1930998| Mozilla/5.0 |          compatible|           MSIE 10.0|\n",
      "|1171472|\"Mozilla/5.0 |           Macintosh| Intel Mac OS X 1...|\n",
      "|1869054|\"Mozilla/5.0 |              iPhone| CPU iPhone OS 7_...|\n",
      "|1617611| Mozilla/5.0 |          compatible|            MSIE 9.0|\n",
      "|1391043|\"Mozilla/5.0 |           Macintosh| Intel Mac OS X 1...|\n",
      "|1556745|\"Mozilla/5.0 |           Macintosh| Intel Mac OS X 1...|\n",
      "|1400761|\"Mozilla/5.0 |           Macintosh| Intel Mac OS X 1...|\n",
      "|1341525|\"Mozilla/5.0 |           Macintosh| Intel Mac OS X 1...|\n",
      "|1008619|\"Mozilla/5.0 |      Windows NT 6.3| WOW64) AppleWebK...|\n",
      "|1572943|\"Mozilla/5.0 |           Macintosh| Intel Mac OS X 1...|\n",
      "|1407099|\"Mozilla/5.0 |           Macintosh| Intel Mac OS X 1...|\n",
      "|1272059|\"Mozilla/5.0 |Windows NT 5.1) A...|                null|\n",
      "|1369286|\"Mozilla/5.0 |           Macintosh| Intel Mac OS X 1...|\n",
      "+-------+-------------+--------------------+--------------------+\n",
      "only showing top 20 rows"
     ]
    }
   ],
   "source": [
    "# create browser, os, brand from userAgent\n",
    "df = df.withColumn('browser', F.split(df['userAgent'], '\\(').getItem(0)) \\\n",
    "    .withColumn('temp', F.split(df['userAgent'], '\\(').getItem(1)) \n",
    "\n",
    "df = df.withColumn('os', F.split(df['temp'], ';').getItem(0)) \\\n",
    "    .withColumn('brand', F.split(df['temp'], ';').getItem(1))\n",
    "\n",
    "user_browser = df.select(\"userId\",\"browser\",\"os\",\"brand\").dropDuplicates()\n",
    "\n",
    "user_browser.show()"
   ]
  },
  {
   "cell_type": "markdown",
   "id": "91a73cc4",
   "metadata": {},
   "source": [
    "### 4. Time DataFrames"
   ]
  },
  {
   "cell_type": "code",
   "execution_count": 16,
   "id": "49aaf668",
   "metadata": {},
   "outputs": [
    {
     "data": {
      "application/vnd.jupyter.widget-view+json": {
       "model_id": "b2f312b3b76a4079bb4dcd2d044dab93",
       "version_major": 2,
       "version_minor": 0
      },
      "text/plain": [
       "VBox()"
      ]
     },
     "metadata": {},
     "output_type": "display_data"
    },
    {
     "data": {
      "application/vnd.jupyter.widget-view+json": {
       "model_id": "",
       "version_major": 2,
       "version_minor": 0
      },
      "text/plain": [
       "FloatProgress(value=0.0, bar_style='info', description='Progress:', layout=Layout(height='25px', width='50%'),…"
      ]
     },
     "metadata": {},
     "output_type": "display_data"
    },
    {
     "name": "stdout",
     "output_type": "stream",
     "text": [
      "+-------+---------------+\n",
      "| userId|avgSessionHours|\n",
      "+-------+---------------+\n",
      "|1076191|            1.4|\n",
      "|1142513|            3.3|\n",
      "|1271218|            6.9|\n",
      "|1380035|            5.5|\n",
      "|1396135|            7.6|\n",
      "|1472901|            2.0|\n",
      "|1492713|            1.8|\n",
      "|1567623|            5.0|\n",
      "|1624220|            1.8|\n",
      "|1097545|            2.4|\n",
      "|1216358|            2.1|\n",
      "|1242455|            6.9|\n",
      "|1367666|            8.8|\n",
      "|1766909|            2.1|\n",
      "|1816626|            4.9|\n",
      "|1883991|            7.6|\n",
      "|1927014|            5.7|\n",
      "|1004316|            4.6|\n",
      "|1008404|            6.5|\n",
      "|1133319|            4.4|\n",
      "+-------+---------------+\n",
      "only showing top 20 rows"
     ]
    }
   ],
   "source": [
    "# create window partition\n",
    "w = Window.partitionBy(\"userId\",\"sessionId\").orderBy(\"sessionId\")\n",
    "# calculate session duration ( per user ) in HOURS\n",
    "user_sess_dur = df.select(\"userId\",\"sessionId\",\"ts\") \\\n",
    "    .withColumn(\"max_ts\", F.max('ts').over(w)) \\\n",
    "    .withColumn(\"min_ts\", F.min('ts').over(w)) \\\n",
    "    .withColumn(\"tsDiff\", ( F.col('max_ts') - F.col('min_ts')) / ( 1000 * 3600 )) \\\n",
    "    .select(\"userId\",\"sessionId\",\"tsDiff\") \\\n",
    "    .dropDuplicates() \\\n",
    "    .groupBy(\"userId\") \\\n",
    "    .agg(F.round(F.avg(\"tsDiff\"),1).alias(\"avgSessionHours\"))\n",
    "\n",
    "user_sess_dur.show()"
   ]
  },
  {
   "cell_type": "code",
   "execution_count": 17,
   "id": "d964a02f",
   "metadata": {},
   "outputs": [
    {
     "data": {
      "application/vnd.jupyter.widget-view+json": {
       "model_id": "40b6105fafa544a89a648e36c10a4a88",
       "version_major": 2,
       "version_minor": 0
      },
      "text/plain": [
       "VBox()"
      ]
     },
     "metadata": {},
     "output_type": "display_data"
    },
    {
     "data": {
      "application/vnd.jupyter.widget-view+json": {
       "model_id": "",
       "version_major": 2,
       "version_minor": 0
      },
      "text/plain": [
       "FloatProgress(value=0.0, bar_style='info', description='Progress:', layout=Layout(height='25px', width='50%'),…"
      ]
     },
     "metadata": {},
     "output_type": "display_data"
    },
    {
     "name": "stdout",
     "output_type": "stream",
     "text": [
      "+-------+--------+\n",
      "| userId|daysUsed|\n",
      "+-------+--------+\n",
      "|1001393|    58.6|\n",
      "|1002143|    57.2|\n",
      "|1002493|     8.4|\n",
      "|1002749|    55.9|\n",
      "|1004060|    48.0|\n",
      "|1004316|    53.2|\n",
      "|1006033|    45.2|\n",
      "|1006411|    59.5|\n",
      "|1006697|    50.9|\n",
      "|1008110|    38.1|\n",
      "|1008244|     3.3|\n",
      "|1008404|    39.0|\n",
      "|1010669|    60.0|\n",
      "|1010907|    49.2|\n",
      "|1011093|    57.7|\n",
      "|1011149|    50.2|\n",
      "|1011630|    31.3|\n",
      "|1012906|    10.0|\n",
      "|1013788|    37.6|\n",
      "|1016331|    23.5|\n",
      "+-------+--------+\n",
      "only showing top 20 rows"
     ]
    }
   ],
   "source": [
    "# create window partition\n",
    "w = Window.partitionBy(\"userId\").orderBy(\"userId\")\n",
    "# calculate total time used\n",
    "user_days = df.select(\"userId\",\"ts\") \\\n",
    "    .withColumn(\"max_ts\", F.max('ts').over(w)) \\\n",
    "    .withColumn(\"min_ts\", F.min('ts').over(w)) \\\n",
    "    .withColumn(\"daysUsed\", F.round(( F.col('max_ts') - F.col('min_ts') ) / ( 1000 * 3600 * 24), 1)) \\\n",
    "    .select(\"userId\", \"daysUsed\") \\\n",
    "    .dropDuplicates()\n",
    "\n",
    "user_days.show()"
   ]
  },
  {
   "cell_type": "code",
   "execution_count": 18,
   "id": "decf0a3e",
   "metadata": {},
   "outputs": [
    {
     "data": {
      "application/vnd.jupyter.widget-view+json": {
       "model_id": "bdbb640fc675469589cd5931d9d18c07",
       "version_major": 2,
       "version_minor": 0
      },
      "text/plain": [
       "VBox()"
      ]
     },
     "metadata": {},
     "output_type": "display_data"
    },
    {
     "data": {
      "application/vnd.jupyter.widget-view+json": {
       "model_id": "",
       "version_major": 2,
       "version_minor": 0
      },
      "text/plain": [
       "FloatProgress(value=0.0, bar_style='info', description='Progress:', layout=Layout(height='25px', width='50%'),…"
      ]
     },
     "metadata": {},
     "output_type": "display_data"
    },
    {
     "name": "stdout",
     "output_type": "stream",
     "text": [
      "+-------+----+----+\n",
      "| userId|free|paid|\n",
      "+-------+----+----+\n",
      "|1076191| 7.9|null|\n",
      "|1114507|15.8|43.9|\n",
      "|1271218|44.2|53.4|\n",
      "|1695825| 0.0|null|\n",
      "|1216358|32.9|10.3|\n",
      "|1337238|56.1|null|\n",
      "|1823263|33.8|null|\n",
      "|1553256| 5.5|31.1|\n",
      "|1754369|36.5| 9.0|\n",
      "|1844759| 0.0|56.6|\n",
      "|1857514|46.0|11.5|\n",
      "|1416126|24.9|33.1|\n",
      "|1877212| 0.2|60.0|\n",
      "|1303829|39.1|null|\n",
      "|1460896|56.3|32.9|\n",
      "|1558241|52.6| 5.7|\n",
      "|1616882|12.5| 4.6|\n",
      "|1269506| 0.0| 0.3|\n",
      "|1479463| 5.5|41.8|\n",
      "|1011093|57.7|29.7|\n",
      "+-------+----+----+\n",
      "only showing top 20 rows"
     ]
    }
   ],
   "source": [
    "# create window partition\n",
    "w = Window.partitionBy(\"userId\", \"level\").orderBy(\"userId\")\n",
    "\n",
    "user_level = df.select(\"userId\", \"level\", \"ts\") \\\n",
    "    .withColumn(\"max_ts\", F.max(\"ts\").over(w)) \\\n",
    "    .withColumn(\"min_ts\", F.min(\"ts\").over(w)) \\\n",
    "    .withColumn(\"daysAs\", (F.col(\"max_ts\") - F.col(\"min_ts\")) / (1000 * 3600 * 24)) \\\n",
    "    .select(\"userId\",\"level\",\"daysAs\") \\\n",
    "    .dropDuplicates() \\\n",
    "    .groupBy(\"userId\") \\\n",
    "    .pivot(\"level\") \\\n",
    "    .agg(F.round(F.avg(\"daysAs\"),1))\n",
    "\n",
    "user_level.show()"
   ]
  },
  {
   "cell_type": "markdown",
   "id": "ee226f56",
   "metadata": {},
   "source": [
    "### 5. Gender and Churn DataFrame"
   ]
  },
  {
   "cell_type": "code",
   "execution_count": 19,
   "id": "6484b30e",
   "metadata": {},
   "outputs": [
    {
     "data": {
      "application/vnd.jupyter.widget-view+json": {
       "model_id": "3f7e0e9bc7b34a78b43ccfae68f265ca",
       "version_major": 2,
       "version_minor": 0
      },
      "text/plain": [
       "VBox()"
      ]
     },
     "metadata": {},
     "output_type": "display_data"
    },
    {
     "data": {
      "application/vnd.jupyter.widget-view+json": {
       "model_id": "",
       "version_major": 2,
       "version_minor": 0
      },
      "text/plain": [
       "FloatProgress(value=0.0, bar_style='info', description='Progress:', layout=Layout(height='25px', width='50%'),…"
      ]
     },
     "metadata": {},
     "output_type": "display_data"
    },
    {
     "name": "stdout",
     "output_type": "stream",
     "text": [
      "+-------+------+-----+\n",
      "| userId|gender|label|\n",
      "+-------+------+-----+\n",
      "|1304259|     F|    0|\n",
      "|1053226|     M|    0|\n",
      "|1390064|     M|    0|\n",
      "|1590560|     M|    0|\n",
      "|1068767|     M|    0|\n",
      "|1629144|     F|    0|\n",
      "|1564892|     F|    0|\n",
      "|1383619|     F|    0|\n",
      "|1531101|     M|    0|\n",
      "|1068404|     M|    0|\n",
      "|1560520|     M|    0|\n",
      "|1031726|     F|    0|\n",
      "|1504984|     M|    0|\n",
      "|1186591|     F|    0|\n",
      "|1698484|     M|    0|\n",
      "|1646934|     M|    0|\n",
      "|1186016|     F|    0|\n",
      "|1749437|     F|    0|\n",
      "|1168321|     F|    0|\n",
      "|1767969|     F|    0|\n",
      "+-------+------+-----+\n",
      "only showing top 20 rows"
     ]
    }
   ],
   "source": [
    "# create churn table\n",
    "user_churn = df.select(\"userId\", \"gender\",\"churn\") \\\n",
    "    .withColumnRenamed(\"churn\",\"label\") \\\n",
    "    .dropDuplicates()\n",
    "\n",
    "user_churn.show()"
   ]
  },
  {
   "cell_type": "markdown",
   "id": "dedcf8e7",
   "metadata": {},
   "source": [
    "### Join DataFrames"
   ]
  },
  {
   "cell_type": "code",
   "execution_count": 40,
   "id": "8588961b",
   "metadata": {},
   "outputs": [
    {
     "data": {
      "application/vnd.jupyter.widget-view+json": {
       "model_id": "060b25e2d349475a812a2974470bee78",
       "version_major": 2,
       "version_minor": 0
      },
      "text/plain": [
       "VBox()"
      ]
     },
     "metadata": {},
     "output_type": "display_data"
    },
    {
     "data": {
      "application/vnd.jupyter.widget-view+json": {
       "model_id": "",
       "version_major": 2,
       "version_minor": 0
      },
      "text/plain": [
       "FloatProgress(value=0.0, bar_style='info', description='Progress:', layout=Layout(height='25px', width='50%'),…"
      ]
     },
     "metadata": {},
     "output_type": "display_data"
    },
    {
     "name": "stdout",
     "output_type": "stream",
     "text": [
      "-RECORD 0-------------------------------\n",
      " gender          | M                    \n",
      " label           | 0                    \n",
      " Add Friend      | 11                   \n",
      " Add to Playlist | 18                   \n",
      " Error           | 1                    \n",
      " Help            | 6                    \n",
      " Logout          | 11                   \n",
      " Roll Advert     | null                 \n",
      " Thumbs Down     | 6                    \n",
      " Thumbs Up       | 43                   \n",
      " browser         | \"Mozilla/5.0         \n",
      " os              | Windows NT 5.1) A... \n",
      " brand           | null                 \n",
      " avgSessionHours | 5.2                  \n",
      " free            | 0.1                  \n",
      " paid            | 58.5                 \n",
      "only showing top 1 row"
     ]
    }
   ],
   "source": [
    "# 'user_location' and 'user_days' are not used. \n",
    "# 'user_location' does not describe user behavior\n",
    "# 'user_days' is the sum of 'free' and 'paid' in 'user_level' so could be a confounder\n",
    "# join all the tables together\n",
    "user_data = user_churn.join(user_page, ['userId'], \"left\") \\\n",
    "    .join(user_browser,['userId'], \"left\") \\\n",
    "    .join(user_sess_dur, ['userId'], \"left\") \\\n",
    "    .join(user_level, ['userId'], \"left\") \\\n",
    "    .drop(\"userId\")\n",
    "\n",
    "user_data.show(1, vertical=True)"
   ]
  },
  {
   "cell_type": "code",
   "execution_count": 41,
   "id": "65f621db",
   "metadata": {},
   "outputs": [
    {
     "data": {
      "application/vnd.jupyter.widget-view+json": {
       "model_id": "795618ac5cb54bab8b627d911f90a0de",
       "version_major": 2,
       "version_minor": 0
      },
      "text/plain": [
       "VBox()"
      ]
     },
     "metadata": {},
     "output_type": "display_data"
    },
    {
     "data": {
      "application/vnd.jupyter.widget-view+json": {
       "model_id": "",
       "version_major": 2,
       "version_minor": 0
      },
      "text/plain": [
       "FloatProgress(value=0.0, bar_style='info', description='Progress:', layout=Layout(height='25px', width='50%'),…"
      ]
     },
     "metadata": {},
     "output_type": "display_data"
    },
    {
     "name": "stdout",
     "output_type": "stream",
     "text": [
      "(27281, 16)"
     ]
    }
   ],
   "source": [
    "# final size of dataset\n",
    "print((user_data.count(), len(user_data.columns)))"
   ]
  },
  {
   "cell_type": "markdown",
   "id": "713966ed",
   "metadata": {},
   "source": [
    "### Replace Nulls"
   ]
  },
  {
   "cell_type": "code",
   "execution_count": 43,
   "id": "3bdaef0d",
   "metadata": {},
   "outputs": [
    {
     "data": {
      "application/vnd.jupyter.widget-view+json": {
       "model_id": "a0a83c96c5ff4f34b4f03728c52eef28",
       "version_major": 2,
       "version_minor": 0
      },
      "text/plain": [
       "VBox()"
      ]
     },
     "metadata": {},
     "output_type": "display_data"
    },
    {
     "data": {
      "application/vnd.jupyter.widget-view+json": {
       "model_id": "",
       "version_major": 2,
       "version_minor": 0
      },
      "text/plain": [
       "FloatProgress(value=0.0, bar_style='info', description='Progress:', layout=Layout(height='25px', width='50%'),…"
      ]
     },
     "metadata": {},
     "output_type": "display_data"
    },
    {
     "name": "stdout",
     "output_type": "stream",
     "text": [
      "-RECORD 0--------------\n",
      " gender          | 0.0 \n",
      " label           | 0.0 \n",
      " Add Friend      | 0.0 \n",
      " Add to Playlist | 0.0 \n",
      " Error           | 0.0 \n",
      " Help            | 0.0 \n",
      " Logout          | 0.0 \n",
      " Roll Advert     | 0.0 \n",
      " Thumbs Down     | 0.0 \n",
      " Thumbs Up       | 0.0 \n",
      " browser         | 0.0 \n",
      " os              | 0.0 \n",
      " brand           | 0.0 \n",
      " avgSessionHours | 0.0 \n",
      " free            | 0.0 \n",
      " paid            | 0.0"
     ]
    }
   ],
   "source": [
    "# define list of numeric columns\n",
    "numeric_cols = user_page.columns[1:] + user_sess_dur.columns[1:] + user_level.columns[1:]\n",
    "# create dictionary specifying that 0 will be used to fill missing rows\n",
    "impute_numeric = { i : 0 for i in numeric_cols }\n",
    "# fill missing rows in numeric columns\n",
    "user_data = user_data.fillna(impute_numeric)\n",
    "# define list of category columns (strings)\n",
    "categ_cols = user_browser.columns[1:] + ['gender']\n",
    "# create dictionary specifying that 'missing' will be used to fill missing rows\n",
    "impute_categ = { i : 'missing' for i in categ_cols }\n",
    "# fill missing rows in category columns\n",
    "user_data = user_data.fillna(impute_categ)\n",
    "# show % nulls - should be 0 for every column\n",
    "user_data.select(\n",
    "    [\n",
    "        ( (F.count(F.when(F.isnull(c), c)) / F.count(c)) * 100 ) \\\n",
    "            .alias(c) for c in user_data.columns\n",
    "    ]\n",
    ").show(vertical=True)"
   ]
  },
  {
   "cell_type": "markdown",
   "id": "824a962e",
   "metadata": {},
   "source": [
    "# Modeling"
   ]
  },
  {
   "cell_type": "markdown",
   "id": "3f3047fa",
   "metadata": {},
   "source": [
    "### Split into Training / Testing Sets"
   ]
  },
  {
   "cell_type": "code",
   "execution_count": 23,
   "id": "0279cdbb",
   "metadata": {},
   "outputs": [
    {
     "data": {
      "application/vnd.jupyter.widget-view+json": {
       "model_id": "99c3985fe14946aa94b8a9153bb7ae93",
       "version_major": 2,
       "version_minor": 0
      },
      "text/plain": [
       "VBox()"
      ]
     },
     "metadata": {},
     "output_type": "display_data"
    },
    {
     "data": {
      "application/vnd.jupyter.widget-view+json": {
       "model_id": "",
       "version_major": 2,
       "version_minor": 0
      },
      "text/plain": [
       "FloatProgress(value=0.0, bar_style='info', description='Progress:', layout=Layout(height='25px', width='50%'),…"
      ]
     },
     "metadata": {},
     "output_type": "display_data"
    }
   ],
   "source": [
    "training, testing = user_data.randomSplit([0.6, 0.4], seed=100)"
   ]
  },
  {
   "cell_type": "markdown",
   "id": "6e917fbb",
   "metadata": {},
   "source": [
    "### Create Pipeline"
   ]
  },
  {
   "cell_type": "code",
   "execution_count": 44,
   "id": "b34040fb",
   "metadata": {},
   "outputs": [
    {
     "data": {
      "application/vnd.jupyter.widget-view+json": {
       "model_id": "332bae7bf1b74d1385663a2e2811f541",
       "version_major": 2,
       "version_minor": 0
      },
      "text/plain": [
       "VBox()"
      ]
     },
     "metadata": {},
     "output_type": "display_data"
    },
    {
     "data": {
      "application/vnd.jupyter.widget-view+json": {
       "model_id": "",
       "version_major": 2,
       "version_minor": 0
      },
      "text/plain": [
       "FloatProgress(value=0.0, bar_style='info', description='Progress:', layout=Layout(height='25px', width='50%'),…"
      ]
     },
     "metadata": {},
     "output_type": "display_data"
    }
   ],
   "source": [
    "# create list of category output columns from previously defined categ_columns\n",
    "o_categ_cols = [ n + 'Index' for n in categ_cols ] \n",
    "# encode categories in pipeline\n",
    "categ_pipeline = Pipeline(stages=[\n",
    "    StringIndexer(inputCols=categ_cols, outputCols=o_categ_cols, handleInvalid='skip'),\n",
    "    VectorAssembler(\n",
    "        inputCols=o_categ_cols, \n",
    "        outputCol=\"categ_features\"\n",
    "    )\n",
    "])"
   ]
  },
  {
   "cell_type": "code",
   "execution_count": 45,
   "id": "b60b3997",
   "metadata": {},
   "outputs": [
    {
     "data": {
      "application/vnd.jupyter.widget-view+json": {
       "model_id": "8ee1cebf38914014aaf210b59cb6728f",
       "version_major": 2,
       "version_minor": 0
      },
      "text/plain": [
       "VBox()"
      ]
     },
     "metadata": {},
     "output_type": "display_data"
    },
    {
     "data": {
      "application/vnd.jupyter.widget-view+json": {
       "model_id": "",
       "version_major": 2,
       "version_minor": 0
      },
      "text/plain": [
       "FloatProgress(value=0.0, bar_style='info', description='Progress:', layout=Layout(height='25px', width='50%'),…"
      ]
     },
     "metadata": {},
     "output_type": "display_data"
    }
   ],
   "source": [
    "# numeric pipeline - use numeric columns defined earlier\n",
    "numer_pipeline = Pipeline(stages=[\n",
    "    VectorAssembler(inputCols=numeric_cols, outputCol=\"numer_features\")\n",
    "])"
   ]
  },
  {
   "cell_type": "code",
   "execution_count": 30,
   "id": "600fd3c6",
   "metadata": {},
   "outputs": [
    {
     "data": {
      "application/vnd.jupyter.widget-view+json": {
       "model_id": "63d6949808bb4a69a8fbda3464dad6af",
       "version_major": 2,
       "version_minor": 0
      },
      "text/plain": [
       "VBox()"
      ]
     },
     "metadata": {},
     "output_type": "display_data"
    },
    {
     "data": {
      "application/vnd.jupyter.widget-view+json": {
       "model_id": "",
       "version_major": 2,
       "version_minor": 0
      },
      "text/plain": [
       "FloatProgress(value=0.0, bar_style='info', description='Progress:', layout=Layout(height='25px', width='50%'),…"
      ]
     },
     "metadata": {},
     "output_type": "display_data"
    }
   ],
   "source": [
    "# unite pipelines ( final features have to be named 'features')\n",
    "# unite pipelines\n",
    "final_pipeline = Pipeline(stages=[\n",
    "    categ_pipeline,\n",
    "    numer_pipeline,\n",
    "    VectorAssembler(\n",
    "        inputCols=[\"categ_features\",\"numer_features\"],\n",
    "        outputCol=\"features\"\n",
    "    ),\n",
    "    LogisticRegression(maxIter=10)\n",
    "])"
   ]
  },
  {
   "cell_type": "markdown",
   "id": "b6086b71",
   "metadata": {},
   "source": [
    "### Cross-Validate on Training Set"
   ]
  },
  {
   "cell_type": "code",
   "execution_count": 31,
   "id": "84811c46",
   "metadata": {},
   "outputs": [
    {
     "data": {
      "application/vnd.jupyter.widget-view+json": {
       "model_id": "d1fab56d8d38488ea49f0079d02e0d1c",
       "version_major": 2,
       "version_minor": 0
      },
      "text/plain": [
       "VBox()"
      ]
     },
     "metadata": {},
     "output_type": "display_data"
    },
    {
     "data": {
      "application/vnd.jupyter.widget-view+json": {
       "model_id": "",
       "version_major": 2,
       "version_minor": 0
      },
      "text/plain": [
       "FloatProgress(value=0.0, bar_style='info', description='Progress:', layout=Layout(height='25px', width='50%'),…"
      ]
     },
     "metadata": {},
     "output_type": "display_data"
    }
   ],
   "source": [
    "# define parameters ( just one )\n",
    "paramGrid = ParamGridBuilder() \\\n",
    "    .addGrid(LogisticRegression.regParam, [0.1, 0.05, 0.01]) \\\n",
    "    .build()\n",
    "\n",
    "# optimize 4 fold cross-validation using the area under ROC curve\n",
    "crossval = CrossValidator(estimator=final_pipeline,\n",
    "                          estimatorParamMaps=paramGrid,\n",
    "                          evaluator=BinaryClassificationEvaluator(labelCol='label',metricName='areaUnderROC'),\n",
    "                          numFolds=3) "
   ]
  },
  {
   "cell_type": "code",
   "execution_count": 32,
   "id": "dd6619c7",
   "metadata": {},
   "outputs": [
    {
     "data": {
      "application/vnd.jupyter.widget-view+json": {
       "model_id": "cb3c207f31d74ee9b61feb2a0cb0237d",
       "version_major": 2,
       "version_minor": 0
      },
      "text/plain": [
       "VBox()"
      ]
     },
     "metadata": {},
     "output_type": "display_data"
    },
    {
     "data": {
      "application/vnd.jupyter.widget-view+json": {
       "model_id": "",
       "version_major": 2,
       "version_minor": 0
      },
      "text/plain": [
       "FloatProgress(value=0.0, bar_style='info', description='Progress:', layout=Layout(height='25px', width='50%'),…"
      ]
     },
     "metadata": {},
     "output_type": "display_data"
    }
   ],
   "source": [
    "cvModel = crossval.fit(training)"
   ]
  },
  {
   "cell_type": "code",
   "execution_count": 33,
   "id": "7980d136",
   "metadata": {},
   "outputs": [
    {
     "data": {
      "application/vnd.jupyter.widget-view+json": {
       "model_id": "122e8789466042669d32d4aa432f1a36",
       "version_major": 2,
       "version_minor": 0
      },
      "text/plain": [
       "VBox()"
      ]
     },
     "metadata": {},
     "output_type": "display_data"
    },
    {
     "data": {
      "application/vnd.jupyter.widget-view+json": {
       "model_id": "",
       "version_major": 2,
       "version_minor": 0
      },
      "text/plain": [
       "FloatProgress(value=0.0, bar_style='info', description='Progress:', layout=Layout(height='25px', width='50%'),…"
      ]
     },
     "metadata": {},
     "output_type": "display_data"
    },
    {
     "name": "stdout",
     "output_type": "stream",
     "text": [
      "[0.7769540579729164, 0.7769540579729164, 0.7769540579729164]"
     ]
    }
   ],
   "source": [
    "# certainly looks like the regParam is fine at 0.1\n",
    "cvModel.avgMetrics"
   ]
  },
  {
   "cell_type": "markdown",
   "id": "836cdac5",
   "metadata": {},
   "source": [
    "### Fit Tuned Pipeline on Entire Training Set"
   ]
  },
  {
   "cell_type": "code",
   "execution_count": 46,
   "id": "9b345fe9",
   "metadata": {},
   "outputs": [
    {
     "data": {
      "application/vnd.jupyter.widget-view+json": {
       "model_id": "e2e194cc8c3843ebac1583d894fa5fc9",
       "version_major": 2,
       "version_minor": 0
      },
      "text/plain": [
       "VBox()"
      ]
     },
     "metadata": {},
     "output_type": "display_data"
    },
    {
     "data": {
      "application/vnd.jupyter.widget-view+json": {
       "model_id": "",
       "version_major": 2,
       "version_minor": 0
      },
      "text/plain": [
       "FloatProgress(value=0.0, bar_style='info', description='Progress:', layout=Layout(height='25px', width='50%'),…"
      ]
     },
     "metadata": {},
     "output_type": "display_data"
    }
   ],
   "source": [
    "# unite pipelines ( final features have to be named 'features')\n",
    "# unite pipelines\n",
    "final_pipeline2 = Pipeline(stages=[\n",
    "    categ_pipeline,\n",
    "    numer_pipeline,\n",
    "    VectorAssembler(\n",
    "        inputCols=[\"categ_features\",\"numer_features\"],\n",
    "        outputCol=\"features\"\n",
    "    ),\n",
    "    LogisticRegression(maxIter=10, regParam=0.1)\n",
    "])\n",
    "\n",
    "pipelineModel = final_pipeline2.fit(training)"
   ]
  },
  {
   "cell_type": "code",
   "execution_count": 47,
   "id": "bf67ab57",
   "metadata": {},
   "outputs": [
    {
     "data": {
      "application/vnd.jupyter.widget-view+json": {
       "model_id": "a80c8198a9bf44698ec80b56bd945bf9",
       "version_major": 2,
       "version_minor": 0
      },
      "text/plain": [
       "VBox()"
      ]
     },
     "metadata": {},
     "output_type": "display_data"
    },
    {
     "data": {
      "application/vnd.jupyter.widget-view+json": {
       "model_id": "",
       "version_major": 2,
       "version_minor": 0
      },
      "text/plain": [
       "FloatProgress(value=0.0, bar_style='info', description='Progress:', layout=Layout(height='25px', width='50%'),…"
      ]
     },
     "metadata": {},
     "output_type": "display_data"
    },
    {
     "name": "stdout",
     "output_type": "stream",
     "text": [
      "(0.8162691131498471, 0.7678928649578044)"
     ]
    }
   ],
   "source": [
    "# show accuracy and AUC\n",
    "summaryPipeline = pipelineModel.stages[-1].summary\n",
    "summaryPipeline.accuracy, summaryPipeline.areaUnderROC"
   ]
  },
  {
   "cell_type": "markdown",
   "id": "12e1a68c",
   "metadata": {},
   "source": [
    "### Calculate Odds-Ratios"
   ]
  },
  {
   "cell_type": "code",
   "execution_count": 48,
   "id": "e6fae8ea",
   "metadata": {},
   "outputs": [
    {
     "data": {
      "application/vnd.jupyter.widget-view+json": {
       "model_id": "f183e21330ed41cc85ed921f2b3ad1ec",
       "version_major": 2,
       "version_minor": 0
      },
      "text/plain": [
       "VBox()"
      ]
     },
     "metadata": {},
     "output_type": "display_data"
    },
    {
     "data": {
      "application/vnd.jupyter.widget-view+json": {
       "model_id": "",
       "version_major": 2,
       "version_minor": 0
      },
      "text/plain": [
       "FloatProgress(value=0.0, bar_style='info', description='Progress:', layout=Layout(height='25px', width='50%'),…"
      ]
     },
     "metadata": {},
     "output_type": "display_data"
    },
    {
     "name": "stdout",
     "output_type": "stream",
     "text": [
      "+----+---------------+\n",
      "|  or|        feature|\n",
      "+----+---------------+\n",
      "|0.99|   browserIndex|\n",
      "|0.99|        osIndex|\n",
      "| 1.0|     brandIndex|\n",
      "|0.99|    genderIndex|\n",
      "| 1.0|     Add Friend|\n",
      "| 1.0|Add to Playlist|\n",
      "| 1.0|          Error|\n",
      "| 1.0|           Help|\n",
      "| 1.0|         Logout|\n",
      "|1.01|    Roll Advert|\n",
      "|1.01|    Thumbs Down|\n",
      "| 1.0|      Thumbs Up|\n",
      "|1.01|avgSessionHours|\n",
      "|0.98|           free|\n",
      "|0.99|           paid|\n",
      "+----+---------------+"
     ]
    }
   ],
   "source": [
    "import numpy as np\n",
    "\n",
    "coeffs = pipelineModel.stages[-1].coefficientMatrix\n",
    "odds_ratios = np.around(np.exp(coeffs.toArray()),2).tolist()\n",
    "feature_list = o_categ_cols + numeric_cols\n",
    "odds_ratios_df = spark.createDataFrame(\n",
    "    [ t for t in zip(odds_ratios[0], feature_list)],\n",
    "    [\"or\", \"feature\"]\n",
    ")\n",
    "\n",
    "odds_ratios_df.show(30)"
   ]
  },
  {
   "cell_type": "markdown",
   "id": "f9a1932a",
   "metadata": {},
   "source": [
    "### Score on Testing Set"
   ]
  },
  {
   "cell_type": "code",
   "execution_count": 51,
   "id": "711ed543",
   "metadata": {},
   "outputs": [
    {
     "data": {
      "application/vnd.jupyter.widget-view+json": {
       "model_id": "53b2af048dbd48fbb4fef4fbe340c9f7",
       "version_major": 2,
       "version_minor": 0
      },
      "text/plain": [
       "VBox()"
      ]
     },
     "metadata": {},
     "output_type": "display_data"
    },
    {
     "data": {
      "application/vnd.jupyter.widget-view+json": {
       "model_id": "",
       "version_major": 2,
       "version_minor": 0
      },
      "text/plain": [
       "FloatProgress(value=0.0, bar_style='info', description='Progress:', layout=Layout(height='25px', width='50%'),…"
      ]
     },
     "metadata": {},
     "output_type": "display_data"
    }
   ],
   "source": [
    "# generate predictions\n",
    "predictions = pipelineModel.transform(testing)\n",
    "# intialize the evaluator\n",
    "bce = BinaryClassificationEvaluator(labelCol='label', metricName='areaUnderROC').evaluate(predictions)"
   ]
  },
  {
   "cell_type": "code",
   "execution_count": 57,
   "id": "56c02aa3",
   "metadata": {},
   "outputs": [
    {
     "data": {
      "application/vnd.jupyter.widget-view+json": {
       "model_id": "053ef855995b438e8e7c1643b257e6c4",
       "version_major": 2,
       "version_minor": 0
      },
      "text/plain": [
       "VBox()"
      ]
     },
     "metadata": {},
     "output_type": "display_data"
    },
    {
     "data": {
      "application/vnd.jupyter.widget-view+json": {
       "model_id": "",
       "version_major": 2,
       "version_minor": 0
      },
      "text/plain": [
       "FloatProgress(value=0.0, bar_style='info', description='Progress:', layout=Layout(height='25px', width='50%'),…"
      ]
     },
     "metadata": {},
     "output_type": "display_data"
    },
    {
     "name": "stdout",
     "output_type": "stream",
     "text": [
      "0.754797280208676"
     ]
    }
   ],
   "source": [
    "# area-under-receiver-operating-characteristic-curve of testing set\n",
    "bce"
   ]
  },
  {
   "cell_type": "markdown",
   "id": "2049aa1e",
   "metadata": {},
   "source": [
    "# Results and Conclusion\n",
    "\n",
    "Splitting the user data into training and testing sets (60% and 40%, respectively) was sufficient. The final AUC was: \n",
    "* 0.76 for the training set \n",
    "* 0.75 for the testing set\n",
    "\n",
    "which is close enough together to suggest that under-fitting, and not over-fitting, was a possible issue. \n",
    "\n",
    "The odds-ratios showed that some features ( regarding user behavior ) were associated with an increased probability of 'churn' while others were associated with a _decreased_ probability of churn. Specifically: \n",
    "\n",
    "A _one_ unit increase of: \n",
    "* the number of advertisements\n",
    "* the number of 'thumbs down' \n",
    "* the average number of hours a session lasted\n",
    "\n",
    "_increased_ the probability of 'churning' by 1%\n",
    "\n",
    "whereas a _one_ unit increase of: \n",
    "* browser\n",
    "* os\n",
    "* gender\n",
    "* days as a 'paid' user\n",
    "\n",
    "_decreased_ the probability of 'churning' by 1%. In the case of the 'category' column type, the 'one unit increase' is really the act of moving from the base class to the next class. For example, moving from _Female_ (the base class) to _Male_ decreased the probability of 'churning.' This seems to indicate that _Females_ were more likely to 'churn.' \n",
    "\n",
    "Finally, a _one_ unit increase of: \n",
    "* days spent at the 'free' level\n",
    "\n",
    "_decreased_ the probability of 'churning' by _2%_\n",
    "\n",
    "The recommendation based on these findings is that Sparkify should investigate ways to: \n",
    "* keep the female audience engaged\n",
    "* encourage users to login everyday\n",
    "* limit the number of advertisements a user has to watch\n",
    "* decrease the number of 'thumbs down' that a user feels compelled to give\n",
    "\n",
    "Sparkify should also investigate if there are issues with the service via a particular Internet Browser or OS. \n",
    "\n",
    "Realistically, these recommendations have no weight until the accuracy / AUC can be increased. Thank you for reading!"
   ]
  },
  {
   "cell_type": "code",
   "execution_count": null,
   "id": "25bf9382",
   "metadata": {},
   "outputs": [],
   "source": []
  }
 ],
 "metadata": {
  "kernelspec": {
   "display_name": "PySpark",
   "language": "",
   "name": "pysparkkernel"
  },
  "language_info": {
   "codemirror_mode": {
    "name": "python",
    "version": 2
   },
   "mimetype": "text/x-python",
   "name": "pyspark",
   "pygments_lexer": "python2"
  }
 },
 "nbformat": 4,
 "nbformat_minor": 5
}
