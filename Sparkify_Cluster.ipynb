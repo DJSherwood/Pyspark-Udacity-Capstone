{
 "cells": [
  {
   "cell_type": "code",
   "execution_count": 1,
   "id": "5bfd2123",
   "metadata": {},
   "outputs": [
    {
     "data": {
      "application/vnd.jupyter.widget-view+json": {
       "model_id": "9bce5962a33c49e19e335e5cd1064f06",
       "version_major": 2,
       "version_minor": 0
      },
      "text/plain": [
       "VBox()"
      ]
     },
     "metadata": {},
     "output_type": "display_data"
    },
    {
     "name": "stdout",
     "output_type": "stream",
     "text": [
      "Starting Spark application\n"
     ]
    },
    {
     "data": {
      "text/html": [
       "<table>\n",
       "<tr><th>ID</th><th>YARN Application ID</th><th>Kind</th><th>State</th><th>Spark UI</th><th>Driver log</th><th>Current session?</th></tr><tr><td>1</td><td>application_1621253859991_0002</td><td>pyspark</td><td>idle</td><td><a target=\"_blank\" href=\"http://ip-172-31-40-19.us-east-2.compute.internal:20888/proxy/application_1621253859991_0002/\">Link</a></td><td><a target=\"_blank\" href=\"http://ip-172-31-39-97.us-east-2.compute.internal:8042/node/containerlogs/container_1621253859991_0002_01_000001/livy\">Link</a></td><td>✔</td></tr></table>"
      ],
      "text/plain": [
       "<IPython.core.display.HTML object>"
      ]
     },
     "metadata": {},
     "output_type": "display_data"
    },
    {
     "data": {
      "application/vnd.jupyter.widget-view+json": {
       "model_id": "",
       "version_major": 2,
       "version_minor": 0
      },
      "text/plain": [
       "FloatProgress(value=0.0, bar_style='info', description='Progress:', layout=Layout(height='25px', width='50%'),…"
      ]
     },
     "metadata": {},
     "output_type": "display_data"
    },
    {
     "name": "stdout",
     "output_type": "stream",
     "text": [
      "SparkSession available as 'spark'.\n"
     ]
    },
    {
     "data": {
      "application/vnd.jupyter.widget-view+json": {
       "model_id": "",
       "version_major": 2,
       "version_minor": 0
      },
      "text/plain": [
       "FloatProgress(value=0.0, bar_style='info', description='Progress:', layout=Layout(height='25px', width='50%'),…"
      ]
     },
     "metadata": {},
     "output_type": "display_data"
    }
   ],
   "source": [
    "# import libraries\n",
    "from pyspark.sql import SparkSession\n",
    "from pyspark.sql import functions as F\n",
    "from pyspark.sql.window import Window\n",
    "from pyspark.sql import types as t\n",
    "from pyspark.ml.classification import LogisticRegression\n",
    "from pyspark.ml.feature import Imputer, StringIndexer, VectorAssembler\n",
    "from pyspark.ml import Pipeline\n",
    "from pyspark.ml.tuning import CrossValidator, ParamGridBuilder\n",
    "from pyspark.ml.evaluation import BinaryClassificationEvaluator"
   ]
  },
  {
   "cell_type": "code",
   "execution_count": 2,
   "id": "5953a749",
   "metadata": {},
   "outputs": [
    {
     "data": {
      "application/vnd.jupyter.widget-view+json": {
       "model_id": "36775a4cdc324090a262f943869600c8",
       "version_major": 2,
       "version_minor": 0
      },
      "text/plain": [
       "VBox()"
      ]
     },
     "metadata": {},
     "output_type": "display_data"
    },
    {
     "data": {
      "application/vnd.jupyter.widget-view+json": {
       "model_id": "",
       "version_major": 2,
       "version_minor": 0
      },
      "text/plain": [
       "FloatProgress(value=0.0, bar_style='info', description='Progress:', layout=Layout(height='25px', width='50%'),…"
      ]
     },
     "metadata": {},
     "output_type": "display_data"
    }
   ],
   "source": [
    "# create a Spark session\n",
    "spark = SparkSession \\\n",
    "    .builder \\\n",
    "    .appName(\"sparkify\") \\\n",
    "    .getOrCreate()"
   ]
  },
  {
   "cell_type": "markdown",
   "id": "cf823f6c",
   "metadata": {},
   "source": [
    "# Load and Clean Dataset"
   ]
  },
  {
   "cell_type": "code",
   "execution_count": 3,
   "id": "0be222ce",
   "metadata": {},
   "outputs": [
    {
     "data": {
      "application/vnd.jupyter.widget-view+json": {
       "model_id": "0792bfa5fc394b0dac7b43036b97ca88",
       "version_major": 2,
       "version_minor": 0
      },
      "text/plain": [
       "VBox()"
      ]
     },
     "metadata": {},
     "output_type": "display_data"
    },
    {
     "data": {
      "application/vnd.jupyter.widget-view+json": {
       "model_id": "",
       "version_major": 2,
       "version_minor": 0
      },
      "text/plain": [
       "FloatProgress(value=0.0, bar_style='info', description='Progress:', layout=Layout(height='25px', width='50%'),…"
      ]
     },
     "metadata": {},
     "output_type": "display_data"
    }
   ],
   "source": [
    "# full dataset\n",
    "event_data = 's3n://udacity-dsnd/sparkify/sparkify_event_data.json'\n",
    "# mini dataset\n",
    "# evnent_data = s3n://udacity-dsnd/sparkify/mini_sparkify_event_data.json"
   ]
  },
  {
   "cell_type": "code",
   "execution_count": 4,
   "id": "f54a4866",
   "metadata": {},
   "outputs": [
    {
     "data": {
      "application/vnd.jupyter.widget-view+json": {
       "model_id": "03cf73b0c252434bac78ccf00c7dde95",
       "version_major": 2,
       "version_minor": 0
      },
      "text/plain": [
       "VBox()"
      ]
     },
     "metadata": {},
     "output_type": "display_data"
    },
    {
     "data": {
      "application/vnd.jupyter.widget-view+json": {
       "model_id": "",
       "version_major": 2,
       "version_minor": 0
      },
      "text/plain": [
       "FloatProgress(value=0.0, bar_style='info', description='Progress:', layout=Layout(height='25px', width='50%'),…"
      ]
     },
     "metadata": {},
     "output_type": "display_data"
    }
   ],
   "source": [
    "df = spark.read.json(event_data)"
   ]
  },
  {
   "cell_type": "code",
   "execution_count": 5,
   "id": "76ccd54b",
   "metadata": {},
   "outputs": [
    {
     "data": {
      "application/vnd.jupyter.widget-view+json": {
       "model_id": "7bcbd6175bd9433b898a613f3018aa01",
       "version_major": 2,
       "version_minor": 0
      },
      "text/plain": [
       "VBox()"
      ]
     },
     "metadata": {},
     "output_type": "display_data"
    },
    {
     "data": {
      "application/vnd.jupyter.widget-view+json": {
       "model_id": "",
       "version_major": 2,
       "version_minor": 0
      },
      "text/plain": [
       "FloatProgress(value=0.0, bar_style='info', description='Progress:', layout=Layout(height='25px', width='50%'),…"
      ]
     },
     "metadata": {},
     "output_type": "display_data"
    },
    {
     "name": "stdout",
     "output_type": "stream",
     "text": [
      "root\n",
      " |-- artist: string (nullable = true)\n",
      " |-- auth: string (nullable = true)\n",
      " |-- firstName: string (nullable = true)\n",
      " |-- gender: string (nullable = true)\n",
      " |-- itemInSession: long (nullable = true)\n",
      " |-- lastName: string (nullable = true)\n",
      " |-- length: double (nullable = true)\n",
      " |-- level: string (nullable = true)\n",
      " |-- location: string (nullable = true)\n",
      " |-- method: string (nullable = true)\n",
      " |-- page: string (nullable = true)\n",
      " |-- registration: long (nullable = true)\n",
      " |-- sessionId: long (nullable = true)\n",
      " |-- song: string (nullable = true)\n",
      " |-- status: long (nullable = true)\n",
      " |-- ts: long (nullable = true)\n",
      " |-- userAgent: string (nullable = true)\n",
      " |-- userId: string (nullable = true)"
     ]
    }
   ],
   "source": [
    "df.printSchema()"
   ]
  },
  {
   "cell_type": "code",
   "execution_count": 6,
   "id": "8af408b3",
   "metadata": {},
   "outputs": [
    {
     "data": {
      "application/vnd.jupyter.widget-view+json": {
       "model_id": "31a60dbdf9c54d7d9fad8c0e3fbf0e1f",
       "version_major": 2,
       "version_minor": 0
      },
      "text/plain": [
       "VBox()"
      ]
     },
     "metadata": {},
     "output_type": "display_data"
    },
    {
     "data": {
      "application/vnd.jupyter.widget-view+json": {
       "model_id": "",
       "version_major": 2,
       "version_minor": 0
      },
      "text/plain": [
       "FloatProgress(value=0.0, bar_style='info', description='Progress:', layout=Layout(height='25px', width='50%'),…"
      ]
     },
     "metadata": {},
     "output_type": "display_data"
    },
    {
     "name": "stdout",
     "output_type": "stream",
     "text": [
      "(26259199, 18)"
     ]
    }
   ],
   "source": [
    "# the size of the dataset\n",
    "print((df.count(), len(df.columns)))"
   ]
  },
  {
   "cell_type": "markdown",
   "id": "64a28fb5",
   "metadata": {},
   "source": [
    "### How many nulls?"
   ]
  },
  {
   "cell_type": "code",
   "execution_count": 7,
   "id": "199bfa0b",
   "metadata": {},
   "outputs": [
    {
     "data": {
      "application/vnd.jupyter.widget-view+json": {
       "model_id": "c112b0c94b28469a94cb2f1f83b62cae",
       "version_major": 2,
       "version_minor": 0
      },
      "text/plain": [
       "VBox()"
      ]
     },
     "metadata": {},
     "output_type": "display_data"
    },
    {
     "data": {
      "application/vnd.jupyter.widget-view+json": {
       "model_id": "",
       "version_major": 2,
       "version_minor": 0
      },
      "text/plain": [
       "FloatProgress(value=0.0, bar_style='info', description='Progress:', layout=Layout(height='25px', width='50%'),…"
      ]
     },
     "metadata": {},
     "output_type": "display_data"
    },
    {
     "name": "stdout",
     "output_type": "stream",
     "text": [
      "-RECORD 0----------------\n",
      " artist        | 5408927 \n",
      " auth          | 0       \n",
      " firstName     | 778479  \n",
      " gender        | 778479  \n",
      " itemInSession | 0       \n",
      " lastName      | 778479  \n",
      " length        | 5408927 \n",
      " level         | 0       \n",
      " location      | 778479  \n",
      " method        | 0       \n",
      " page          | 0       \n",
      " registration  | 778479  \n",
      " sessionId     | 0       \n",
      " song          | 5408927 \n",
      " status        | 0       \n",
      " ts            | 0       \n",
      " userAgent     | 778479  \n",
      " userId        | 0"
     ]
    }
   ],
   "source": [
    "df.select([F.count(F.when(F.isnull(c), c)).alias(c) for c in df.columns]).show(vertical=True)"
   ]
  },
  {
   "cell_type": "markdown",
   "id": "cd85dd0f",
   "metadata": {},
   "source": [
    "### Define Churn\n",
    "Here the `Cancellation Confirmation` page is used to define churn. This occurs for both free and paid users. "
   ]
  },
  {
   "cell_type": "code",
   "execution_count": 8,
   "id": "abd9cdf8",
   "metadata": {},
   "outputs": [
    {
     "data": {
      "application/vnd.jupyter.widget-view+json": {
       "model_id": "bf40cc3f622944b2b2491ecb90040a64",
       "version_major": 2,
       "version_minor": 0
      },
      "text/plain": [
       "VBox()"
      ]
     },
     "metadata": {},
     "output_type": "display_data"
    },
    {
     "data": {
      "application/vnd.jupyter.widget-view+json": {
       "model_id": "",
       "version_major": 2,
       "version_minor": 0
      },
      "text/plain": [
       "FloatProgress(value=0.0, bar_style='info', description='Progress:', layout=Layout(height='25px', width='50%'),…"
      ]
     },
     "metadata": {},
     "output_type": "display_data"
    }
   ],
   "source": [
    "# this is a binary, indicator column to be used to predict churn\n",
    "df = df.withColumn(\n",
    "    'churn',\n",
    "    F.when((F.col('page') =='Cancellation Confirmation'), 1) \\\n",
    "    .otherwise(0)\n",
    ")"
   ]
  },
  {
   "cell_type": "markdown",
   "id": "5ec969d4",
   "metadata": {},
   "source": [
    "### Explore Data\n",
    "\n",
    "How many users 'churned' over all? Are cancellations the same between free and paid users? "
   ]
  },
  {
   "cell_type": "code",
   "execution_count": 9,
   "id": "c2a878e9",
   "metadata": {},
   "outputs": [
    {
     "data": {
      "application/vnd.jupyter.widget-view+json": {
       "model_id": "2742d723347144939dd19041f495cc56",
       "version_major": 2,
       "version_minor": 0
      },
      "text/plain": [
       "VBox()"
      ]
     },
     "metadata": {},
     "output_type": "display_data"
    },
    {
     "data": {
      "application/vnd.jupyter.widget-view+json": {
       "model_id": "",
       "version_major": 2,
       "version_minor": 0
      },
      "text/plain": [
       "FloatProgress(value=0.0, bar_style='info', description='Progress:', layout=Layout(height='25px', width='50%'),…"
      ]
     },
     "metadata": {},
     "output_type": "display_data"
    },
    {
     "name": "stdout",
     "output_type": "stream",
     "text": [
      "(5003, 22278, 18.338770572926215)"
     ]
    }
   ],
   "source": [
    "# users who have a cancellation value of 1\n",
    "users_who_quit = df.filter(df.churn==1) \\\n",
    "    .select(df.userId) \\\n",
    "    .dropDuplicates()\n",
    "\n",
    "# users who have a cancellation value of 0\n",
    "users_who_stayed = df.filter(df.churn==0) \\\n",
    "    .select(df.userId) \\\n",
    "    .dropDuplicates()\n",
    "\n",
    "# examine their lengths\n",
    "users_who_quit.count(), users_who_stayed.count(), ( users_who_quit.count() / (users_who_quit.count() + users_who_stayed.count())) * 100"
   ]
  },
  {
   "cell_type": "code",
   "execution_count": 10,
   "id": "31331564",
   "metadata": {},
   "outputs": [
    {
     "data": {
      "application/vnd.jupyter.widget-view+json": {
       "model_id": "d6fcd6f730d0483e9efcb304e94a5e55",
       "version_major": 2,
       "version_minor": 0
      },
      "text/plain": [
       "VBox()"
      ]
     },
     "metadata": {},
     "output_type": "display_data"
    },
    {
     "data": {
      "application/vnd.jupyter.widget-view+json": {
       "model_id": "",
       "version_major": 2,
       "version_minor": 0
      },
      "text/plain": [
       "FloatProgress(value=0.0, bar_style='info', description='Progress:', layout=Layout(height='25px', width='50%'),…"
      ]
     },
     "metadata": {},
     "output_type": "display_data"
    },
    {
     "name": "stdout",
     "output_type": "stream",
     "text": [
      "+-----+-----+----------+\n",
      "|level|churn|user_count|\n",
      "+-----+-----+----------+\n",
      "| paid|    0|     16185|\n",
      "| free|    0|     18793|\n",
      "| paid|    1|      3424|\n",
      "| free|    1|      1579|\n",
      "+-----+-----+----------+"
     ]
    }
   ],
   "source": [
    "# are cancellation rates the same between free and paid users? \n",
    "churn_table = df.select(df.level, df.churn, df.userId) \\\n",
    "    .dropDuplicates() \\\n",
    "    .groupBy(F.col('level'),F.col('churn')) \\\n",
    "    .count() \\\n",
    "    .withColumnRenamed('count','user_count')\n",
    "\n",
    "churn_table.show()"
   ]
  },
  {
   "cell_type": "markdown",
   "id": "ccda8cac",
   "metadata": {},
   "source": [
    "Twice the number of `paid` users churned versus `free` users"
   ]
  },
  {
   "cell_type": "code",
   "execution_count": 11,
   "id": "0d53e115",
   "metadata": {},
   "outputs": [
    {
     "data": {
      "application/vnd.jupyter.widget-view+json": {
       "model_id": "a6cb4765ce02438fb5d42ad67a5ca87a",
       "version_major": 2,
       "version_minor": 0
      },
      "text/plain": [
       "VBox()"
      ]
     },
     "metadata": {},
     "output_type": "display_data"
    },
    {
     "data": {
      "application/vnd.jupyter.widget-view+json": {
       "model_id": "",
       "version_major": 2,
       "version_minor": 0
      },
      "text/plain": [
       "FloatProgress(value=0.0, bar_style='info', description='Progress:', layout=Layout(height='25px', width='50%'),…"
      ]
     },
     "metadata": {},
     "output_type": "display_data"
    },
    {
     "name": "stdout",
     "output_type": "stream",
     "text": [
      "(17.461369779183027, 7.75083447869625)"
     ]
    }
   ],
   "source": [
    "( 3424 / ( 3424 + 16185)) * 100, ( 1579 / ( 1579 + 18793)) * 100"
   ]
  },
  {
   "cell_type": "markdown",
   "id": "2326fc86",
   "metadata": {},
   "source": [
    "# Feature Engineering\n",
    "\n",
    "The approach is to split the text fields for `userAgent` and `location` which will yield device information and city/state information."
   ]
  },
  {
   "cell_type": "code",
   "execution_count": 12,
   "id": "aef0d9e8",
   "metadata": {},
   "outputs": [
    {
     "data": {
      "application/vnd.jupyter.widget-view+json": {
       "model_id": "228d1704034d4d64b01609605debde15",
       "version_major": 2,
       "version_minor": 0
      },
      "text/plain": [
       "VBox()"
      ]
     },
     "metadata": {},
     "output_type": "display_data"
    },
    {
     "data": {
      "application/vnd.jupyter.widget-view+json": {
       "model_id": "",
       "version_major": 2,
       "version_minor": 0
      },
      "text/plain": [
       "FloatProgress(value=0.0, bar_style='info', description='Progress:', layout=Layout(height='25px', width='50%'),…"
      ]
     },
     "metadata": {},
     "output_type": "display_data"
    }
   ],
   "source": [
    "# create browser, os, brand from userAgent\n",
    "df = df.withColumn('browser', F.split(df['userAgent'], '\\(').getItem(0)) \\\n",
    "    .withColumn('temp', F.split(df['userAgent'], '\\(').getItem(1)) \n",
    "\n",
    "df = df.withColumn('os', F.split(df['temp'], ';').getItem(0)) \\\n",
    "    .withColumn('brand', F.split(df['temp'], ';').getItem(1))"
   ]
  },
  {
   "cell_type": "code",
   "execution_count": 13,
   "id": "2d2e41ce",
   "metadata": {},
   "outputs": [
    {
     "data": {
      "application/vnd.jupyter.widget-view+json": {
       "model_id": "85f5929b9a1a44ef808c106d00468646",
       "version_major": 2,
       "version_minor": 0
      },
      "text/plain": [
       "VBox()"
      ]
     },
     "metadata": {},
     "output_type": "display_data"
    },
    {
     "data": {
      "application/vnd.jupyter.widget-view+json": {
       "model_id": "",
       "version_major": 2,
       "version_minor": 0
      },
      "text/plain": [
       "FloatProgress(value=0.0, bar_style='info', description='Progress:', layout=Layout(height='25px', width='50%'),…"
      ]
     },
     "metadata": {},
     "output_type": "display_data"
    }
   ],
   "source": [
    "# split the 'location' field into 'city' and 'state fields'\n",
    "df = df.withColumn('city', F.split(df['location'], ',').getItem(0)) \\\n",
    "    .withColumn('state', F.split(df['location'], ',').getItem(1))"
   ]
  },
  {
   "cell_type": "markdown",
   "id": "b0aafb29",
   "metadata": {},
   "source": [
    "Every event ( for every user ) has a timestamp associated with it. Here I group by user and difference the timestamps to show the amount of time ( in seconds ) between each event. "
   ]
  },
  {
   "cell_type": "code",
   "execution_count": 14,
   "id": "ab9fcde7",
   "metadata": {},
   "outputs": [
    {
     "data": {
      "application/vnd.jupyter.widget-view+json": {
       "model_id": "0452a66bbde94b2788230c75ff21ec7a",
       "version_major": 2,
       "version_minor": 0
      },
      "text/plain": [
       "VBox()"
      ]
     },
     "metadata": {},
     "output_type": "display_data"
    },
    {
     "data": {
      "application/vnd.jupyter.widget-view+json": {
       "model_id": "",
       "version_major": 2,
       "version_minor": 0
      },
      "text/plain": [
       "FloatProgress(value=0.0, bar_style='info', description='Progress:', layout=Layout(height='25px', width='50%'),…"
      ]
     },
     "metadata": {},
     "output_type": "display_data"
    }
   ],
   "source": [
    "# create window partition\n",
    "w = Window.partitionBy(\"userId\").orderBy(\"sessionId\")\n",
    "# calculate lag\n",
    "df = df.withColumn(\"lead\", F.lag('ts', 1).over(w)) \\\n",
    "    .withColumn(\"tsDiff\", ( F.col('ts') - F.col('lead')) / 1000)"
   ]
  },
  {
   "cell_type": "code",
   "execution_count": 15,
   "id": "3da245dd",
   "metadata": {},
   "outputs": [
    {
     "data": {
      "application/vnd.jupyter.widget-view+json": {
       "model_id": "3ae46d0a7ed04716a23e51d88ab664a2",
       "version_major": 2,
       "version_minor": 0
      },
      "text/plain": [
       "VBox()"
      ]
     },
     "metadata": {},
     "output_type": "display_data"
    },
    {
     "data": {
      "application/vnd.jupyter.widget-view+json": {
       "model_id": "",
       "version_major": 2,
       "version_minor": 0
      },
      "text/plain": [
       "FloatProgress(value=0.0, bar_style='info', description='Progress:', layout=Layout(height='25px', width='50%'),…"
      ]
     },
     "metadata": {},
     "output_type": "display_data"
    },
    {
     "name": "stdout",
     "output_type": "stream",
     "text": [
      "-RECORD 0----------------\n",
      " artist        | 38337   \n",
      " auth          | 4       \n",
      " firstName     | 5467    \n",
      " gender        | 2       \n",
      " itemInSession | 1429    \n",
      " lastName      | 1000    \n",
      " length        | 23748   \n",
      " level         | 2       \n",
      " location      | 886     \n",
      " method        | 2       \n",
      " page          | 22      \n",
      " registration  | 22247   \n",
      " sessionId     | 228713  \n",
      " song          | 253564  \n",
      " status        | 3       \n",
      " ts            | 5191762 \n",
      " userAgent     | 85      \n",
      " userId        | 22278   \n",
      " churn         | 2       \n",
      " browser       | 2       \n",
      " temp          | 58      \n",
      " os            | 12      \n",
      " brand         | 39      \n",
      " city          | 816     \n",
      " state         | 100     \n",
      " lead          | 5191517 \n",
      " tsDiff        | 376477"
     ]
    }
   ],
   "source": [
    "# show distinct values for each column and display vertically\n",
    "df.agg(*(F.countDistinct(c).alias(c) for c in df.columns)).show(vertical=True)"
   ]
  },
  {
   "cell_type": "markdown",
   "id": "fd455dda",
   "metadata": {},
   "source": [
    "### Create Pivots for Feature Engineering\n",
    "Most columns contain many distinct values. Because I am interested in determining whether a _future_ `user` will churn or not, I want to aggregate this information at the `user` level (i.e., one row per user, with a 1 or 0 in the `churn` column ). \n",
    "\n",
    "Here I pivot the `page` column using the `tsdiff` as my metric to be aggregated. "
   ]
  },
  {
   "cell_type": "code",
   "execution_count": 16,
   "id": "0c8c4de3",
   "metadata": {},
   "outputs": [
    {
     "data": {
      "application/vnd.jupyter.widget-view+json": {
       "model_id": "14b4cc9882f743ae84d9c6be608f12d5",
       "version_major": 2,
       "version_minor": 0
      },
      "text/plain": [
       "VBox()"
      ]
     },
     "metadata": {},
     "output_type": "display_data"
    },
    {
     "data": {
      "application/vnd.jupyter.widget-view+json": {
       "model_id": "",
       "version_major": 2,
       "version_minor": 0
      },
      "text/plain": [
       "FloatProgress(value=0.0, bar_style='info', description='Progress:', layout=Layout(height='25px', width='50%'),…"
      ]
     },
     "metadata": {},
     "output_type": "display_data"
    }
   ],
   "source": [
    "# create churn table\n",
    "user_churn_df = df.select(\"userId\",\"churn\") \\\n",
    "    .groupBy(\"userId\") \\\n",
    "    .sum(\"churn\") \\\n",
    "    .withColumnRenamed(\"sum(churn)\",\"churn\")"
   ]
  },
  {
   "cell_type": "code",
   "execution_count": 17,
   "id": "b58add84",
   "metadata": {},
   "outputs": [
    {
     "data": {
      "application/vnd.jupyter.widget-view+json": {
       "model_id": "9d9e5fd88ab343f7a199564a8717577e",
       "version_major": 2,
       "version_minor": 0
      },
      "text/plain": [
       "VBox()"
      ]
     },
     "metadata": {},
     "output_type": "display_data"
    },
    {
     "data": {
      "application/vnd.jupyter.widget-view+json": {
       "model_id": "",
       "version_major": 2,
       "version_minor": 0
      },
      "text/plain": [
       "FloatProgress(value=0.0, bar_style='info', description='Progress:', layout=Layout(height='25px', width='50%'),…"
      ]
     },
     "metadata": {},
     "output_type": "display_data"
    }
   ],
   "source": [
    "# create page table\n",
    "user_page_df = df.select(\"userId\",\"page\",\"tsDiff\") \\\n",
    "    .filter(df.page != \"Cancellation Confirmation\") \\\n",
    "    .filter(df.page != \"Cancel\") \\\n",
    "    .groupBy(\"userId\") \\\n",
    "    .pivot(\"page\") \\\n",
    "    .avg(\"tsDiff\")"
   ]
  },
  {
   "cell_type": "code",
   "execution_count": 18,
   "id": "afb4f5b4",
   "metadata": {},
   "outputs": [
    {
     "data": {
      "application/vnd.jupyter.widget-view+json": {
       "model_id": "817cbb42436c43458df41942926bdccd",
       "version_major": 2,
       "version_minor": 0
      },
      "text/plain": [
       "VBox()"
      ]
     },
     "metadata": {},
     "output_type": "display_data"
    },
    {
     "data": {
      "application/vnd.jupyter.widget-view+json": {
       "model_id": "",
       "version_major": 2,
       "version_minor": 0
      },
      "text/plain": [
       "FloatProgress(value=0.0, bar_style='info', description='Progress:', layout=Layout(height='25px', width='50%'),…"
      ]
     },
     "metadata": {},
     "output_type": "display_data"
    }
   ],
   "source": [
    "# create level table\n",
    "user_level = df.select(\"userId\",\"level\",\"sessionId\") \\\n",
    "    .groupBy(\"userId\") \\\n",
    "    .pivot(\"level\") \\\n",
    "    .count()\n",
    "\n",
    "user_level = user_level.select(F.col(\"userId\"), F.col(\"free\").cast(t.DoubleType()), F.col(\"paid\").cast(t.DoubleType()))"
   ]
  },
  {
   "cell_type": "code",
   "execution_count": 19,
   "id": "3790bac0",
   "metadata": {},
   "outputs": [
    {
     "data": {
      "application/vnd.jupyter.widget-view+json": {
       "model_id": "2d69fd46152c48948f4d999f25f8f0f9",
       "version_major": 2,
       "version_minor": 0
      },
      "text/plain": [
       "VBox()"
      ]
     },
     "metadata": {},
     "output_type": "display_data"
    },
    {
     "data": {
      "application/vnd.jupyter.widget-view+json": {
       "model_id": "",
       "version_major": 2,
       "version_minor": 0
      },
      "text/plain": [
       "FloatProgress(value=0.0, bar_style='info', description='Progress:', layout=Layout(height='25px', width='50%'),…"
      ]
     },
     "metadata": {},
     "output_type": "display_data"
    }
   ],
   "source": [
    "# create location table\n",
    "user_location = df.select(\"userId\",\"city\",\"state\",\"browser\",\"os\",\"brand\") \\\n",
    "    .dropDuplicates()"
   ]
  },
  {
   "cell_type": "code",
   "execution_count": 20,
   "id": "9b506ff9",
   "metadata": {},
   "outputs": [
    {
     "data": {
      "application/vnd.jupyter.widget-view+json": {
       "model_id": "72aac2b032de4593891618b171881849",
       "version_major": 2,
       "version_minor": 0
      },
      "text/plain": [
       "VBox()"
      ]
     },
     "metadata": {},
     "output_type": "display_data"
    },
    {
     "data": {
      "application/vnd.jupyter.widget-view+json": {
       "model_id": "",
       "version_major": 2,
       "version_minor": 0
      },
      "text/plain": [
       "FloatProgress(value=0.0, bar_style='info', description='Progress:', layout=Layout(height='25px', width='50%'),…"
      ]
     },
     "metadata": {},
     "output_type": "display_data"
    }
   ],
   "source": [
    "# join all the tables together\n",
    "user_data = user_churn_df.join(user_page_df, ['userId'], \"left\") \\\n",
    "    .join(user_level, ['userId'], \"left\") \\\n",
    "    .join(user_location, ['userId'], \"left\") \\\n",
    "    .drop(\"userId\")"
   ]
  },
  {
   "cell_type": "code",
   "execution_count": 21,
   "id": "343e7ea2",
   "metadata": {},
   "outputs": [
    {
     "data": {
      "application/vnd.jupyter.widget-view+json": {
       "model_id": "acb518cf324a4c97b8bba14df3876ed4",
       "version_major": 2,
       "version_minor": 0
      },
      "text/plain": [
       "VBox()"
      ]
     },
     "metadata": {},
     "output_type": "display_data"
    },
    {
     "data": {
      "application/vnd.jupyter.widget-view+json": {
       "model_id": "",
       "version_major": 2,
       "version_minor": 0
      },
      "text/plain": [
       "FloatProgress(value=0.0, bar_style='info', description='Progress:', layout=Layout(height='25px', width='50%'),…"
      ]
     },
     "metadata": {},
     "output_type": "display_data"
    }
   ],
   "source": [
    "# set all null values in categorical columns to 'missing'\n",
    "# set all null values in numeric columns to 0\n",
    "user_data = user_data.fillna({'city':'missing', 'state':'missing', 'browser':'missing', 'os':'missing','brand':'missing'})\n",
    "\n",
    "user_data = user_data.fillna({\n",
    "    'churn':0, 'About':0, 'Add Friend':0, 'Add to Playlist':0, 'Downgrade':0, 'Error':0, \n",
    "    'Help':0, 'Home':0, 'Login':0, 'Logout':0, 'NextSong':0, 'Register':0, 'Roll Advert':0, \n",
    "    'Save Settings': 0, 'Settings':0, 'Submit Downgrade':0, 'Submit Registration':0, 'Submit Upgrade':0, \n",
    "    'Thumbs Down':0, 'Thumbs Up':0, 'Upgrade':0, 'free':0, 'paid':0})"
   ]
  },
  {
   "cell_type": "code",
   "execution_count": 22,
   "id": "3d003f37",
   "metadata": {},
   "outputs": [
    {
     "data": {
      "application/vnd.jupyter.widget-view+json": {
       "model_id": "1396288314644a668c61a1454898ff35",
       "version_major": 2,
       "version_minor": 0
      },
      "text/plain": [
       "VBox()"
      ]
     },
     "metadata": {},
     "output_type": "display_data"
    },
    {
     "data": {
      "application/vnd.jupyter.widget-view+json": {
       "model_id": "",
       "version_major": 2,
       "version_minor": 0
      },
      "text/plain": [
       "FloatProgress(value=0.0, bar_style='info', description='Progress:', layout=Layout(height='25px', width='50%'),…"
      ]
     },
     "metadata": {},
     "output_type": "display_data"
    }
   ],
   "source": [
    "# rename 'churn' to 'label'\n",
    "user_data = user_data.withColumnRenamed(\"churn\",\"label\")"
   ]
  },
  {
   "cell_type": "markdown",
   "id": "71bf5073",
   "metadata": {},
   "source": [
    "# Modeling\n",
    "\n",
    "The data is ready to be modeled. I will use logistic regression on my user-level data. `label` is the column which defines whether the user churned or not. There are several columns that correspond to the pivot of the original `page` column (About, Add, etc. ) and use the timestamp-difference as their metric. I have other counts of events ( for 'free' and 'paid' ) as well as for the location column pivot (city, state) and `browser` pivot. "
   ]
  },
  {
   "cell_type": "markdown",
   "id": "b54a9a1a",
   "metadata": {},
   "source": [
    "### Columns used: "
   ]
  },
  {
   "cell_type": "code",
   "execution_count": 23,
   "id": "c35a8f78",
   "metadata": {},
   "outputs": [
    {
     "data": {
      "application/vnd.jupyter.widget-view+json": {
       "model_id": "a04e1c7c73cc4eb88265945c08f39104",
       "version_major": 2,
       "version_minor": 0
      },
      "text/plain": [
       "VBox()"
      ]
     },
     "metadata": {},
     "output_type": "display_data"
    },
    {
     "data": {
      "application/vnd.jupyter.widget-view+json": {
       "model_id": "",
       "version_major": 2,
       "version_minor": 0
      },
      "text/plain": [
       "FloatProgress(value=0.0, bar_style='info', description='Progress:', layout=Layout(height='25px', width='50%'),…"
      ]
     },
     "metadata": {},
     "output_type": "display_data"
    },
    {
     "name": "stdout",
     "output_type": "stream",
     "text": [
      "root\n",
      " |-- label: long (nullable = false)\n",
      " |-- About: double (nullable = false)\n",
      " |-- Add Friend: double (nullable = false)\n",
      " |-- Add to Playlist: double (nullable = false)\n",
      " |-- Downgrade: double (nullable = false)\n",
      " |-- Error: double (nullable = false)\n",
      " |-- Help: double (nullable = false)\n",
      " |-- Home: double (nullable = false)\n",
      " |-- Login: double (nullable = false)\n",
      " |-- Logout: double (nullable = false)\n",
      " |-- NextSong: double (nullable = false)\n",
      " |-- Register: double (nullable = false)\n",
      " |-- Roll Advert: double (nullable = false)\n",
      " |-- Save Settings: double (nullable = false)\n",
      " |-- Settings: double (nullable = false)\n",
      " |-- Submit Downgrade: double (nullable = false)\n",
      " |-- Submit Registration: double (nullable = false)\n",
      " |-- Submit Upgrade: double (nullable = false)\n",
      " |-- Thumbs Down: double (nullable = false)\n",
      " |-- Thumbs Up: double (nullable = false)\n",
      " |-- Upgrade: double (nullable = false)\n",
      " |-- free: double (nullable = false)\n",
      " |-- paid: double (nullable = false)\n",
      " |-- city: string (nullable = false)\n",
      " |-- state: string (nullable = false)\n",
      " |-- browser: string (nullable = false)\n",
      " |-- os: string (nullable = false)\n",
      " |-- brand: string (nullable = false)"
     ]
    }
   ],
   "source": [
    "user_data.printSchema()"
   ]
  },
  {
   "cell_type": "code",
   "execution_count": 24,
   "id": "d1c20ef3",
   "metadata": {},
   "outputs": [
    {
     "data": {
      "application/vnd.jupyter.widget-view+json": {
       "model_id": "5afb9d7bff874bb49a5361ad1b3c6808",
       "version_major": 2,
       "version_minor": 0
      },
      "text/plain": [
       "VBox()"
      ]
     },
     "metadata": {},
     "output_type": "display_data"
    },
    {
     "data": {
      "application/vnd.jupyter.widget-view+json": {
       "model_id": "",
       "version_major": 2,
       "version_minor": 0
      },
      "text/plain": [
       "FloatProgress(value=0.0, bar_style='info', description='Progress:', layout=Layout(height='25px', width='50%'),…"
      ]
     },
     "metadata": {},
     "output_type": "display_data"
    },
    {
     "name": "stdout",
     "output_type": "stream",
     "text": [
      "22278"
     ]
    }
   ],
   "source": [
    "# there are 22,278 users\n",
    "print(user_data.count())"
   ]
  },
  {
   "cell_type": "markdown",
   "id": "3b1efec2",
   "metadata": {},
   "source": [
    "### Split into training / testing sets\n",
    "\n",
    "Because each row is a distinct user it is easy to split hte data into training and testing sets. "
   ]
  },
  {
   "cell_type": "code",
   "execution_count": 25,
   "id": "0805c26f",
   "metadata": {},
   "outputs": [
    {
     "data": {
      "application/vnd.jupyter.widget-view+json": {
       "model_id": "1ffed35db8e04c8e97aaf2a882f63b13",
       "version_major": 2,
       "version_minor": 0
      },
      "text/plain": [
       "VBox()"
      ]
     },
     "metadata": {},
     "output_type": "display_data"
    },
    {
     "data": {
      "application/vnd.jupyter.widget-view+json": {
       "model_id": "",
       "version_major": 2,
       "version_minor": 0
      },
      "text/plain": [
       "FloatProgress(value=0.0, bar_style='info', description='Progress:', layout=Layout(height='25px', width='50%'),…"
      ]
     },
     "metadata": {},
     "output_type": "display_data"
    }
   ],
   "source": [
    "training, testing = user_data.randomSplit([0.9, 0.1], seed=100)"
   ]
  },
  {
   "cell_type": "markdown",
   "id": "08d88fea",
   "metadata": {},
   "source": [
    "### Pipeline"
   ]
  },
  {
   "cell_type": "code",
   "execution_count": null,
   "id": "33990527",
   "metadata": {},
   "outputs": [],
   "source": [
    "# encode categories in pipeline\n",
    "categ_pipeline = Pipeline(stages=[\n",
    "    StringIndexer(inputCol=\"city\",outputCol=\"cityIndex\", handleInvalid=\"skip\"),\n",
    "    StringIndexer(inputCol=\"state\",outputCol=\"stateIndex\", handleInvalid=\"skip\"),\n",
    "    StringIndexer(inputCol=\"browser\",outputCol=\"osIndex\", handleInvalid=\"skip\"),\n",
    "    StringIndexer(inputCol=\"os\",outputCol=\"browserIndex\", handleInvalid=\"skip\"),\n",
    "    StringIndexer(inputCol=\"brand\",outputCol=\"brandIndex\", handleInvalid=\"skip\"),\n",
    "    VectorAssembler(\n",
    "        inputCols=[\"cityIndex\",\"stateIndex\",\"osIndex\",\"browserIndex\",\"brandIndex\"], \n",
    "        outputCol=\"categ_features\"\n",
    "    )\n",
    "])"
   ]
  },
  {
   "cell_type": "code",
   "execution_count": 26,
   "id": "57df5df3",
   "metadata": {},
   "outputs": [
    {
     "data": {
      "application/vnd.jupyter.widget-view+json": {
       "model_id": "fb4f1e410517488e8c11226de1d358dc",
       "version_major": 2,
       "version_minor": 0
      },
      "text/plain": [
       "VBox()"
      ]
     },
     "metadata": {},
     "output_type": "display_data"
    },
    {
     "data": {
      "application/vnd.jupyter.widget-view+json": {
       "model_id": "",
       "version_major": 2,
       "version_minor": 0
      },
      "text/plain": [
       "FloatProgress(value=0.0, bar_style='info', description='Progress:', layout=Layout(height='25px', width='50%'),…"
      ]
     },
     "metadata": {},
     "output_type": "display_data"
    }
   ],
   "source": [
    "# encode categories in pipeline\n",
    "categ_pipeline = Pipeline(stages=[\n",
    "    StringIndexer(inputCols=['city','state','browser','os','brand'],outputCols=['cityIndex','stateIndex','osIndex','browserIndex','brandIndex'], handleInvalid='skip'),\n",
    "    VectorAssembler(\n",
    "        inputCols=[\"cityIndex\",\"stateIndex\",\"osIndex\",\"browserIndex\",\"brandIndex\"], \n",
    "        outputCol=\"categ_features\"\n",
    "    )\n",
    "])"
   ]
  },
  {
   "cell_type": "code",
   "execution_count": 27,
   "id": "ffc5decf",
   "metadata": {},
   "outputs": [
    {
     "data": {
      "application/vnd.jupyter.widget-view+json": {
       "model_id": "f4bac0734d1649bda7d949715ae1b7eb",
       "version_major": 2,
       "version_minor": 0
      },
      "text/plain": [
       "VBox()"
      ]
     },
     "metadata": {},
     "output_type": "display_data"
    },
    {
     "data": {
      "application/vnd.jupyter.widget-view+json": {
       "model_id": "",
       "version_major": 2,
       "version_minor": 0
      },
      "text/plain": [
       "FloatProgress(value=0.0, bar_style='info', description='Progress:', layout=Layout(height='25px', width='50%'),…"
      ]
     },
     "metadata": {},
     "output_type": "display_data"
    }
   ],
   "source": [
    "# nuermic columns\n",
    "numeric_cols = user_page_df.columns[1:] + user_level.columns[1:]\n",
    "# numeric pipeline\n",
    "numer_pipeline = Pipeline(stages=[\n",
    "    VectorAssembler(inputCols=numeric_cols, outputCol=\"numer_features\")\n",
    "])"
   ]
  },
  {
   "cell_type": "code",
   "execution_count": 28,
   "id": "e46f360b",
   "metadata": {},
   "outputs": [
    {
     "data": {
      "application/vnd.jupyter.widget-view+json": {
       "model_id": "32408c52e62f48218d21d18fd5f738f4",
       "version_major": 2,
       "version_minor": 0
      },
      "text/plain": [
       "VBox()"
      ]
     },
     "metadata": {},
     "output_type": "display_data"
    },
    {
     "data": {
      "application/vnd.jupyter.widget-view+json": {
       "model_id": "",
       "version_major": 2,
       "version_minor": 0
      },
      "text/plain": [
       "FloatProgress(value=0.0, bar_style='info', description='Progress:', layout=Layout(height='25px', width='50%'),…"
      ]
     },
     "metadata": {},
     "output_type": "display_data"
    }
   ],
   "source": [
    "# unite pipelines ( final features have to be named 'features')\n",
    "# unite pipelines\n",
    "final_pipeline = Pipeline(stages=[\n",
    "    categ_pipeline,\n",
    "    numer_pipeline,\n",
    "    VectorAssembler(\n",
    "        inputCols=[\"categ_features\",\"numer_features\"],\n",
    "        outputCol=\"features\"\n",
    "    ),\n",
    "    LogisticRegression(maxIter=10)\n",
    "])"
   ]
  },
  {
   "cell_type": "markdown",
   "id": "2ddfa689",
   "metadata": {},
   "source": [
    "### Cross-Validate"
   ]
  },
  {
   "cell_type": "code",
   "execution_count": 29,
   "id": "4d3eaa25",
   "metadata": {},
   "outputs": [
    {
     "data": {
      "application/vnd.jupyter.widget-view+json": {
       "model_id": "d7539218b2514666a4647ec85ed14c14",
       "version_major": 2,
       "version_minor": 0
      },
      "text/plain": [
       "VBox()"
      ]
     },
     "metadata": {},
     "output_type": "display_data"
    },
    {
     "data": {
      "application/vnd.jupyter.widget-view+json": {
       "model_id": "",
       "version_major": 2,
       "version_minor": 0
      },
      "text/plain": [
       "FloatProgress(value=0.0, bar_style='info', description='Progress:', layout=Layout(height='25px', width='50%'),…"
      ]
     },
     "metadata": {},
     "output_type": "display_data"
    }
   ],
   "source": [
    "# define parameters ( just one )\n",
    "paramGrid = ParamGridBuilder() \\\n",
    "    .addGrid(LogisticRegression.regParam, [0.1, 0.05, 0.01]) \\\n",
    "    .build()\n",
    "\n",
    "# optimize 3 fold cross-validation using the area under ROC curve\n",
    "crossval = CrossValidator(estimator=final_pipeline,\n",
    "                          estimatorParamMaps=paramGrid,\n",
    "                          evaluator=BinaryClassificationEvaluator(labelCol='label',metricName='areaUnderROC'),\n",
    "                          numFolds=2) "
   ]
  },
  {
   "cell_type": "code",
   "execution_count": 30,
   "id": "d6026c8a",
   "metadata": {},
   "outputs": [
    {
     "data": {
      "application/vnd.jupyter.widget-view+json": {
       "model_id": "b54f01ab8e6b42a688c2db577a81b324",
       "version_major": 2,
       "version_minor": 0
      },
      "text/plain": [
       "VBox()"
      ]
     },
     "metadata": {},
     "output_type": "display_data"
    },
    {
     "data": {
      "application/vnd.jupyter.widget-view+json": {
       "model_id": "",
       "version_major": 2,
       "version_minor": 0
      },
      "text/plain": [
       "FloatProgress(value=0.0, bar_style='info', description='Progress:', layout=Layout(height='25px', width='50%'),…"
      ]
     },
     "metadata": {},
     "output_type": "display_data"
    }
   ],
   "source": [
    "cvModel = crossval.fit(training)"
   ]
  },
  {
   "cell_type": "code",
   "execution_count": 31,
   "id": "5c5d7b0b",
   "metadata": {},
   "outputs": [
    {
     "data": {
      "application/vnd.jupyter.widget-view+json": {
       "model_id": "996e3c5181ef426a9ed0bfaca752d46b",
       "version_major": 2,
       "version_minor": 0
      },
      "text/plain": [
       "VBox()"
      ]
     },
     "metadata": {},
     "output_type": "display_data"
    },
    {
     "data": {
      "application/vnd.jupyter.widget-view+json": {
       "model_id": "",
       "version_major": 2,
       "version_minor": 0
      },
      "text/plain": [
       "FloatProgress(value=0.0, bar_style='info', description='Progress:', layout=Layout(height='25px', width='50%'),…"
      ]
     },
     "metadata": {},
     "output_type": "display_data"
    },
    {
     "name": "stdout",
     "output_type": "stream",
     "text": [
      "[0.7751949878121165, 0.775185330060725, 0.7751943482456591]"
     ]
    }
   ],
   "source": [
    "# certainly looks like the regParam is fine at 0.1\n",
    "cvModel.avgMetrics"
   ]
  },
  {
   "cell_type": "markdown",
   "id": "ee5ee920",
   "metadata": {},
   "source": [
    "### Fit on all training data using regParam = 0.1"
   ]
  },
  {
   "cell_type": "code",
   "execution_count": 32,
   "id": "6aa9ab73",
   "metadata": {},
   "outputs": [
    {
     "data": {
      "application/vnd.jupyter.widget-view+json": {
       "model_id": "16980bef5da8416888579f1ab86409b3",
       "version_major": 2,
       "version_minor": 0
      },
      "text/plain": [
       "VBox()"
      ]
     },
     "metadata": {},
     "output_type": "display_data"
    },
    {
     "data": {
      "application/vnd.jupyter.widget-view+json": {
       "model_id": "",
       "version_major": 2,
       "version_minor": 0
      },
      "text/plain": [
       "FloatProgress(value=0.0, bar_style='info', description='Progress:', layout=Layout(height='25px', width='50%'),…"
      ]
     },
     "metadata": {},
     "output_type": "display_data"
    }
   ],
   "source": [
    "# unite pipelines ( final features have to be named 'features')\n",
    "# unite pipelines\n",
    "final_pipeline2 = Pipeline(stages=[\n",
    "    categ_pipeline,\n",
    "    numer_pipeline,\n",
    "    VectorAssembler(\n",
    "        inputCols=[\"categ_features\",\"numer_features\"],\n",
    "        outputCol=\"features\"\n",
    "    ),\n",
    "    LogisticRegression(maxIter=10, regParam=0.1)\n",
    "])\n",
    "\n",
    "pipelineModel = final_pipeline2.fit(training)"
   ]
  },
  {
   "cell_type": "code",
   "execution_count": 34,
   "id": "e44fc986",
   "metadata": {},
   "outputs": [
    {
     "data": {
      "application/vnd.jupyter.widget-view+json": {
       "model_id": "d33eb50facd24f4995880a26daba98ef",
       "version_major": 2,
       "version_minor": 0
      },
      "text/plain": [
       "VBox()"
      ]
     },
     "metadata": {},
     "output_type": "display_data"
    },
    {
     "data": {
      "application/vnd.jupyter.widget-view+json": {
       "model_id": "",
       "version_major": 2,
       "version_minor": 0
      },
      "text/plain": [
       "FloatProgress(value=0.0, bar_style='info', description='Progress:', layout=Layout(height='25px', width='50%'),…"
      ]
     },
     "metadata": {},
     "output_type": "display_data"
    }
   ],
   "source": [
    "summaryPipeline = pipelineModel.stages[-1].summary"
   ]
  },
  {
   "cell_type": "code",
   "execution_count": 35,
   "id": "76a99d81",
   "metadata": {},
   "outputs": [
    {
     "data": {
      "application/vnd.jupyter.widget-view+json": {
       "model_id": "17a296f6ba314f58bd6ad525002369e2",
       "version_major": 2,
       "version_minor": 0
      },
      "text/plain": [
       "VBox()"
      ]
     },
     "metadata": {},
     "output_type": "display_data"
    },
    {
     "data": {
      "application/vnd.jupyter.widget-view+json": {
       "model_id": "",
       "version_major": 2,
       "version_minor": 0
      },
      "text/plain": [
       "FloatProgress(value=0.0, bar_style='info', description='Progress:', layout=Layout(height='25px', width='50%'),…"
      ]
     },
     "metadata": {},
     "output_type": "display_data"
    },
    {
     "name": "stdout",
     "output_type": "stream",
     "text": [
      "0.7762258692073627"
     ]
    }
   ],
   "source": [
    "summaryPipeline.accuracy"
   ]
  },
  {
   "cell_type": "code",
   "execution_count": 36,
   "id": "1df858ce",
   "metadata": {},
   "outputs": [
    {
     "data": {
      "application/vnd.jupyter.widget-view+json": {
       "model_id": "08ca2ff3590c44228a2e86b9e6949626",
       "version_major": 2,
       "version_minor": 0
      },
      "text/plain": [
       "VBox()"
      ]
     },
     "metadata": {},
     "output_type": "display_data"
    },
    {
     "data": {
      "application/vnd.jupyter.widget-view+json": {
       "model_id": "",
       "version_major": 2,
       "version_minor": 0
      },
      "text/plain": [
       "FloatProgress(value=0.0, bar_style='info', description='Progress:', layout=Layout(height='25px', width='50%'),…"
      ]
     },
     "metadata": {},
     "output_type": "display_data"
    },
    {
     "name": "stdout",
     "output_type": "stream",
     "text": [
      "0.7459488742662125"
     ]
    }
   ],
   "source": [
    "summaryPipeline.areaUnderROC"
   ]
  },
  {
   "cell_type": "code",
   "execution_count": 37,
   "id": "2f38ffa5",
   "metadata": {},
   "outputs": [
    {
     "data": {
      "application/vnd.jupyter.widget-view+json": {
       "model_id": "8121638681e540ab882eeab85fc200af",
       "version_major": 2,
       "version_minor": 0
      },
      "text/plain": [
       "VBox()"
      ]
     },
     "metadata": {},
     "output_type": "display_data"
    },
    {
     "data": {
      "application/vnd.jupyter.widget-view+json": {
       "model_id": "",
       "version_major": 2,
       "version_minor": 0
      },
      "text/plain": [
       "FloatProgress(value=0.0, bar_style='info', description='Progress:', layout=Layout(height='25px', width='50%'),…"
      ]
     },
     "metadata": {},
     "output_type": "display_data"
    }
   ],
   "source": [
    "# save roc data\n",
    "roc_df = pipelineModel.stages[-1].summary.roc"
   ]
  },
  {
   "cell_type": "code",
   "execution_count": 41,
   "id": "e66d1527",
   "metadata": {},
   "outputs": [
    {
     "data": {
      "application/vnd.jupyter.widget-view+json": {
       "model_id": "8c4baf8d91e7464c9995e52d08416374",
       "version_major": 2,
       "version_minor": 0
      },
      "text/plain": [
       "VBox()"
      ]
     },
     "metadata": {},
     "output_type": "display_data"
    },
    {
     "data": {
      "application/vnd.jupyter.widget-view+json": {
       "model_id": "",
       "version_major": 2,
       "version_minor": 0
      },
      "text/plain": [
       "FloatProgress(value=0.0, bar_style='info', description='Progress:', layout=Layout(height='25px', width='50%'),…"
      ]
     },
     "metadata": {},
     "output_type": "display_data"
    },
    {
     "name": "stdout",
     "output_type": "stream",
     "text": [
      "+--------------------+--------------------+\n",
      "|                 FPR|                 TPR|\n",
      "+--------------------+--------------------+\n",
      "|                 0.0|                 0.0|\n",
      "|0.003405950774371827|0.007356219349086...|\n",
      "|0.007840113103270999|0.014712438698172091|\n",
      "|0.010667694878221194|0.022737405260811413|\n",
      "|0.013945119208277103| 0.03366027641551494|\n",
      "|  0.0167727009832273|0.045697726259473916|\n",
      "|0.020178651757599125| 0.05840392331698618|\n",
      "| 0.02422723475355054| 0.06665180561747659|\n",
      "|0.028083028083028084| 0.07601426660722246|\n",
      "|0.031231925968768073| 0.08604547481052162|\n",
      "| 0.03418803418803419| 0.09786000891662952|\n",
      "| 0.03611593085277296| 0.11234953187695051|\n",
      "| 0.03791530107319581|  0.1268390548372715|\n",
      "|0.040614356403830085|  0.1388765046812305|\n",
      "|0.042799305957200696| 0.14957646009808293|\n",
      "| 0.04536983484351905| 0.16384306732055284|\n",
      "|0.047169205063941906|  0.1821221578243424|\n",
      "|  0.0499967868388921|  0.1963887650468123|\n",
      "| 0.05179615705931495| 0.20976370931787786|\n",
      "| 0.05417389627915944| 0.22336156932679446|\n",
      "+--------------------+--------------------+\n",
      "only showing top 20 rows"
     ]
    }
   ],
   "source": [
    "roc_df.show()"
   ]
  },
  {
   "cell_type": "code",
   "execution_count": 42,
   "id": "3e34b6e5",
   "metadata": {},
   "outputs": [
    {
     "data": {
      "application/vnd.jupyter.widget-view+json": {
       "model_id": "a38ab0f9ca494f87a1f6898b8b1a767a",
       "version_major": 2,
       "version_minor": 0
      },
      "text/plain": [
       "VBox()"
      ]
     },
     "metadata": {},
     "output_type": "display_data"
    },
    {
     "data": {
      "application/vnd.jupyter.widget-view+json": {
       "model_id": "",
       "version_major": 2,
       "version_minor": 0
      },
      "text/plain": [
       "FloatProgress(value=0.0, bar_style='info', description='Progress:', layout=Layout(height='25px', width='50%'),…"
      ]
     },
     "metadata": {},
     "output_type": "display_data"
    },
    {
     "name": "stdout",
     "output_type": "stream",
     "text": [
      "coefficients: DenseMatrix([[-8.87449842e-06,  1.04839756e-03,  1.27292957e-03,\n",
      "              -3.89446486e-03,  1.05170962e-03, -5.64071471e-07,\n",
      "              -6.69006951e-02, -4.86610949e-06, -1.08559312e-05,\n",
      "              -1.49422038e-06, -4.94776114e-07, -1.28371334e-06,\n",
      "              -4.76002682e-04, -1.17992206e-01, -2.13477950e-05,\n",
      "               4.18354763e-05, -1.10586623e-05, -1.31596707e-01,\n",
      "               1.21359388e-06, -4.67655746e-02,  1.40929771e+00,\n",
      "               4.63190821e-02, -8.59059618e-06, -2.05167384e-05,\n",
      "              -8.39993873e-06,  8.99917601e-06, -2.82237526e-05]])"
     ]
    }
   ],
   "source": [
    "# there definitely seems to be a browser issue\n",
    "print(\"coefficients: \" + str(pipelineModel.stages[-1].coefficientMatrix))"
   ]
  },
  {
   "cell_type": "code",
   "execution_count": 43,
   "id": "8bfeaa96",
   "metadata": {},
   "outputs": [
    {
     "data": {
      "application/vnd.jupyter.widget-view+json": {
       "model_id": "2f6065079d4e4ee1b3b1c4fc289a5bc6",
       "version_major": 2,
       "version_minor": 0
      },
      "text/plain": [
       "VBox()"
      ]
     },
     "metadata": {},
     "output_type": "display_data"
    },
    {
     "data": {
      "application/vnd.jupyter.widget-view+json": {
       "model_id": "",
       "version_major": 2,
       "version_minor": 0
      },
      "text/plain": [
       "FloatProgress(value=0.0, bar_style='info', description='Progress:', layout=Layout(height='25px', width='50%'),…"
      ]
     },
     "metadata": {},
     "output_type": "display_data"
    }
   ],
   "source": [
    "coeffs = pipelineModel.stages[-1].coefficientMatrix"
   ]
  },
  {
   "cell_type": "code",
   "execution_count": 61,
   "id": "a24b195c",
   "metadata": {},
   "outputs": [
    {
     "data": {
      "application/vnd.jupyter.widget-view+json": {
       "model_id": "",
       "version_major": 2,
       "version_minor": 0
      },
      "text/plain": [
       "VBox()"
      ]
     },
     "metadata": {},
     "output_type": "display_data"
    },
    {
     "data": {
      "application/vnd.jupyter.widget-view+json": {
       "model_id": "",
       "version_major": 2,
       "version_minor": 0
      },
      "text/plain": [
       "FloatProgress(value=0.0, bar_style='info', description='Progress:', layout=Layout(height='25px', width='50%'),…"
      ]
     },
     "metadata": {},
     "output_type": "display_data"
    },
    {
     "name": "stderr",
     "output_type": "stream",
     "text": [
      "No module named 'pandas'\n",
      "Traceback (most recent call last):\n",
      "ModuleNotFoundError: No module named 'pandas'\n",
      "\n"
     ]
    }
   ],
   "source": [
    "import pandas as pd"
   ]
  },
  {
   "cell_type": "code",
   "execution_count": 87,
   "id": "1c87a3e8",
   "metadata": {},
   "outputs": [
    {
     "data": {
      "application/vnd.jupyter.widget-view+json": {
       "model_id": "6489abb699604ef782e60c185ced66f4",
       "version_major": 2,
       "version_minor": 0
      },
      "text/plain": [
       "VBox()"
      ]
     },
     "metadata": {},
     "output_type": "display_data"
    },
    {
     "data": {
      "application/vnd.jupyter.widget-view+json": {
       "model_id": "",
       "version_major": 2,
       "version_minor": 0
      },
      "text/plain": [
       "FloatProgress(value=0.0, bar_style='info', description='Progress:', layout=Layout(height='25px', width='50%'),…"
      ]
     },
     "metadata": {},
     "output_type": "display_data"
    }
   ],
   "source": [
    "odds_ratios = np.around(np.exp(coeffs.toArray()),2).tolist()\n",
    "feature_list = ['cityIndex','stateIndex','osIndex','browserIndex','brandIndex'] + numeric_cols"
   ]
  },
  {
   "cell_type": "code",
   "execution_count": 88,
   "id": "8e05613f",
   "metadata": {},
   "outputs": [
    {
     "data": {
      "application/vnd.jupyter.widget-view+json": {
       "model_id": "fd18292a09604c0eac84255563e8ca3f",
       "version_major": 2,
       "version_minor": 0
      },
      "text/plain": [
       "VBox()"
      ]
     },
     "metadata": {},
     "output_type": "display_data"
    },
    {
     "data": {
      "application/vnd.jupyter.widget-view+json": {
       "model_id": "",
       "version_major": 2,
       "version_minor": 0
      },
      "text/plain": [
       "FloatProgress(value=0.0, bar_style='info', description='Progress:', layout=Layout(height='25px', width='50%'),…"
      ]
     },
     "metadata": {},
     "output_type": "display_data"
    }
   ],
   "source": [
    "odds_ratios_df = spark.createDataFrame(\n",
    "    [ t for t in zip(odds_ratios[0], feature_list)],\n",
    "    [\"or\", \"feature\"]\n",
    ")"
   ]
  },
  {
   "cell_type": "code",
   "execution_count": 90,
   "id": "33fd20a8",
   "metadata": {},
   "outputs": [
    {
     "data": {
      "application/vnd.jupyter.widget-view+json": {
       "model_id": "f40549cc3fe24ac7983187f6013d8a57",
       "version_major": 2,
       "version_minor": 0
      },
      "text/plain": [
       "VBox()"
      ]
     },
     "metadata": {},
     "output_type": "display_data"
    },
    {
     "data": {
      "application/vnd.jupyter.widget-view+json": {
       "model_id": "",
       "version_major": 2,
       "version_minor": 0
      },
      "text/plain": [
       "FloatProgress(value=0.0, bar_style='info', description='Progress:', layout=Layout(height='25px', width='50%'),…"
      ]
     },
     "metadata": {},
     "output_type": "display_data"
    },
    {
     "name": "stdout",
     "output_type": "stream",
     "text": [
      "+----+-------------------+\n",
      "|  or|            feature|\n",
      "+----+-------------------+\n",
      "| 1.0|          cityIndex|\n",
      "| 1.0|         stateIndex|\n",
      "| 1.0|            osIndex|\n",
      "| 1.0|       browserIndex|\n",
      "| 1.0|         brandIndex|\n",
      "| 1.0|              About|\n",
      "|0.94|         Add Friend|\n",
      "| 1.0|    Add to Playlist|\n",
      "| 1.0|          Downgrade|\n",
      "| 1.0|              Error|\n",
      "| 1.0|               Help|\n",
      "| 1.0|               Home|\n",
      "| 1.0|              Login|\n",
      "|0.89|             Logout|\n",
      "| 1.0|           NextSong|\n",
      "| 1.0|           Register|\n",
      "| 1.0|        Roll Advert|\n",
      "|0.88|      Save Settings|\n",
      "| 1.0|           Settings|\n",
      "|0.95|   Submit Downgrade|\n",
      "|4.09|Submit Registration|\n",
      "|1.05|     Submit Upgrade|\n",
      "| 1.0|        Thumbs Down|\n",
      "| 1.0|          Thumbs Up|\n",
      "| 1.0|            Upgrade|\n",
      "| 1.0|               free|\n",
      "| 1.0|               paid|\n",
      "+----+-------------------+"
     ]
    }
   ],
   "source": [
    "odds_ratios_df.show(30)"
   ]
  },
  {
   "cell_type": "code",
   "execution_count": null,
   "id": "b07134e3",
   "metadata": {},
   "outputs": [],
   "source": []
  }
 ],
 "metadata": {
  "kernelspec": {
   "display_name": "PySpark",
   "language": "",
   "name": "pysparkkernel"
  },
  "language_info": {
   "codemirror_mode": {
    "name": "python",
    "version": 2
   },
   "mimetype": "text/x-python",
   "name": "pyspark",
   "pygments_lexer": "python2"
  }
 },
 "nbformat": 4,
 "nbformat_minor": 5
}
